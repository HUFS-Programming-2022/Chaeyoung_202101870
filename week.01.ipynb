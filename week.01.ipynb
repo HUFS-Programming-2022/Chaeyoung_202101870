{
 "cells": [
  {
   "cell_type": "markdown",
   "id": "5280bce3",
   "metadata": {},
   "source": [
    "# CH01. 데이터: 타입, 값, 변수, 이름"
   ]
  },
  {
   "cell_type": "markdown",
   "id": "8d1f574e",
   "metadata": {},
   "source": [
    "### 01. 타입\n",
    "파이썬 기본 데이터 타입으로, 그 종류에는 bool, int, float, str, tuple 등 여러가지 타입이 있음"
   ]
  },
  {
   "cell_type": "markdown",
   "id": "152e0605",
   "metadata": {},
   "source": [
    "### 02. 가변성\n",
    "파이썬에서 값은 변경 가능하지만 객체의 타입은 변경할 수 없음"
   ]
  },
  {
   "cell_type": "markdown",
   "id": "9fd2eb78",
   "metadata": {},
   "source": [
    "### 03. 리터럴 값 \n",
    "파이썬에서 데이터 값을 명시하는 방법에는 리터럴과 변수로 총 2가지가 있음"
   ]
  },
  {
   "cell_type": "markdown",
   "id": "acff4c9a",
   "metadata": {},
   "source": [
    "### 04. 변수\n",
    "*규칙\n",
    "1)다음 문자만 사용가능\n",
    "소문자(a~z)\n",
    "대문자(A~Z)\n",
    "숫자(0~9)\n",
    "언더바(_)\n",
    "2)대소 문자를 구분함\n",
    "3)숫자가 아닌 문자나 언더바로 시작함\n",
    "4)언더바로 시작하는 이름은 특별하게 취급함"
   ]
  },
  {
   "cell_type": "markdown",
   "id": "87bc00ee",
   "metadata": {},
   "source": [
    "사용가능한 변수 이름\n",
    "b\n",
    "b2\n",
    "a_b_c__87\n",
    "_abc\n",
    "_2a"
   ]
  },
  {
   "cell_type": "markdown",
   "id": "a58474e4",
   "metadata": {},
   "source": [
    "사용불가능한 변수 이름 \n",
    "3\n",
    "8a\n",
    "9_\n",
    "color!\n",
    "other-name"
   ]
  },
  {
   "cell_type": "markdown",
   "id": "dff46794",
   "metadata": {},
   "source": [
    "### 05. 할당\n",
    "=는 양변이 같음을 의미하나, 파이썬에서는 할당으로 표현함.\n",
    "오른쪽 값을 왼쪽 변수에 할당한다는 의미로 볼 수 있음.\n"
   ]
  },
  {
   "cell_type": "code",
   "execution_count": 16,
   "id": "3ff75586",
   "metadata": {},
   "outputs": [
    {
     "data": {
      "text/plain": [
       "18"
      ]
     },
     "execution_count": 16,
     "metadata": {},
     "output_type": "execute_result"
    }
   ],
   "source": [
    "a = 9\n",
    "b = a + 9\n",
    "b"
   ]
  },
  {
   "cell_type": "code",
   "execution_count": 19,
   "id": "e7496ef0",
   "metadata": {},
   "outputs": [
    {
     "data": {
      "text/plain": [
       "11"
      ]
     },
     "execution_count": 19,
     "metadata": {},
     "output_type": "execute_result"
    }
   ],
   "source": [
    "c = 3\n",
    "d = c + 8\n",
    "d"
   ]
  },
  {
   "cell_type": "code",
   "execution_count": 20,
   "id": "4fea9b9d",
   "metadata": {},
   "outputs": [
    {
     "data": {
      "text/plain": [
       "3"
      ]
     },
     "execution_count": 20,
     "metadata": {},
     "output_type": "execute_result"
    }
   ],
   "source": [
    "e = 2\n",
    "f = e + 1\n",
    "f"
   ]
  },
  {
   "cell_type": "code",
   "execution_count": 21,
   "id": "082cf805",
   "metadata": {},
   "outputs": [
    {
     "data": {
      "text/plain": [
       "1800000"
      ]
     },
     "execution_count": 21,
     "metadata": {},
     "output_type": "execute_result"
    }
   ],
   "source": [
    "n = 1000000\n",
    "m = n + 800000\n",
    "m"
   ]
  },
  {
   "cell_type": "code",
   "execution_count": 22,
   "id": "3eed68f7",
   "metadata": {},
   "outputs": [
    {
     "data": {
      "text/plain": [
       "2010"
      ]
     },
     "execution_count": 22,
     "metadata": {},
     "output_type": "execute_result"
    }
   ],
   "source": [
    "r = 2007\n",
    "k = r + 3\n",
    "k"
   ]
  },
  {
   "cell_type": "markdown",
   "id": "0381eea8",
   "metadata": {},
   "source": [
    "### 06. 변수는 장소가 아니라 이름이다\n",
    "변수는 단지 이름이며, 할당은 값을 복사하지 않음.\n",
    "단지 데이터를 포함하는 객체에 이름을 붙임."
   ]
  },
  {
   "cell_type": "code",
   "execution_count": 8,
   "id": "35a28eed",
   "metadata": {},
   "outputs": [
    {
     "name": "stdout",
     "output_type": "stream",
     "text": [
      "5\n"
     ]
    }
   ],
   "source": [
    "a = 5\n",
    "print(a)"
   ]
  },
  {
   "cell_type": "code",
   "execution_count": 9,
   "id": "85000efb",
   "metadata": {},
   "outputs": [
    {
     "name": "stdout",
     "output_type": "stream",
     "text": [
      "7\n"
     ]
    }
   ],
   "source": [
    "b = 7\n",
    "print(b)"
   ]
  },
  {
   "cell_type": "code",
   "execution_count": 10,
   "id": "74fa75a7",
   "metadata": {},
   "outputs": [
    {
     "data": {
      "text/plain": [
       "1"
      ]
     },
     "execution_count": 10,
     "metadata": {},
     "output_type": "execute_result"
    }
   ],
   "source": [
    "one = hana = 1\n",
    "one"
   ]
  },
  {
   "cell_type": "code",
   "execution_count": 11,
   "id": "32144c81",
   "metadata": {},
   "outputs": [
    {
     "data": {
      "text/plain": [
       "7"
      ]
     },
     "execution_count": 11,
     "metadata": {},
     "output_type": "execute_result"
    }
   ],
   "source": [
    "x = 7\n",
    "x"
   ]
  },
  {
   "cell_type": "code",
   "execution_count": 12,
   "id": "ec3fb76a",
   "metadata": {},
   "outputs": [
    {
     "data": {
      "text/plain": [
       "7"
      ]
     },
     "execution_count": 12,
     "metadata": {},
     "output_type": "execute_result"
    }
   ],
   "source": [
    "y = x\n",
    "y"
   ]
  },
  {
   "cell_type": "code",
   "execution_count": 13,
   "id": "a3000ac2",
   "metadata": {},
   "outputs": [
    {
     "data": {
      "text/plain": [
       "100006"
      ]
     },
     "execution_count": 13,
     "metadata": {},
     "output_type": "execute_result"
    }
   ],
   "source": [
    "x = 100006\n",
    "x"
   ]
  },
  {
   "cell_type": "code",
   "execution_count": 14,
   "id": "d6cd9769",
   "metadata": {},
   "outputs": [
    {
     "data": {
      "text/plain": [
       "7"
      ]
     },
     "execution_count": 14,
     "metadata": {},
     "output_type": "execute_result"
    }
   ],
   "source": [
    "y"
   ]
  },
  {
   "cell_type": "markdown",
   "id": "759f6554",
   "metadata": {},
   "source": [
    "### 07. 좋은 변수 이름 \n",
    "변수에는 적절한 이름을 선택하는 것이 매우 중요함. 변수의 이름만 보고도 대충 이 코드의 내용이 무엇인지 유추가 가능하다면 이를 좋은 변수의 이름이라고 말할 수 있음. "
   ]
  },
  {
   "cell_type": "markdown",
   "id": "07d04a1c",
   "metadata": {},
   "source": [
    "단순 a,b가 아니라 name, grade, color와 같이 명확하고 간결한 단어로 표현하는 것!"
   ]
  }
 ],
 "metadata": {
  "kernelspec": {
   "display_name": "Python 3 (ipykernel)",
   "language": "python",
   "name": "python3"
  },
  "language_info": {
   "codemirror_mode": {
    "name": "ipython",
    "version": 3
   },
   "file_extension": ".py",
   "mimetype": "text/x-python",
   "name": "python",
   "nbconvert_exporter": "python",
   "pygments_lexer": "ipython3",
   "version": "3.9.7"
  }
 },
 "nbformat": 4,
 "nbformat_minor": 5
}
