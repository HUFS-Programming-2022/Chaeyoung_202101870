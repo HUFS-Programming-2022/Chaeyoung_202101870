{
 "cells": [
  {
   "cell_type": "markdown",
   "id": "ca8f04d8",
   "metadata": {},
   "source": [
    "# CH.02 변수\n",
    "##### 자료형 변환하기 "
   ]
  },
  {
   "cell_type": "markdown",
   "id": "3f542443",
   "metadata": {},
   "source": [
    "int -> 정수형 타입 변환 코드"
   ]
  },
  {
   "cell_type": "code",
   "execution_count": 3,
   "id": "ec6f18f4",
   "metadata": {},
   "outputs": [
    {
     "data": {
      "text/plain": [
       "7"
      ]
     },
     "execution_count": 3,
     "metadata": {},
     "output_type": "execute_result"
    }
   ],
   "source": [
    "n = 7\n",
    "int(n)"
   ]
  },
  {
   "cell_type": "markdown",
   "id": "74d59bcf",
   "metadata": {},
   "source": [
    "float -> 소수점 타입 변환 코드"
   ]
  },
  {
   "cell_type": "code",
   "execution_count": 5,
   "id": "34e4b738",
   "metadata": {},
   "outputs": [
    {
     "data": {
      "text/plain": [
       "7.0"
      ]
     },
     "execution_count": 5,
     "metadata": {},
     "output_type": "execute_result"
    }
   ],
   "source": [
    "n = 7\n",
    "float(7)"
   ]
  },
  {
   "cell_type": "markdown",
   "id": "2ca235a7",
   "metadata": {},
   "source": [
    "str -> 텍스트 문자열 타입 변환 코드"
   ]
  },
  {
   "cell_type": "code",
   "execution_count": 6,
   "id": "b31a8767",
   "metadata": {},
   "outputs": [
    {
     "data": {
      "text/plain": [
       "'7'"
      ]
     },
     "execution_count": 6,
     "metadata": {},
     "output_type": "execute_result"
    }
   ],
   "source": [
    "n = 7\n",
    "str(7)"
   ]
  },
  {
   "cell_type": "markdown",
   "id": "2f12c975",
   "metadata": {},
   "source": [
    "팁! \n",
    "1) print()에서 입력하는 라인이 짧을 때는 아래와 같이 입력한다.\n",
    "2) default 키는 띄어쓰기, 줄바꾸기의 의미이다. "
   ]
  },
  {
   "cell_type": "markdown",
   "id": "ec3a3a88",
   "metadata": {},
   "source": [
    "input 함수 \n",
    "입출력과 관련된 코드로 입력받는 값의 타입은 문자열이고, 입력 받은 값을 변수에 담아 이용한다. "
   ]
  },
  {
   "cell_type": "markdown",
   "id": "b1db2833",
   "metadata": {},
   "source": [
    "input(\"what's your hobby?\")"
   ]
  },
  {
   "cell_type": "markdown",
   "id": "67ce33aa",
   "metadata": {},
   "source": [
    "# CH.03 숫자 "
   ]
  },
  {
   "cell_type": "markdown",
   "id": "ddaded99",
   "metadata": {},
   "source": [
    "#### 01. 불리언(boolean) \n",
    "1)불리언 데이터 타입의 유일한 값은 true와 fasle\n",
    "2)타입의 진위 확인을 위해 사용\n",
    "3)0이 아닌 값은 true로, 0인 값은 false로 인식"
   ]
  },
  {
   "cell_type": "code",
   "execution_count": 7,
   "id": "a3333c10",
   "metadata": {},
   "outputs": [
    {
     "data": {
      "text/plain": [
       "True"
      ]
     },
     "execution_count": 7,
     "metadata": {},
     "output_type": "execute_result"
    }
   ],
   "source": [
    "bool(2)"
   ]
  },
  {
   "cell_type": "code",
   "execution_count": 8,
   "id": "f8f8acdb",
   "metadata": {},
   "outputs": [
    {
     "data": {
      "text/plain": [
       "False"
      ]
     },
     "execution_count": 8,
     "metadata": {},
     "output_type": "execute_result"
    }
   ],
   "source": [
    "bool(0)"
   ]
  },
  {
   "cell_type": "markdown",
   "id": "373f36bb",
   "metadata": {},
   "source": [
    "#### 02. 정수 \n",
    "정수나 분수나 소수점이 없는 모든 숫자이며, 정수 앞에는 부호가 올 수 있다. 일반적인 10진수 외 다른 진수로 숫자를 표현할 수도 있다."
   ]
  },
  {
   "cell_type": "markdown",
   "id": "38e257ff",
   "metadata": {},
   "source": [
    "(1) 리터럴 정수 \n",
    "(주의: 0을 다른 숫자 앞에 넣을 수 없다.)"
   ]
  },
  {
   "cell_type": "code",
   "execution_count": 10,
   "id": "7bc13630",
   "metadata": {},
   "outputs": [
    {
     "data": {
      "text/plain": [
       "5"
      ]
     },
     "execution_count": 10,
     "metadata": {},
     "output_type": "execute_result"
    }
   ],
   "source": [
    "5"
   ]
  },
  {
   "cell_type": "code",
   "execution_count": 11,
   "id": "6e292b9b",
   "metadata": {},
   "outputs": [
    {
     "ename": "SyntaxError",
     "evalue": "leading zeros in decimal integer literals are not permitted; use an 0o prefix for octal integers (Temp/ipykernel_12056/1607649861.py, line 1)",
     "output_type": "error",
     "traceback": [
      "\u001b[1;36m  File \u001b[1;32m\"C:\\Users\\Owner\\AppData\\Local\\Temp/ipykernel_12056/1607649861.py\"\u001b[1;36m, line \u001b[1;32m1\u001b[0m\n\u001b[1;33m    08\u001b[0m\n\u001b[1;37m     ^\u001b[0m\n\u001b[1;31mSyntaxError\u001b[0m\u001b[1;31m:\u001b[0m leading zeros in decimal integer literals are not permitted; use an 0o prefix for octal integers\n"
     ]
    }
   ],
   "source": [
    "08"
   ]
  },
  {
   "cell_type": "code",
   "execution_count": null,
   "id": "05676831",
   "metadata": {},
   "outputs": [],
   "source": [
    "(2) 정수 연산자 \n",
    "+(더하기)\n",
    "-(빼기)\n",
    "*(곱하기)\n",
    "/(부동소수점 나누기)\n",
    "//(정수 나누기)\n",
    "% (나머지)\n",
    "**(지수)\n",
    "\n",
    "#숫자나 연산자 사이에 있는 공백은 무시"
   ]
  },
  {
   "cell_type": "code",
   "execution_count": 18,
   "id": "257e4a95",
   "metadata": {},
   "outputs": [
    {
     "data": {
      "text/plain": [
       "12"
      ]
     },
     "execution_count": 18,
     "metadata": {},
     "output_type": "execute_result"
    }
   ],
   "source": [
    "4 + 8"
   ]
  },
  {
   "cell_type": "code",
   "execution_count": 19,
   "id": "84014f7c",
   "metadata": {},
   "outputs": [
    {
     "data": {
      "text/plain": [
       "92"
      ]
     },
     "execution_count": 19,
     "metadata": {},
     "output_type": "execute_result"
    }
   ],
   "source": [
    "100 - 8"
   ]
  },
  {
   "cell_type": "code",
   "execution_count": 22,
   "id": "7045ba69",
   "metadata": {},
   "outputs": [
    {
     "data": {
      "text/plain": [
       "1"
      ]
     },
     "execution_count": 22,
     "metadata": {},
     "output_type": "execute_result"
    }
   ],
   "source": [
    "8 // 6  #소수점은 버림"
   ]
  },
  {
   "cell_type": "code",
   "execution_count": null,
   "id": "fb94cff1",
   "metadata": {},
   "outputs": [],
   "source": [
    "(3) 정수와 변수"
   ]
  },
  {
   "cell_type": "code",
   "execution_count": 26,
   "id": "607d45b2",
   "metadata": {},
   "outputs": [
    {
     "data": {
      "text/plain": [
       "84"
      ]
     },
     "execution_count": 26,
     "metadata": {},
     "output_type": "execute_result"
    }
   ],
   "source": [
    "b = 87\n",
    "b-3"
   ]
  },
  {
   "cell_type": "markdown",
   "id": "6312eaeb",
   "metadata": {},
   "source": [
    "(4) 연산순서\n",
    "곱셈이 덧셈보다 높은 우선순위를 가지고 있지만, 연산순서를 다 기억하려고 하기보다는 우선적으로 계산해야할 수식에 (  )를 표시하여 수월하게 계산가능"
   ]
  },
  {
   "cell_type": "code",
   "execution_count": null,
   "id": "f579b2c8",
   "metadata": {},
   "outputs": [],
   "source": [
    "(5) 타입변환"
   ]
  },
  {
   "cell_type": "markdown",
   "id": "55117b9e",
   "metadata": {},
   "source": [
    "int함수 : 소수점 이하 숫자는 버리고 정수만 반환\n",
    "1) 부동소수점 숫자를 정수로 변환하면 소수점을 버리고 정수를 출력\n",
    "2) int 함수는 숫자가 아닌 다른 문자를 변환하게 되면 에러가 발생"
   ]
  },
  {
   "cell_type": "code",
   "execution_count": 27,
   "id": "dbe9b0ff",
   "metadata": {},
   "outputs": [
    {
     "data": {
      "text/plain": [
       "97"
      ]
     },
     "execution_count": 27,
     "metadata": {},
     "output_type": "execute_result"
    }
   ],
   "source": [
    "int(97.999)"
   ]
  },
  {
   "cell_type": "markdown",
   "id": "91b5eb42",
   "metadata": {},
   "source": [
    "float함수 : 부동소수점 숫자로 타입 변환을 위한 함수\n",
    "1) 정수에서 부동소수점 숫자로 변환 시, 간단한 소수점이 붙음\n",
    "2) 정수와 부동소수점 숫자를 같이 사용하면, 자동으로 정수 타입을 부동소수점 타입으로 변환"
   ]
  },
  {
   "cell_type": "markdown",
   "id": "65ed5277",
   "metadata": {},
   "source": [
    "# CH04. if "
   ]
  },
  {
   "cell_type": "markdown",
   "id": "70cd97e6",
   "metadata": {},
   "source": [
    "1. 주석 달기 \n",
    "코드를 설명하거나 나중에 어떤 문제를 고치기 위해 표시하는 등 다양한 목적으로 주석은 사용 가능함. \n",
    "(#) -> 해시, 샤프, 파운드, 옥토소프 등 다양한 이름을 가짐\n",
    "주석은 #문자부터 그 라인의 끝가지 효력을 발휘함"
   ]
  },
  {
   "cell_type": "markdown",
   "id": "1c8d9d0d",
   "metadata": {},
   "source": [
    "2. 라인 유지하기\n",
    "코드가 짧으면 프로그램을 훨씬 수월하게 읽을 수 있기에, 백슬래시 문자를 입력하여 길이가 긴 코드를 정리할 수 있음"
   ]
  },
  {
   "cell_type": "markdown",
   "id": "b4fd8424",
   "metadata": {},
   "source": [
    "### 비교하기 if / elif / else "
   ]
  },
  {
   "cell_type": "markdown",
   "id": "700837eb",
   "metadata": {},
   "source": [
    "1. 비교연산자\n",
    "== 같다\n",
    "!= 다르다\n",
    "< 보다 작다\n",
    "<= 보다 작거나 같다\n",
    "> 보다 크다\n",
    ">= 보다 크거나 같다"
   ]
  },
  {
   "cell_type": "markdown",
   "id": "aa336b23",
   "metadata": {},
   "source": [
    "if문 코드 사용\n",
    "if [조건식]: \n",
    "[실행 코드입력]"
   ]
  },
  {
   "cell_type": "markdown",
   "id": "52da86be",
   "metadata": {},
   "source": [
    "if-else문 코드 사용\n",
    "if [조건식]:\n",
    "실행코드1\n",
    "else: \n",
    "실행코드2"
   ]
  },
  {
   "cell_type": "markdown",
   "id": "3a3ed81f",
   "metadata": {},
   "source": [
    "if-elif문 코드 사용\n",
    "if [조건식1]:\n",
    "실행코드1\n",
    "elif [조건식2]:\n",
    "실행코드2\n",
    "elif [조건식3]:\n",
    "실행코드3\n",
    "else: \n",
    "실행코드4"
   ]
  },
  {
   "cell_type": "markdown",
   "id": "1a0a10d1",
   "metadata": {},
   "source": [
    "#### if문 실습"
   ]
  },
  {
   "cell_type": "code",
   "execution_count": 34,
   "id": "31753d7c",
   "metadata": {},
   "outputs": [
    {
     "name": "stdout",
     "output_type": "stream",
     "text": [
      "단어시험점수80\n",
      "True\n"
     ]
    }
   ],
   "source": [
    "grade = int(input('단어시험점수'))\n",
    "if grade >= 60:\n",
    "    print('True')\n",
    "else:\n",
    "    print('False')"
   ]
  },
  {
   "cell_type": "code",
   "execution_count": 33,
   "id": "565b3761",
   "metadata": {},
   "outputs": [
    {
     "name": "stdout",
     "output_type": "stream",
     "text": [
      "단어시험점수90\n",
      "B\n"
     ]
    }
   ],
   "source": [
    "grade = int(input('단어시험점수'))\n",
    "if grade >= 100:\n",
    "    print('A')\n",
    "elif grade >= 90:\n",
    "    print('B')\n",
    "elif grade >= 80:\n",
    "    print('C')\n",
    "else:\n",
    "    print('F')"
   ]
  },
  {
   "cell_type": "code",
   "execution_count": 1,
   "id": "94ec5b13",
   "metadata": {},
   "outputs": [
    {
     "name": "stdout",
     "output_type": "stream",
     "text": [
      "당신의 키를 입력하세요:180\n",
      "True\n"
     ]
    }
   ],
   "source": [
    "height = int(input('당신의 키를 입력하세요:'))\n",
    "if height >= 180:\n",
    "    print('True')\n",
    "else:\n",
    "    print('False')"
   ]
  },
  {
   "cell_type": "code",
   "execution_count": 3,
   "id": "9f1999c6",
   "metadata": {},
   "outputs": [
    {
     "name": "stdout",
     "output_type": "stream",
     "text": [
      "당신의 키를 입력하세요:165\n",
      "medium\n"
     ]
    }
   ],
   "source": [
    "height = int(input('당신의 키를 입력하세요:'))\n",
    "if height >= 180:\n",
    "    print('tall')\n",
    "elif height >= 160:\n",
    "    print('medium')\n",
    "elif height >= 140:\n",
    "    print('small')\n",
    "else:\n",
    "    print('very small')"
   ]
  },
  {
   "cell_type": "code",
   "execution_count": 5,
   "id": "0f666540",
   "metadata": {},
   "outputs": [
    {
     "name": "stdout",
     "output_type": "stream",
     "text": [
      "당신은 몇 학번이신가요?:21\n",
      "True\n"
     ]
    }
   ],
   "source": [
    "student = int(input('당신은 몇 학번이신가요?:'))\n",
    "if student >= 21:\n",
    "    print('True')\n",
    "else:\n",
    "    print('False')"
   ]
  },
  {
   "cell_type": "code",
   "execution_count": 4,
   "id": "3ea4f35f",
   "metadata": {},
   "outputs": [
    {
     "name": "stdout",
     "output_type": "stream",
     "text": [
      "당신은 몇 학번이신가요?:21\n",
      "H\n"
     ]
    }
   ],
   "source": [
    "student = int(input('당신은 몇 학번이신가요?:'))\n",
    "if student >= 21:\n",
    "    print('H')\n",
    "elif student >= 19:\n",
    "    print('U')\n",
    "elif student >= 17:\n",
    "    print('F')\n",
    "else:\n",
    "    print('S')"
   ]
  }
 ],
 "metadata": {
  "kernelspec": {
   "display_name": "Python 3 (ipykernel)",
   "language": "python",
   "name": "python3"
  },
  "language_info": {
   "codemirror_mode": {
    "name": "ipython",
    "version": 3
   },
   "file_extension": ".py",
   "mimetype": "text/x-python",
   "name": "python",
   "nbconvert_exporter": "python",
   "pygments_lexer": "ipython3",
   "version": "3.9.7"
  }
 },
 "nbformat": 4,
 "nbformat_minor": 5
}
