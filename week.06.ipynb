{
 "cells": [
  {
   "cell_type": "code",
   "execution_count": 61,
   "id": "cfcf613e",
   "metadata": {},
   "outputs": [
    {
     "name": "stderr",
     "output_type": "stream",
     "text": [
      "[nltk_data] Downloading package inaugural to brown...\n",
      "[nltk_data]   Package inaugural is already up-to-date!\n"
     ]
    },
    {
     "data": {
      "text/plain": [
       "True"
      ]
     },
     "execution_count": 61,
     "metadata": {},
     "output_type": "execute_result"
    }
   ],
   "source": [
    "#nltk.brown, inaugural\n",
    "import nltk\n",
    "nltk.download('inaugural','brown')"
   ]
  },
  {
   "cell_type": "code",
   "execution_count": 62,
   "id": "f1c63a28",
   "metadata": {},
   "outputs": [],
   "source": [
    "brown = nltk.corpus.brown"
   ]
  },
  {
   "cell_type": "markdown",
   "id": "0a1d2a95",
   "metadata": {},
   "source": [
    "# inaugural \n",
    "- 연설문 데이터 "
   ]
  },
  {
   "cell_type": "code",
   "execution_count": 63,
   "id": "c3c7150c",
   "metadata": {},
   "outputs": [],
   "source": [
    "inaugural = nltk.corpus.inaugural"
   ]
  },
  {
   "cell_type": "code",
   "execution_count": 64,
   "id": "da7a6a81",
   "metadata": {
    "scrolled": true
   },
   "outputs": [
    {
     "data": {
      "text/plain": [
       "['1789-Washington.txt',\n",
       " '1793-Washington.txt',\n",
       " '1797-Adams.txt',\n",
       " '1801-Jefferson.txt',\n",
       " '1805-Jefferson.txt',\n",
       " '1809-Madison.txt',\n",
       " '1813-Madison.txt',\n",
       " '1817-Monroe.txt',\n",
       " '1821-Monroe.txt',\n",
       " '1825-Adams.txt',\n",
       " '1829-Jackson.txt',\n",
       " '1833-Jackson.txt',\n",
       " '1837-VanBuren.txt',\n",
       " '1841-Harrison.txt',\n",
       " '1845-Polk.txt',\n",
       " '1849-Taylor.txt',\n",
       " '1853-Pierce.txt',\n",
       " '1857-Buchanan.txt',\n",
       " '1861-Lincoln.txt',\n",
       " '1865-Lincoln.txt',\n",
       " '1869-Grant.txt',\n",
       " '1873-Grant.txt',\n",
       " '1877-Hayes.txt',\n",
       " '1881-Garfield.txt',\n",
       " '1885-Cleveland.txt',\n",
       " '1889-Harrison.txt',\n",
       " '1893-Cleveland.txt',\n",
       " '1897-McKinley.txt',\n",
       " '1901-McKinley.txt',\n",
       " '1905-Roosevelt.txt',\n",
       " '1909-Taft.txt',\n",
       " '1913-Wilson.txt',\n",
       " '1917-Wilson.txt',\n",
       " '1921-Harding.txt',\n",
       " '1925-Coolidge.txt',\n",
       " '1929-Hoover.txt',\n",
       " '1933-Roosevelt.txt',\n",
       " '1937-Roosevelt.txt',\n",
       " '1941-Roosevelt.txt',\n",
       " '1945-Roosevelt.txt',\n",
       " '1949-Truman.txt',\n",
       " '1953-Eisenhower.txt',\n",
       " '1957-Eisenhower.txt',\n",
       " '1961-Kennedy.txt',\n",
       " '1965-Johnson.txt',\n",
       " '1969-Nixon.txt',\n",
       " '1973-Nixon.txt',\n",
       " '1977-Carter.txt',\n",
       " '1981-Reagan.txt',\n",
       " '1985-Reagan.txt',\n",
       " '1989-Bush.txt',\n",
       " '1993-Clinton.txt',\n",
       " '1997-Clinton.txt',\n",
       " '2001-Bush.txt',\n",
       " '2005-Bush.txt',\n",
       " '2009-Obama.txt',\n",
       " '2013-Obama.txt',\n",
       " '2017-Trump.txt',\n",
       " '2021-Biden.txt']"
      ]
     },
     "execution_count": 64,
     "metadata": {},
     "output_type": "execute_result"
    }
   ],
   "source": [
    "inaugural.fileids() #연도-이름.txt"
   ]
  },
  {
   "cell_type": "code",
   "execution_count": null,
   "id": "a00a1510",
   "metadata": {},
   "outputs": [],
   "source": [
    "#inaugural에서 america, citizen의 빈도수/연도별\n",
    "nltk.ConditioanlFreqDist(\n",
    "    {target_word, fileid}\n",
    ")"
   ]
  },
  {
   "cell_type": "markdown",
   "id": "de2e7e22",
   "metadata": {},
   "source": [
    "# nltk corpus"
   ]
  },
  {
   "cell_type": "code",
   "execution_count": 66,
   "id": "f6f1fda5",
   "metadata": {},
   "outputs": [
    {
     "name": "stdout",
     "output_type": "stream",
     "text": [
      "        1789-Washington.txt 1793-Washington.txt      1797-Adams.txt  1801-Jefferson.txt  1805-Jefferson.txt    1809-Madison.txt    1813-Madison.txt     1817-Monroe.txt     1821-Monroe.txt      1825-Adams.txt    1829-Jackson.txt    1833-Jackson.txt   1837-VanBuren.txt   1841-Harrison.txt       1845-Polk.txt     1849-Taylor.txt     1853-Pierce.txt   1857-Buchanan.txt    1861-Lincoln.txt    1865-Lincoln.txt      1869-Grant.txt      1873-Grant.txt      1877-Hayes.txt   1881-Garfield.txt  1885-Cleveland.txt   1889-Harrison.txt  1893-Cleveland.txt   1897-McKinley.txt   1901-McKinley.txt  1905-Roosevelt.txt       1909-Taft.txt     1917-Wilson.txt    1921-Harding.txt   1925-Coolidge.txt     1929-Hoover.txt  1933-Roosevelt.txt  1937-Roosevelt.txt  1941-Roosevelt.txt  1945-Roosevelt.txt     1949-Truman.txt 1953-Eisenhower.txt 1957-Eisenhower.txt    1961-Kennedy.txt    1965-Johnson.txt      1969-Nixon.txt      1973-Nixon.txt     1977-Carter.txt     1981-Reagan.txt     1985-Reagan.txt       1989-Bush.txt    1993-Clinton.txt    1997-Clinton.txt       2001-Bush.txt       2005-Bush.txt      2009-Obama.txt      2013-Obama.txt      2017-Trump.txt      2021-Biden.txt \n",
      "america                   2                   1                   8                   0                   1                   0                   1                   1                   2                   0                   0                   2                   2                   7                   0                   2                   2                   3                   2                   1                   0                   0                   1                   2                   4                   6                   9                   9                   7                   0                  12                   4                  24                  11                  12                   2                   5                  12                   2                   4                   6                   7                   7                  10                  10                  23                   5                  16                  21                  11                  33                  31                  20                  30                  15                  19                  35                  40 \n",
      "citizen                   5                   1                   6                   7                  10                   1                   4                  14                  15                   3                   2                   3                   7                  38                  11                   2                   4                   7                   7                   0                   5                   3                   9                   9                  13                  12                  10                  10                   2                   1                   6                   3                   6                   5                  12                   1                   2                   1                   1                   1                   7                   0                   5                   4                   1                   1                   0                   3                   6                   3                   2                  10                  11                   7                   2                   8                   4                   1 \n"
     ]
    }
   ],
   "source": [
    "cfd2 = nltk.ConditionalFreqDist(\n",
    "    (target_word, fileid)\n",
    "    for fileid in inaugural.fileids()\n",
    "    for target_word in ['america', 'citizen']\n",
    "    for word in inaugural.words(fileids=fileid)\n",
    "        if word.lower().startswith(target_word)\n",
    ")\n",
    "\n",
    "cfd2.tabulate()"
   ]
  },
  {
   "cell_type": "code",
   "execution_count": 67,
   "id": "b537750b",
   "metadata": {},
   "outputs": [
    {
     "data": {
      "image/png": "[encoded data removed]",
      "text/plain": [
       "<Figure size 432x288 with 1 Axes>"
      ]
     },
     "metadata": {
      "needs_background": "light"
     },
     "output_type": "display_data"
    },
    {
     "data": {
      "text/plain": [
       "<AxesSubplot:xlabel='Samples', ylabel='Counts'>"
      ]
     },
     "execution_count": 67,
     "metadata": {},
     "output_type": "execute_result"
    }
   ],
   "source": [
    "cfd2.plot()"
   ]
  },
  {
   "cell_type": "code",
   "execution_count": 68,
   "id": "c86f0cff",
   "metadata": {},
   "outputs": [
    {
     "name": "stdout",
     "output_type": "stream",
     "text": [
      "                  can could   may might  will would \n",
      "      adventure    48   154     7    59    51   194 \n",
      " belles_lettres   249   216   221   113   246   397 \n",
      "      editorial   124    57    79    39   235   185 \n",
      "        fiction    39   168    10    44    56   291 \n",
      "     government   119    38   179    13   244   120 \n",
      "        hobbies   276    59   143    22   269    83 \n",
      "          humor    17    33     8     8    13    56 \n",
      "        learned   367   159   336   128   340   321 \n",
      "           lore   170   142   170    50   178   188 \n",
      "        mystery    45   145    15    57    25   189 \n",
      "           news    94    87    93    38   389   246 \n",
      "       religion    84    59    79    12    72    69 \n",
      "        reviews    45    40    47    26    61    48 \n",
      "        romance    79   195    11    51    49   247 \n",
      "science_fiction    16    49     4    12    17    80 \n"
     ]
    }
   ],
   "source": [
    "cfd3 = nltk.ConditionalFreqDist(\n",
    "    (genre, modals)\n",
    "    for genre in brown.categories()\n",
    "    for modals in ['can','could','will','would','may','might']\n",
    "    for word in brown.words(categories=genre)\n",
    "        if word.lower() == modals\n",
    ")\n",
    "cfd3.tabulate()"
   ]
  },
  {
   "cell_type": "code",
   "execution_count": 69,
   "id": "96c6307d",
   "metadata": {},
   "outputs": [
    {
     "data": {
      "image/png": "[encoded data removed]",
      "text/plain": [
       "<Figure size 432x288 with 1 Axes>"
      ]
     },
     "metadata": {
      "needs_background": "light"
     },
     "output_type": "display_data"
    },
    {
     "data": {
      "text/plain": [
       "<AxesSubplot:xlabel='Samples', ylabel='Counts'>"
      ]
     },
     "execution_count": 69,
     "metadata": {},
     "output_type": "execute_result"
    }
   ],
   "source": [
    "cfd3.plot()"
   ]
  },
  {
   "cell_type": "markdown",
   "id": "8801d33b",
   "metadata": {},
   "source": [
    "# tuple / list"
   ]
  },
  {
   "cell_type": "markdown",
   "id": "6f555760",
   "metadata": {},
   "source": [
    "1. 생성하기"
   ]
  },
  {
   "cell_type": "code",
   "execution_count": 16,
   "id": "91d22a63",
   "metadata": {},
   "outputs": [
    {
     "data": {
      "text/plain": [
       "((), [])"
      ]
     },
     "execution_count": 16,
     "metadata": {},
     "output_type": "execute_result"
    }
   ],
   "source": [
    "emptyT=()\n",
    "emptyT=tuple()\n",
    "\n",
    "emptyL=()\n",
    "emptyL=list()\n",
    "\n",
    "emptyT, emptyL"
   ]
  },
  {
   "cell_type": "markdown",
   "id": "b805906b",
   "metadata": {},
   "source": [
    "1) 요소가 2개 이상일 때 "
   ]
  },
  {
   "cell_type": "code",
   "execution_count": 17,
   "id": "403337e1",
   "metadata": {},
   "outputs": [
    {
     "data": {
      "text/plain": [
       "(('a', 'b'), ['a', 'b'])"
      ]
     },
     "execution_count": 17,
     "metadata": {},
     "output_type": "execute_result"
    }
   ],
   "source": [
    "listA = ['a','b']\n",
    "\n",
    "tupleA = 'a','b'\n",
    "tupleA = ('a','b')\n",
    "\n",
    "tupleA, listA"
   ]
  },
  {
   "cell_type": "code",
   "execution_count": 18,
   "id": "7d0aac9d",
   "metadata": {},
   "outputs": [
    {
     "data": {
      "text/plain": [
       "str"
      ]
     },
     "execution_count": 18,
     "metadata": {},
     "output_type": "execute_result"
    }
   ],
   "source": [
    "ex = ('a')\n",
    "type(ex)"
   ]
  },
  {
   "cell_type": "markdown",
   "id": "3299be06",
   "metadata": {},
   "source": [
    "2) 여러 변수 할당하기\n",
    "\n",
    "-packing: 한 변수에 여러 개의 데이터를 할당하는 것\n",
    "\n",
    "    - list, tuple 자체가 a=[1,2,3,4]\n",
    "    \n",
    "-unpacking: 여러 변수에 하나의 데이터를 할당하는 것(그 변수를 각각의 데이터로 지정)"
   ]
  },
  {
   "cell_type": "code",
   "execution_count": 19,
   "id": "0faf6454",
   "metadata": {},
   "outputs": [
    {
     "data": {
      "text/plain": [
       "('k', 'i', 'm')"
      ]
     },
     "execution_count": 19,
     "metadata": {},
     "output_type": "execute_result"
    }
   ],
   "source": [
    "name = 'kim'\n",
    "a,b,c = name\n",
    "a,b,c"
   ]
  },
  {
   "cell_type": "code",
   "execution_count": 23,
   "id": "cd9cb9f5",
   "metadata": {},
   "outputs": [
    {
     "data": {
      "text/plain": [
       "('groom', 'abcdef')"
      ]
     },
     "execution_count": 23,
     "metadata": {},
     "output_type": "execute_result"
    }
   ],
   "source": [
    "#값 교환하기\n",
    "pwd='abcdef'\n",
    "userid='groom'\n",
    "#pwd->groom / userid->abcdef\n",
    "temp1 = pwd\n",
    "temp2 = userid\n",
    "pwd = temp2\n",
    "userid = temp1\n",
    "\n",
    "pwd, userid"
   ]
  },
  {
   "cell_type": "markdown",
   "id": "5f673845",
   "metadata": {},
   "source": [
    "3. 연산"
   ]
  },
  {
   "cell_type": "code",
   "execution_count": 24,
   "id": "313d6113",
   "metadata": {},
   "outputs": [
    {
     "data": {
      "text/plain": [
       "('a', 'b', 'c')"
      ]
     },
     "execution_count": 24,
     "metadata": {},
     "output_type": "execute_result"
    }
   ],
   "source": [
    "('a',)+('b','c')"
   ]
  },
  {
   "cell_type": "code",
   "execution_count": 41,
   "id": "34398130",
   "metadata": {},
   "outputs": [
    {
     "data": {
      "text/plain": [
       "True"
      ]
     },
     "execution_count": 41,
     "metadata": {},
     "output_type": "execute_result"
    }
   ],
   "source": [
    "a = 1,2\n",
    "b= 1,3\n",
    "a<b  "
   ]
  },
  {
   "cell_type": "markdown",
   "id": "cb5e0fd0",
   "metadata": {},
   "source": [
    "4. 순회하기"
   ]
  },
  {
   "cell_type": "code",
   "execution_count": 42,
   "id": "974352ff",
   "metadata": {},
   "outputs": [
    {
     "name": "stdout",
     "output_type": "stream",
     "text": [
      "(1, 2, 3, 4, 5)\n",
      "(1, 2, 3, 4, 5)\n",
      "(1, 2, 3, 4, 5)\n",
      "(1, 2, 3, 4, 5)\n",
      "(1, 2, 3, 4, 5)\n"
     ]
    }
   ],
   "source": [
    "a = 1,2,3,4,5\n",
    "for i in a:\n",
    "    print(a)"
   ]
  },
  {
   "cell_type": "code",
   "execution_count": 46,
   "id": "8e69f939",
   "metadata": {},
   "outputs": [
    {
     "name": "stdout",
     "output_type": "stream",
     "text": [
      "(1, 2, 3)\n",
      "(1, 2, 3)\n",
      "(1, 2, 3)\n"
     ]
    }
   ],
   "source": [
    "b = 1,2,3\n",
    "for i in b:\n",
    "    print(b)"
   ]
  },
  {
   "cell_type": "markdown",
   "id": "b293c7a1",
   "metadata": {},
   "source": [
    "5. list comprehension\n",
    "->tuple은 따로 comprehension이 없음!\n",
    "\n",
    "#1 tuple([word for word in a]) \n",
    "\n",
    "#2 [word for word in a] -> 느림"
   ]
  },
  {
   "cell_type": "markdown",
   "id": "5503ae1e",
   "metadata": {},
   "source": [
    "6. tuple은 불변 객체\n",
    "- a = 1,2,3,4\n",
    "[a += 5](x)\n",
    "- 코드 수정할 때, tuple은 수정할 수 없게 하는 용도로 사용함\n",
    "- key 값을 저장\n",
    "    blue = 1white = 2\n",
    "- 메모리 사용이 적음"
   ]
  },
  {
   "cell_type": "code",
   "execution_count": 49,
   "id": "cc243513",
   "metadata": {},
   "outputs": [
    {
     "data": {
      "text/plain": [
       "(1828844558560, 1828844630720)"
      ]
     },
     "execution_count": 49,
     "metadata": {},
     "output_type": "execute_result"
    }
   ],
   "source": [
    "a = (1,)\n",
    "b = (1,2,3)\n",
    "id(a), id(a+b)"
   ]
  },
  {
   "cell_type": "markdown",
   "id": "6facb8a5",
   "metadata": {},
   "source": [
    "7. 형 변환하기\n",
    "- tuple( )\n",
    "- ( )와 [ ] 꼭 구별하기!!!! -> ( )로 쓰기!"
   ]
  },
  {
   "cell_type": "code",
   "execution_count": 50,
   "id": "6fadcde1",
   "metadata": {},
   "outputs": [
    {
     "data": {
      "text/plain": [
       "(('c', 'a', 't'), ['cat'])"
      ]
     },
     "execution_count": 50,
     "metadata": {},
     "output_type": "execute_result"
    }
   ],
   "source": [
    "tuple('cat'),['cat']"
   ]
  },
  {
   "cell_type": "code",
   "execution_count": 51,
   "id": "723758d4",
   "metadata": {},
   "outputs": [
    {
     "data": {
      "text/plain": [
       "(['c', 'a', 't'], ['cat'])"
      ]
     },
     "execution_count": 51,
     "metadata": {},
     "output_type": "execute_result"
    }
   ],
   "source": [
    "list('cat'),['cat']"
   ]
  },
  {
   "cell_type": "code",
   "execution_count": 52,
   "id": "d45727ff",
   "metadata": {},
   "outputs": [
    {
     "data": {
      "text/plain": [
       "1"
      ]
     },
     "execution_count": 52,
     "metadata": {},
     "output_type": "execute_result"
    }
   ],
   "source": [
    "b[0]"
   ]
  },
  {
   "cell_type": "markdown",
   "id": "02345641",
   "metadata": {},
   "source": [
    "# tuple의 장점\n",
    "- 타인이 변경하는 걸 막을 수 있음\n",
    "- 메모리 사용이 작음\n",
    "\n",
    "# list의 장점\n",
    "- 데이터를 순차적으로 파악하기 좋음\n",
    "- 중복되는 데이터를 포함할 수 있음"
   ]
  },
  {
   "cell_type": "markdown",
   "id": "a48a4e97",
   "metadata": {},
   "source": [
    "<list 함수>\n",
    "\n",
    "01. append() -> 리스트의 가장 끝에 항목을 추가\n",
    "\n",
    "02. pop() -> 리스트의 가장 끝의 항목을 삭제\n",
    "\n",
    "03. reverse() -> 리스트의 항목을 역순으로 변경\n",
    "\n",
    "04. sort() -> 리스트의 항목을 오름차순 정렬\n",
    "\n",
    "05. remove() -> 리스트에서 지정한 값을 삭제\n",
    "\n",
    "06. insert() -> 리스트에서 지정한 위치에 값을 삽입\n",
    "\n",
    "07. extend() -> 리스트와 리스트를 더하는 기능\n",
    "\n",
    "08. index() -> 리스트에서 지정한 값을 찾아 위치를 반환\n",
    "\n",
    "09. del() -> 리스트에서 해당 항목을 삭제"
   ]
  },
  {
   "cell_type": "markdown",
   "id": "7ad1c252",
   "metadata": {},
   "source": [
    "1. 항목 변경하기"
   ]
  },
  {
   "cell_type": "code",
   "execution_count": 1,
   "id": "666b7b69",
   "metadata": {},
   "outputs": [],
   "source": [
    "days = ['월','화','수','목','금']\n",
    "#sat 추가하기\n",
    "days.append('토') "
   ]
  },
  {
   "cell_type": "code",
   "execution_count": 2,
   "id": "d88b0b7f",
   "metadata": {},
   "outputs": [
    {
     "data": {
      "text/plain": [
       "['월', '화', '수', '목', '금', '토']"
      ]
     },
     "execution_count": 2,
     "metadata": {},
     "output_type": "execute_result"
    }
   ],
   "source": [
    "days"
   ]
  },
  {
   "cell_type": "code",
   "execution_count": 3,
   "id": "f6cd57af",
   "metadata": {},
   "outputs": [],
   "source": [
    "days.insert(6, '일') "
   ]
  },
  {
   "cell_type": "code",
   "execution_count": 4,
   "id": "cea03417",
   "metadata": {},
   "outputs": [
    {
     "data": {
      "text/plain": [
       "['월', '화', '수', '목', '금', '토', '일']"
      ]
     },
     "execution_count": 4,
     "metadata": {},
     "output_type": "execute_result"
    }
   ],
   "source": [
    "days"
   ]
  },
  {
   "cell_type": "markdown",
   "id": "be5373bb",
   "metadata": {},
   "source": [
    "- 병합하기"
   ]
  },
  {
   "cell_type": "code",
   "execution_count": 5,
   "id": "2acbb2d6",
   "metadata": {},
   "outputs": [
    {
     "data": {
      "text/plain": [
       "['월', '화', '수', '목', '금', '토', '일', '토', '일']"
      ]
     },
     "execution_count": 5,
     "metadata": {},
     "output_type": "execute_result"
    }
   ],
   "source": [
    "listA = ['토','일']\n",
    "days.extend(listA)\n",
    "days"
   ]
  },
  {
   "cell_type": "code",
   "execution_count": 6,
   "id": "b6ec871d",
   "metadata": {},
   "outputs": [],
   "source": [
    "days.append(listA)"
   ]
  },
  {
   "cell_type": "code",
   "execution_count": 7,
   "id": "319e8bcc",
   "metadata": {},
   "outputs": [
    {
     "data": {
      "text/plain": [
       "['월', '화', '수', '목', '금', '토', '일', '토', '일', ['토', '일']]"
      ]
     },
     "execution_count": 7,
     "metadata": {},
     "output_type": "execute_result"
    }
   ],
   "source": [
    "days"
   ]
  },
  {
   "cell_type": "code",
   "execution_count": 8,
   "id": "fb1cf66d",
   "metadata": {},
   "outputs": [
    {
     "data": {
      "text/plain": [
       "['월', '화', '수', '목', '금', '토', '일', '토', '일', ['토', '일']]"
      ]
     },
     "execution_count": 8,
     "metadata": {},
     "output_type": "execute_result"
    }
   ],
   "source": [
    "days == listA\n",
    "days"
   ]
  },
  {
   "cell_type": "code",
   "execution_count": 9,
   "id": "9a2c936f",
   "metadata": {},
   "outputs": [],
   "source": [
    "days.append(listA)"
   ]
  },
  {
   "cell_type": "code",
   "execution_count": 10,
   "id": "cc34b64d",
   "metadata": {},
   "outputs": [
    {
     "data": {
      "text/plain": [
       "['월', '화', '수', '목', '금', '토', '일', '토', '일', ['토', '일'], ['토', '일']]"
      ]
     },
     "execution_count": 10,
     "metadata": {},
     "output_type": "execute_result"
    }
   ],
   "source": [
    "days"
   ]
  },
  {
   "cell_type": "code",
   "execution_count": 11,
   "id": "f899f100",
   "metadata": {},
   "outputs": [
    {
     "data": {
      "text/plain": [
       "['월', '화', '수', '목', '금', '토', '일', '토', '일', ['토', '일'], ['토', '일']]"
      ]
     },
     "execution_count": 11,
     "metadata": {},
     "output_type": "execute_result"
    }
   ],
   "source": [
    "days == listA\n",
    "days"
   ]
  },
  {
   "cell_type": "code",
   "execution_count": 12,
   "id": "9c2f4c96",
   "metadata": {},
   "outputs": [],
   "source": [
    "#offset\n",
    "days[-3]='공휴일'"
   ]
  },
  {
   "cell_type": "code",
   "execution_count": 13,
   "id": "a72b54b8",
   "metadata": {},
   "outputs": [
    {
     "data": {
      "text/plain": [
       "['월', '화', '수', '목', '금', '토', '일', '토', '공휴일', ['토', '일'], ['토', '일']]"
      ]
     },
     "execution_count": 13,
     "metadata": {},
     "output_type": "execute_result"
    }
   ],
   "source": [
    "days"
   ]
  },
  {
   "cell_type": "markdown",
   "id": "866994e1",
   "metadata": {},
   "source": [
    "- 삭제하기"
   ]
  },
  {
   "cell_type": "code",
   "execution_count": 17,
   "id": "f261784b",
   "metadata": {},
   "outputs": [
    {
     "data": {
      "text/plain": [
       "['화', '수', '목', '금', '토', '일', '토', '공휴일', ['토', '일'], ['토', '일']]"
      ]
     },
     "execution_count": 17,
     "metadata": {},
     "output_type": "execute_result"
    }
   ],
   "source": [
    "#1. offset\n",
    "del days[0]\n",
    "days\n",
    "#자리에 그래도 있는 게 아니라, 아이템이 하나씩 앞으로 앞당겨지는 것"
   ]
  },
  {
   "cell_type": "code",
   "execution_count": 18,
   "id": "146b1eff",
   "metadata": {},
   "outputs": [
    {
     "data": {
      "text/plain": [
       "['화', '수', '목', '금', '일', '토', '공휴일', ['토', '일'], ['토', '일']]"
      ]
     },
     "execution_count": 18,
     "metadata": {},
     "output_type": "execute_result"
    }
   ],
   "source": [
    "#2. 특정한 값 삭제 \n",
    "days.remove('토')\n",
    "days"
   ]
  },
  {
   "cell_type": "code",
   "execution_count": 20,
   "id": "f5527f59",
   "metadata": {},
   "outputs": [
    {
     "data": {
      "text/plain": [
       "'화'"
      ]
     },
     "execution_count": 20,
     "metadata": {},
     "output_type": "execute_result"
    }
   ],
   "source": [
    "#3. pop(index)  default = -1  맨 마지막 요소를 삭제하는 것\n",
    "days.pop(0)"
   ]
  },
  {
   "cell_type": "code",
   "execution_count": 21,
   "id": "9ad1a019",
   "metadata": {},
   "outputs": [
    {
     "data": {
      "text/plain": [
       "['수', '목', '금', '일', '토', '공휴일', ['토', '일']]"
      ]
     },
     "execution_count": 21,
     "metadata": {},
     "output_type": "execute_result"
    }
   ],
   "source": [
    "days"
   ]
  },
  {
   "cell_type": "code",
   "execution_count": 22,
   "id": "91713289",
   "metadata": {},
   "outputs": [],
   "source": [
    "#4. clear 모든 값을 완전히 삭제함\n",
    "days.clear()"
   ]
  },
  {
   "cell_type": "code",
   "execution_count": 23,
   "id": "64286927",
   "metadata": {},
   "outputs": [
    {
     "data": {
      "text/plain": [
       "[]"
      ]
     },
     "execution_count": 23,
     "metadata": {},
     "output_type": "execute_result"
    }
   ],
   "source": [
    "days"
   ]
  },
  {
   "cell_type": "markdown",
   "id": "bf286dab",
   "metadata": {},
   "source": [
    "### 값찾기"
   ]
  },
  {
   "cell_type": "code",
   "execution_count": 24,
   "id": "5e76c85d",
   "metadata": {},
   "outputs": [
    {
     "data": {
      "text/plain": [
       "2"
      ]
     },
     "execution_count": 24,
     "metadata": {},
     "output_type": "execute_result"
    }
   ],
   "source": [
    "a = list(range(5))\n",
    "a.index(2)"
   ]
  },
  {
   "cell_type": "markdown",
   "id": "86c85747",
   "metadata": {},
   "source": [
    "### 값확인"
   ]
  },
  {
   "cell_type": "code",
   "execution_count": 25,
   "id": "549534b7",
   "metadata": {},
   "outputs": [
    {
     "data": {
      "text/plain": [
       "True"
      ]
     },
     "execution_count": 25,
     "metadata": {},
     "output_type": "execute_result"
    }
   ],
   "source": [
    "3 in a"
   ]
  },
  {
   "cell_type": "markdown",
   "id": "584fd6e6",
   "metadata": {},
   "source": [
    "### 정렬하기\n",
    "- sort(): 정렬한 뒤 값을 반환하지 않고 기존값이 변경되어 있음\n",
    "- sorted(list, reverse): 정렬된 복사본을 반환하고 기존 값을 유지함\n",
    "- reverse(list): 리스트의 값을 역순으로 출력함\n",
    "- list(reversed(list)): reversed 안에 있는 리스트의 값을 역순으로 출력함"
   ]
  },
  {
   "cell_type": "code",
   "execution_count": 36,
   "id": "8fabdb7e",
   "metadata": {},
   "outputs": [],
   "source": [
    "a = [1,2,3]"
   ]
  },
  {
   "cell_type": "code",
   "execution_count": 40,
   "id": "305ba320",
   "metadata": {},
   "outputs": [
    {
     "data": {
      "text/plain": [
       "[3, 2, 1]"
      ]
     },
     "execution_count": 40,
     "metadata": {},
     "output_type": "execute_result"
    }
   ],
   "source": [
    "b = sorted(a, reverse=True)\n",
    "b"
   ]
  },
  {
   "cell_type": "code",
   "execution_count": 38,
   "id": "1c413c3d",
   "metadata": {},
   "outputs": [
    {
     "data": {
      "text/plain": [
       "[1, 2, 3]"
      ]
     },
     "execution_count": 38,
     "metadata": {},
     "output_type": "execute_result"
    }
   ],
   "source": [
    "a"
   ]
  },
  {
   "cell_type": "code",
   "execution_count": 42,
   "id": "d770f55c",
   "metadata": {},
   "outputs": [
    {
     "data": {
      "text/plain": [
       "[1, 2, 3]"
      ]
     },
     "execution_count": 42,
     "metadata": {},
     "output_type": "execute_result"
    }
   ],
   "source": [
    "a.sort()\n",
    "a"
   ]
  },
  {
   "cell_type": "code",
   "execution_count": 48,
   "id": "70b195f4",
   "metadata": {},
   "outputs": [
    {
     "data": {
      "text/plain": [
       "[3, 2, 1]"
      ]
     },
     "execution_count": 48,
     "metadata": {},
     "output_type": "execute_result"
    }
   ],
   "source": [
    "b.reverse\n",
    "b"
   ]
  },
  {
   "cell_type": "code",
   "execution_count": 44,
   "id": "ff7d5dab",
   "metadata": {},
   "outputs": [
    {
     "data": {
      "text/plain": [
       "[1, 2, 3]"
      ]
     },
     "execution_count": 44,
     "metadata": {},
     "output_type": "execute_result"
    }
   ],
   "source": [
    "c = list(reversed(b))\n",
    "c"
   ]
  },
  {
   "cell_type": "markdown",
   "id": "ae8ce788",
   "metadata": {},
   "source": [
    "### 할당하기\n",
    "- =으로 할당할 때에는 하나의 값이 변하면 같이 변함 (이유:메모리 주소를 참조하고 있기에)\n",
    "- shallow copy\n",
    "    - a가 변해도 b가 변하지 않게 하는 복사함\n",
    "    - 리스트.copy()\n",
    "    - 리스트[:]\n",
    "- deep copy\n",
    "    - 하위에 중첩된 리스트 요소가 바뀌는 것을 방지함"
   ]
  },
  {
   "cell_type": "code",
   "execution_count": 49,
   "id": "5273d49f",
   "metadata": {},
   "outputs": [
    {
     "data": {
      "text/plain": [
       "[1, 2, 3]"
      ]
     },
     "execution_count": 49,
     "metadata": {},
     "output_type": "execute_result"
    }
   ],
   "source": [
    "a"
   ]
  },
  {
   "cell_type": "code",
   "execution_count": 50,
   "id": "71c86106",
   "metadata": {},
   "outputs": [
    {
     "data": {
      "text/plain": [
       "[1, 2, 9]"
      ]
     },
     "execution_count": 50,
     "metadata": {},
     "output_type": "execute_result"
    }
   ],
   "source": [
    "b = a\n",
    "b[2] = 9\n",
    "b"
   ]
  },
  {
   "cell_type": "code",
   "execution_count": 51,
   "id": "a8fe358b",
   "metadata": {},
   "outputs": [
    {
     "data": {
      "text/plain": [
       "[1, 2, 9]"
      ]
     },
     "execution_count": 51,
     "metadata": {},
     "output_type": "execute_result"
    }
   ],
   "source": [
    "a #a는 변함"
   ]
  },
  {
   "cell_type": "code",
   "execution_count": 52,
   "id": "736de066",
   "metadata": {},
   "outputs": [
    {
     "data": {
      "text/plain": [
       "(1826261719424, 1826262630208, 1826262494208, 1826262693632)"
      ]
     },
     "execution_count": 52,
     "metadata": {},
     "output_type": "execute_result"
    }
   ],
   "source": [
    "#shallow copy\n",
    "id(a), id(b)\n",
    "b = a.copy()\n",
    "c = list(a)\n",
    "d = a[:]\n",
    "\n",
    "id(a),id(b),id(c),id(d)"
   ]
  },
  {
   "cell_type": "markdown",
   "id": "3d87e50d",
   "metadata": {},
   "source": [
    "### 순회하기\n",
    "- zip(): 여러 개의 리스트를 동시에 순회\n",
    "- enumerate(): 인덱스도 함께 돌고자 할 때, (list, range)\n",
    "- range()"
   ]
  },
  {
   "cell_type": "code",
   "execution_count": 54,
   "id": "cb4abe5c",
   "metadata": {},
   "outputs": [
    {
     "name": "stdout",
     "output_type": "stream",
     "text": [
      "(1, 'mon')\n",
      "(2, 'tue')\n",
      "(3, 'wed')\n"
     ]
    }
   ],
   "source": [
    "a = [1,2,3]\n",
    "b = ['mon','tue','wed','thu']\n",
    "\n",
    "for itemA, itemB in zip (a,b):  \n",
    "    print((itemA, itemB))\n",
    "\n",
    "#아이템 수가 적은 값에서 완료됨!"
   ]
  },
  {
   "cell_type": "code",
   "execution_count": 55,
   "id": "3bdc92c9",
   "metadata": {},
   "outputs": [
    {
     "data": {
      "text/plain": [
       "[(1, 'mon'), (2, 'tue'), (3, 'wed')]"
      ]
     },
     "execution_count": 55,
     "metadata": {},
     "output_type": "execute_result"
    }
   ],
   "source": [
    "list(zip(a,b))"
   ]
  },
  {
   "cell_type": "code",
   "execution_count": 56,
   "id": "9eee3726",
   "metadata": {},
   "outputs": [
    {
     "data": {
      "text/plain": [
       "{1: 'mon', 2: 'tue', 3: 'wed'}"
      ]
     },
     "execution_count": 56,
     "metadata": {},
     "output_type": "execute_result"
    }
   ],
   "source": [
    "dict(zip(a,b)) #딕셔너리"
   ]
  },
  {
   "cell_type": "code",
   "execution_count": 58,
   "id": "95308e6d",
   "metadata": {},
   "outputs": [
    {
     "data": {
      "text/plain": [
       "[(1, 'mon'), (2, 'tue'), (3, 'wed')]"
      ]
     },
     "execution_count": 58,
     "metadata": {},
     "output_type": "execute_result"
    }
   ],
   "source": [
    "#list comprehension\n",
    "[(nal,day) for nal,day in zip(a,b)]"
   ]
  },
  {
   "cell_type": "code",
   "execution_count": 70,
   "id": "c9771f25",
   "metadata": {},
   "outputs": [
    {
     "data": {
      "text/plain": [
       "[(\"DON'T\", \"Don'T\", 5),\n",
       " ('JUDGE', 'Judge', 5),\n",
       " ('A', 'A', 1),\n",
       " ('BOOK', 'Book', 4),\n",
       " ('BY', 'By', 2),\n",
       " ('ITS', 'Its', 3),\n",
       " ('COVER', 'Cover', 5)]"
      ]
     },
     "execution_count": 70,
     "metadata": {},
     "output_type": "execute_result"
    }
   ],
   "source": [
    "#연습코드\n",
    "sentence = \"don't judge a book by its cover\"\n",
    "[(word.upper(),word.title(),len(word)) for word in sentence.split()]"
   ]
  },
  {
   "cell_type": "code",
   "execution_count": null,
   "id": "78c75b76",
   "metadata": {},
   "outputs": [],
   "source": [
    "text = [\n",
    "    ['hello','guys']\n",
    "    ['how','are','you']\n",
    "]"
   ]
  },
  {
   "cell_type": "code",
   "execution_count": 73,
   "id": "4feffd8e",
   "metadata": {},
   "outputs": [
    {
     "data": {
      "text/plain": [
       "['hello guys', 'how are you']"
      ]
     },
     "execution_count": 73,
     "metadata": {},
     "output_type": "execute_result"
    }
   ],
   "source": [
    "#2-1 문장으로 구성된 리스트 만들기\n",
    "    #['hello guys', 'how are you']\n",
    "[' '.join(sent) for sent in text]"
   ]
  },
  {
   "cell_type": "code",
   "execution_count": 71,
   "id": "6cfb1e54",
   "metadata": {},
   "outputs": [
    {
     "data": {
      "text/plain": [
       "[['hello', 'guys'], ['how', 'are', 'you']]"
      ]
     },
     "execution_count": 71,
     "metadata": {},
     "output_type": "execute_result"
    }
   ],
   "source": [
    "#2-2 전체 단어를 하나의 리스트로 가져오기\n",
    "    #['','','','','']\n",
    "text = [\n",
    "    ['hello','guys'],\n",
    "    ['how','are','you']\n",
    "]\n",
    "\n",
    "\n",
    "[words for words in text]"
   ]
  },
  {
   "cell_type": "code",
   "execution_count": 72,
   "id": "ad099e50",
   "metadata": {},
   "outputs": [
    {
     "data": {
      "text/plain": [
       "['hello', 'guys', 'how', 'are', 'you']"
      ]
     },
     "execution_count": 72,
     "metadata": {},
     "output_type": "execute_result"
    }
   ],
   "source": [
    "[word for words in text for word in words]"
   ]
  },
  {
   "cell_type": "code",
   "execution_count": 75,
   "id": "c1e6b3ab",
   "metadata": {},
   "outputs": [
    {
     "data": {
      "text/plain": [
       "'hello  guys  how  are  you'"
      ]
     },
     "execution_count": 75,
     "metadata": {},
     "output_type": "execute_result"
    }
   ],
   "source": [
    "#2-3. 전체를 스트링으로 가져오기 \n",
    "    #'hello guys how are you'\n",
    "'  '.join([word for sent in text for word in sent])"
   ]
  }
 ],
 "metadata": {
  "kernelspec": {
   "display_name": "Python 3 (ipykernel)",
   "language": "python",
   "name": "python3"
  },
  "language_info": {
   "codemirror_mode": {
    "name": "ipython",
    "version": 3
   },
   "file_extension": ".py",
   "mimetype": "text/x-python",
   "name": "python",
   "nbconvert_exporter": "python",
   "pygments_lexer": "ipython3",
   "version": "3.9.7"
  }
 },
 "nbformat": 4,
 "nbformat_minor": 5
}
