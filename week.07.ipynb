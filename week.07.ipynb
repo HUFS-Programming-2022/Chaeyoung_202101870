{
 "cells": [
  {
   "cell_type": "markdown",
   "id": "9bd927eb",
   "metadata": {},
   "source": [
    "### 함수"
   ]
  },
  {
   "cell_type": "markdown",
   "id": "9c39d1b6",
   "metadata": {},
   "source": [
    "1. 정의: 함수는 어떤 일을 수행하는 코드의 덩어리, 묶음\n",
    "    - 코드의 (편리한) 재사용이 주된 목적\n",
    "    - 정의하기(define)->호출하기(call)\n",
    "    - 구조\n",
    "        <정의하기>\n",
    "        def 함수이름(매개변수1,2,3,,,,,):\n",
    "            수행문1\n",
    "            수행문2\n",
    "            -------\n",
    "            return 출력값\n",
    "        <호출하기>\n",
    "        함수이름(인수1,2,3,....)\n",
    "        - 인터페이스 -> 잘 설명하면 내부를 몰라도 함수를 쉽게 사용 가능\n",
    "2. 이름 짓기\n",
    "    - 소문자 사용함\n",
    "    - 카멜표기법 가능 < 언더바_\n",
    "    - 동사 + 명사: print_output, save_model, split_text\n",
    "    - 줄임말 쓰지 말기 pr_output(x), 명료하게 함수명 설정한다!"
   ]
  },
  {
   "cell_type": "code",
   "execution_count": null,
   "id": "2d00dcb8",
   "metadata": {},
   "outputs": [],
   "source": [
    "y = x + 1  #x=매개변수, y=출력값"
   ]
  },
  {
   "cell_type": "code",
   "execution_count": null,
   "id": "3f920371",
   "metadata": {},
   "outputs": [],
   "source": [
    "split(), join()"
   ]
  },
  {
   "cell_type": "code",
   "execution_count": null,
   "id": "dc54b2ad",
   "metadata": {},
   "outputs": [],
   "source": [
    "def split():\n",
    "    ########\n",
    "    return"
   ]
  },
  {
   "cell_type": "code",
   "execution_count": 5,
   "id": "d9d4c52c",
   "metadata": {},
   "outputs": [
    {
     "name": "stdout",
     "output_type": "stream",
     "text": [
      "quack\n"
     ]
    }
   ],
   "source": [
    "def make_a_sound():\n",
    "    #01.입력/변환 없음\n",
    "    print('quack')\n",
    "    #return None\n",
    "    \n",
    "make_a_sound()"
   ]
  },
  {
   "cell_type": "code",
   "execution_count": 6,
   "id": "ade69f0f",
   "metadata": {},
   "outputs": [
    {
     "name": "stdout",
     "output_type": "stream",
     "text": [
      "quack\n"
     ]
    }
   ],
   "source": [
    "make_a_sound()"
   ]
  },
  {
   "cell_type": "code",
   "execution_count": 7,
   "id": "d0e39324",
   "metadata": {},
   "outputs": [
    {
     "data": {
      "text/plain": [
       "True"
      ]
     },
     "execution_count": 7,
     "metadata": {},
     "output_type": "execute_result"
    }
   ],
   "source": [
    "def agree():\n",
    "    #02.입력없음/변환있음\n",
    "    return True\n",
    "agree()"
   ]
  },
  {
   "cell_type": "code",
   "execution_count": 8,
   "id": "c7cc89bc",
   "metadata": {},
   "outputs": [
    {
     "name": "stdout",
     "output_type": "stream",
     "text": [
      "Splendid\n"
     ]
    }
   ],
   "source": [
    "if agree():\n",
    "    print('Splendid')\n",
    "else:\n",
    "    print('that was unexpected!')"
   ]
  },
  {
   "cell_type": "code",
   "execution_count": 10,
   "id": "d93a89db",
   "metadata": {},
   "outputs": [
    {
     "name": "stdout",
     "output_type": "stream",
     "text": [
      "hello hello\n"
     ]
    }
   ],
   "source": [
    "def echo(anything):\n",
    "    #03.입력 있음/반환없음\n",
    "    print('{0} {0}'.format(anything))\n",
    "\n",
    "echo('hello')"
   ]
  },
  {
   "cell_type": "code",
   "execution_count": 14,
   "id": "a1bc824c",
   "metadata": {},
   "outputs": [],
   "source": [
    "def echo(anything):\n",
    "    #03.입력 있음/반환있음\n",
    "    return('{0} {0}'.format(anything))\n",
    "\n",
    "echo = echo('hello')"
   ]
  },
  {
   "cell_type": "code",
   "execution_count": 15,
   "id": "64fe2bf9",
   "metadata": {},
   "outputs": [
    {
     "data": {
      "text/plain": [
       "'hello hello'"
      ]
     },
     "execution_count": 15,
     "metadata": {},
     "output_type": "execute_result"
    }
   ],
   "source": [
    "echo"
   ]
  },
  {
   "cell_type": "markdown",
   "id": "663239cc",
   "metadata": {},
   "source": [
    "3. 인수와 매개변수\n",
    "    - 매개변수: 정의할 때 쓰임. 인터페이스 내에서만 유효함\n",
    "    - 인수 : 호출할 때 쓰임\n",
    "    - 함수 호출 시 인수에 할당된 값이 매개변수에 복제됨\n",
    "        - line = 'hello'\n",
    "        - anything = line ###### copy\n",
    "        - anything 사라짐\n",
    "- 위치 인수:\n",
    "    - positional argument\n",
    "    - 값을 순서대로 상응하는 매개변수에 복사하는 것\n",
    "- 키워드 인수\n",
    "- 디폴트 인수\n",
    "    - default argument\n",
    "    - 정의할 대 매개변수의 기본값 설정\n",
    "    - 호출 시 인수가 없으면 기본값으로 착용됨\n",
    "    - default값은 non-default값 뒤에 와야 함"
   ]
  },
  {
   "cell_type": "code",
   "execution_count": 16,
   "id": "432034fb",
   "metadata": {},
   "outputs": [
    {
     "name": "stdout",
     "output_type": "stream",
     "text": [
      "white 1\n",
      "white 2\n"
     ]
    }
   ],
   "source": [
    "def commentary(color):\n",
    "    #pass\n",
    "    print(color,'1')\n",
    "    if color == 'g':\n",
    "        return 'green'\n",
    "    else:\n",
    "        return 'black'\n",
    "    \n",
    "color = 'white'\n",
    "commentary(color)\n",
    "print(color, '2')"
   ]
  },
  {
   "cell_type": "code",
   "execution_count": 18,
   "id": "a38fa986",
   "metadata": {},
   "outputs": [
    {
     "data": {
      "text/plain": [
       "'black'"
      ]
     },
     "execution_count": 18,
     "metadata": {},
     "output_type": "execute_result"
    }
   ],
   "source": [
    "def commentary(color):\n",
    "    #pass\n",
    "    #print(color,'1')\n",
    "    if color == 'g':\n",
    "        return 'green'\n",
    "    else:\n",
    "        return 'black'\n",
    "    \n",
    "color = 'white'\n",
    "commentary(color)"
   ]
  },
  {
   "cell_type": "code",
   "execution_count": 19,
   "id": "cfd9d9a7",
   "metadata": {},
   "outputs": [
    {
     "name": "stdout",
     "output_type": "stream",
     "text": [
      "green\n",
      "black\n",
      "black\n"
     ]
    }
   ],
   "source": [
    "colors = ['g','r','b']\n",
    "for c in colors:\n",
    "    print(commentary(c))"
   ]
  },
  {
   "cell_type": "code",
   "execution_count": 23,
   "id": "c59b6719",
   "metadata": {},
   "outputs": [
    {
     "data": {
      "text/plain": [
       "{'wine': 'rioja', 'entree': 'cake', 'dessert': 'egg'}"
      ]
     },
     "execution_count": 23,
     "metadata": {},
     "output_type": "execute_result"
    }
   ],
   "source": [
    "def menu(wine, entree, dessert):\n",
    "    return{'wine':wine, 'entree':entree, 'dessert':dessert}\n",
    "\n",
    "menu('rioja', 'cake', 'egg')"
   ]
  },
  {
   "cell_type": "code",
   "execution_count": 24,
   "id": "66593081",
   "metadata": {},
   "outputs": [
    {
     "data": {
      "text/plain": [
       "{'wine': 'rioja', 'entree': 'egg', 'dessert': 'pancake'}"
      ]
     },
     "execution_count": 24,
     "metadata": {},
     "output_type": "execute_result"
    }
   ],
   "source": [
    "#keyword\n",
    "menu(entree='egg', wine='rioja', dessert='pancake')"
   ]
  },
  {
   "cell_type": "code",
   "execution_count": 31,
   "id": "21e5c6f0",
   "metadata": {},
   "outputs": [
    {
     "data": {
      "text/plain": [
       "{'wine': 'egg', 'entree': 'rioja', 'dessert': 'pancake'}"
      ]
     },
     "execution_count": 31,
     "metadata": {},
     "output_type": "execute_result"
    }
   ],
   "source": [
    "#menu(entree='egg', 'rioja', 'pancake')\n",
    "menu('egg', 'rioja', dessert='pancake') #위치인수, 키워드인수 혼용할 때 주의, 위치 고려함. "
   ]
  },
  {
   "cell_type": "code",
   "execution_count": 27,
   "id": "cae23810",
   "metadata": {},
   "outputs": [
    {
     "data": {
      "text/plain": [
       "{'wine': 'rioja', 'entree': 'cake', 'dessert': 'egg'}"
      ]
     },
     "execution_count": 27,
     "metadata": {},
     "output_type": "execute_result"
    }
   ],
   "source": [
    "#default\n",
    "def menu2(wine, entree, dessert='scone'):\n",
    "    return {'wine':wine, 'entree':entree, 'dessert':dessert}\n",
    "\n",
    "menu2('rioja', 'cake', 'egg')"
   ]
  },
  {
   "cell_type": "code",
   "execution_count": 28,
   "id": "2b124f04",
   "metadata": {},
   "outputs": [
    {
     "data": {
      "text/plain": [
       "{'wine': 'merlot', 'entree': 'egg', 'dessert': 'scone'}"
      ]
     },
     "execution_count": 28,
     "metadata": {},
     "output_type": "execute_result"
    }
   ],
   "source": [
    "menu2('merlot', 'egg')"
   ]
  },
  {
   "cell_type": "code",
   "execution_count": null,
   "id": "ea2100c7",
   "metadata": {},
   "outputs": [],
   "source": [
    "### 나이 -> 연도\n",
    "def fx():\n",
    "    #입력값 = 나이\n",
    "    #변환값 = 출생년도\n",
    "    \n",
    "- input  입력받아서 함수 사용해서 출력하기"
   ]
  },
  {
   "cell_type": "code",
   "execution_count": 32,
   "id": "00b871f4",
   "metadata": {},
   "outputs": [
    {
     "name": "stdout",
     "output_type": "stream",
     "text": [
      "21\n"
     ]
    },
    {
     "data": {
      "text/plain": [
       "2002"
      ]
     },
     "execution_count": 32,
     "metadata": {},
     "output_type": "execute_result"
    }
   ],
   "source": [
    "def fx():\n",
    "    age=int(input())\n",
    "    curr_year = 2022\n",
    "    born_year = curr_year-age+1\n",
    "    return born_year\n",
    "fx()"
   ]
  },
  {
   "cell_type": "code",
   "execution_count": null,
   "id": "438da8d8",
   "metadata": {},
   "outputs": [],
   "source": [
    "def year_find(age):"
   ]
  },
  {
   "cell_type": "code",
   "execution_count": null,
   "id": "551240d5",
   "metadata": {},
   "outputs": [],
   "source": [
    "### 예\n",
    "- 사각형 너비 구하기\n",
    "- 입력 : 두 변 길이\n",
    "- 출력 : string \" cm\"\n",
    "- 함수 이름!!\n",
    "    def "
   ]
  },
  {
   "cell_type": "code",
   "execution_count": null,
   "id": "157ed0e4",
   "metadata": {},
   "outputs": [],
   "source": [
    "### 호출 방식: \n",
    "-정의된 부분이 메모리에 업로드되지만 실행은 안된다.\n",
    "-실행은 호출 시\n",
    "-값을 넘기는 방식: 참조에 의한 호출(call by reference) 메모리 주소\n",
    "-메모리 주소가 복사되기 때문에 가변객체가 매개변수로 들어갈 때 주의할 것 "
   ]
  },
  {
   "cell_type": "code",
   "execution_count": 34,
   "id": "1eda8d1e",
   "metadata": {},
   "outputs": [
    {
     "name": "stdout",
     "output_type": "stream",
     "text": [
      "2\n",
      "3\n",
      "1\n",
      "4\n"
     ]
    }
   ],
   "source": [
    "def calc_area(length,width): #define\n",
    "    print('1')\n",
    "    return length + width\n",
    "print('2')\n",
    "garo = 2\n",
    "sero = 43\n",
    "print('3')\n",
    "calc_area(garo,sero) #call\n",
    "print('4')"
   ]
  },
  {
   "cell_type": "code",
   "execution_count": 35,
   "id": "68b00e5d",
   "metadata": {},
   "outputs": [
    {
     "name": "stdout",
     "output_type": "stream",
     "text": [
      "['a']\n",
      "['b']\n"
     ]
    }
   ],
   "source": [
    "def buggy(arg, result=[]):\n",
    "    result = [] # 비운 뒤,\n",
    "    result.append(arg)\n",
    "    print(result)\n",
    "buggy('a') #[a] \n",
    "buggy('b')#[b]"
   ]
  },
  {
   "cell_type": "code",
   "execution_count": 36,
   "id": "bcac570d",
   "metadata": {},
   "outputs": [
    {
     "name": "stdout",
     "output_type": "stream",
     "text": [
      "[2, 3] eggs\n",
      "[0, 1] ham\n"
     ]
    }
   ],
   "source": [
    "#elngth = garo # list copy\n",
    "def spam(eggs):\n",
    "    eggs.append(1)\n",
    "    eggs = [2,3]\n",
    "    print(eggs, 'eggs')\n",
    "ham = [0]\n",
    "spam(ham)\n",
    "print(ham, 'ham')"
   ]
  },
  {
   "cell_type": "code",
   "execution_count": 37,
   "id": "7b8cc3e1",
   "metadata": {},
   "outputs": [
    {
     "name": "stdout",
     "output_type": "stream",
     "text": [
      "b\n"
     ]
    }
   ],
   "source": [
    "# none \n",
    "thing = None\n",
    "if thing :\n",
    "    print('a') #true\n",
    "else:\n",
    "    print('b') #false"
   ]
  },
  {
   "cell_type": "code",
   "execution_count": 38,
   "id": "29a5c423",
   "metadata": {},
   "outputs": [
    {
     "name": "stdout",
     "output_type": "stream",
     "text": [
      "a\n"
     ]
    }
   ],
   "source": [
    "# none \n",
    "thing = None\n",
    "if thing is None:\n",
    "    print('a') #true\n",
    "elif thing:\n",
    "    print('b')\n",
    "else:\n",
    "    print('b') #false"
   ]
  },
  {
   "cell_type": "code",
   "execution_count": null,
   "id": "9bbd7f53",
   "metadata": {},
   "outputs": [],
   "source": [
    "def nonbuggy(arg,result):\n",
    "    # 목표 : 리스트 쌓이거나 비우는 옵션 모두 설정하도록 None 사용해서 함수 재정의하기\n",
    "    #reslut is None , 빈 리스트\n",
    "    # 아니면 코드 그대로"
   ]
  },
  {
   "cell_type": "code",
   "execution_count": 40,
   "id": "12a17c0d",
   "metadata": {},
   "outputs": [
    {
     "name": "stdout",
     "output_type": "stream",
     "text": [
      "['a']\n",
      "['a', 'b']\n"
     ]
    }
   ],
   "source": [
    "def nonbuggy(arg, result=None):\n",
    "    if result is None:\n",
    "        reslu=[]\n",
    "    result.append(arg)\n",
    "    print(result)\n",
    "    \n",
    "list_a=[]\n",
    "nonbuggy('a',list_a)\n",
    "nonbuggy('b',list_a)\n"
   ]
  },
  {
   "cell_type": "code",
   "execution_count": null,
   "id": "1577c887",
   "metadata": {},
   "outputs": [],
   "source": [
    "전역변수 vs 지역변수\n",
    "-지역변수: 함수 내에서만 사용 가능 \n",
    "\n",
    "-전역변수 : 프로그램 전체에서 사용 가능"
   ]
  },
  {
   "cell_type": "code",
   "execution_count": null,
   "id": "ecaa99b0",
   "metadata": {},
   "outputs": [],
   "source": [
    "def fx():\n",
    "    global city\n",
    "    city = 'london'\n",
    "    print(city)\n",
    "city = 'paris'\n",
    "fx()\n",
    "print(city)"
   ]
  },
  {
   "cell_type": "code",
   "execution_count": null,
   "id": "6035cccf",
   "metadata": {},
   "outputs": [],
   "source": [
    "doc string : 힘수에 대한 설명 \n",
    "매개변수에 대한 설명, 타입, 함수의 의도"
   ]
  },
  {
   "cell_type": "code",
   "execution_count": null,
   "id": "eef78e1d",
   "metadata": {},
   "outputs": [],
   "source": [
    "#독스트링\n",
    "help(fx)"
   ]
  }
 ],
 "metadata": {
  "kernelspec": {
   "display_name": "Python 3 (ipykernel)",
   "language": "python",
   "name": "python3"
  },
  "language_info": {
   "codemirror_mode": {
    "name": "ipython",
    "version": 3
   },
   "file_extension": ".py",
   "mimetype": "text/x-python",
   "name": "python",
   "nbconvert_exporter": "python",
   "pygments_lexer": "ipython3",
   "version": "3.9.7"
  }
 },
 "nbformat": 4,
 "nbformat_minor": 5
}
