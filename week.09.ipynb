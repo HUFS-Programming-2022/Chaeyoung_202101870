{
 "cells": [
  {
   "cell_type": "markdown",
   "id": "b6602c2a",
   "metadata": {},
   "source": [
    "# week.09 복습노트"
   ]
  },
  {
   "cell_type": "markdown",
   "id": "ad5927f4",
   "metadata": {},
   "source": [
    "## dictionary(딕셔너리)\n",
    "- 영어사진이라고 생각함면, 단어: 뜻\n",
    "- 키: 값\n",
    "- 순서가 없음 -> 오프셋 없음\n",
    "- 가변 객체 (수정, 추가, 삭제 가능)\n",
    "- 타입: dict, dict()\n",
    "- 생성: {k1:v1, k2:v2, ...} 중괄호 사용\n",
    "- value에는 리스트, 튜프, 딕셔너리도 들어갈 수 있음"
   ]
  },
  {
   "cell_type": "code",
   "execution_count": null,
   "id": "02c0d1e3",
   "metadata": {},
   "outputs": [],
   "source": [
    "a = [1, 2, 3]\n",
    "set{a}\n",
    "a = {} #dictionary\n",
    "a = set()\n",
    "a"
   ]
  },
  {
   "cell_type": "code",
   "execution_count": null,
   "id": "88836dde",
   "metadata": {},
   "outputs": [],
   "source": [
    "empty = dict()\n",
    "empty = {}\n",
    "empty"
   ]
  },
  {
   "cell_type": "code",
   "execution_count": 3,
   "id": "88fa74ee",
   "metadata": {},
   "outputs": [
    {
     "data": {
      "text/plain": [
       "{'first': 'wile', 'middle': 'E', 'last': 'coyote'}"
      ]
     },
     "execution_count": 3,
     "metadata": {},
     "output_type": "execute_result"
    }
   ],
   "source": [
    "customer = {'first': 'wile', 'middle': 'E', 'last': 'coyote'}\n",
    "customer"
   ]
  },
  {
   "cell_type": "code",
   "execution_count": 6,
   "id": "a9ee12b8",
   "metadata": {},
   "outputs": [
    {
     "data": {
      "text/plain": [
       "{'first': 'wile', 'middle': 'F', 'last': 'coyote'}"
      ]
     },
     "execution_count": 6,
     "metadata": {},
     "output_type": "execute_result"
    }
   ],
   "source": [
    "customer = dict(first='wile', middle='F', last='coyote')\n",
    "customer"
   ]
  },
  {
   "cell_type": "markdown",
   "id": "d65c9998",
   "metadata": {},
   "source": [
    "### 퀴즈: 출석부 딕셔너리 만들기\n",
    "이름, 학번, 학과\n",
    "- 제임스 202201 경영학과\n",
    "- 줄리엣 202202 아랍어과\n",
    "- 로버트 202203 ELLT과 \n",
    " student_dic = {}"
   ]
  },
  {
   "cell_type": "code",
   "execution_count": null,
   "id": "84b2feca",
   "metadata": {},
   "outputs": [],
   "source": [
    "attendance = {202201=['제임스','경영학과'],202202=['줄리엣','아랍어과'],202203=['로버트','ELLT과']}\n",
    "attendance"
   ]
  },
  {
   "cell_type": "code",
   "execution_count": null,
   "id": "7eba51ca",
   "metadata": {},
   "outputs": [],
   "source": [
    "# 형변환"
   ]
  },
  {
   "cell_type": "code",
   "execution_count": 8,
   "id": "e5c621d0",
   "metadata": {},
   "outputs": [
    {
     "data": {
      "text/plain": [
       "{20221: [], 3: 4, 5: 6}"
      ]
     },
     "execution_count": 8,
     "metadata": {},
     "output_type": "execute_result"
    }
   ],
   "source": [
    "#dict()\n",
    "ex1 = [[20221, []],[3,4],[5,6]]\n",
    "dict(ex1)"
   ]
  },
  {
   "cell_type": "code",
   "execution_count": 9,
   "id": "13b208b1",
   "metadata": {},
   "outputs": [
    {
     "data": {
      "text/plain": [
       "{1: 2, 3: 4, 5: 6}"
      ]
     },
     "execution_count": 9,
     "metadata": {},
     "output_type": "execute_result"
    }
   ],
   "source": [
    "ex2 = [(1,2),(3,4),(5,6)]\n",
    "dict(ex2)"
   ]
  },
  {
   "cell_type": "code",
   "execution_count": null,
   "id": "8be55895",
   "metadata": {},
   "outputs": [],
   "source": [
    "ex3 = ['abdd','bcdd','cddd']\n",
    "dict(ex3)"
   ]
  },
  {
   "cell_type": "markdown",
   "id": "ad2360d4",
   "metadata": {},
   "source": [
    "### 항목조회 & 변경\n",
    "- 키로 항목을 찾아 값을 할당한다.\n",
    "- 이미 존재하는 키이면 값을 변경한다.\n",
    "- 키가 없으면 새로 생성한다. "
   ]
  },
  {
   "cell_type": "code",
   "execution_count": 2,
   "id": "b6aaacc6",
   "metadata": {},
   "outputs": [],
   "source": [
    "pythons = {\n",
    "    'Chapman': 'Graham',\n",
    "    'Cleese': 'John',\n",
    "    'Idle': 'Eric',\n",
    "    'Jones': 'Terry',\n",
    "    'Palin': 'Michael',\n",
    "}"
   ]
  },
  {
   "cell_type": "code",
   "execution_count": 3,
   "id": "5af1c26d",
   "metadata": {},
   "outputs": [
    {
     "data": {
      "text/plain": [
       "'Eric'"
      ]
     },
     "execution_count": 3,
     "metadata": {},
     "output_type": "execute_result"
    }
   ],
   "source": [
    "#dic\n",
    "pythons['Idle']"
   ]
  },
  {
   "cell_type": "code",
   "execution_count": 5,
   "id": "d25f113c",
   "metadata": {},
   "outputs": [
    {
     "ename": "KeyError",
     "evalue": "0",
     "output_type": "error",
     "traceback": [
      "\u001b[1;31m---------------------------------------------------------------------------\u001b[0m",
      "\u001b[1;31mKeyError\u001b[0m                                  Traceback (most recent call last)",
      "\u001b[1;32m~\\AppData\\Local\\Temp/ipykernel_12508/2423322247.py\u001b[0m in \u001b[0;36m<module>\u001b[1;34m\u001b[0m\n\u001b[1;32m----> 1\u001b[1;33m \u001b[0mpythons\u001b[0m\u001b[1;33m[\u001b[0m\u001b[1;36m0\u001b[0m\u001b[1;33m]\u001b[0m \u001b[1;31m#idex 안됨\u001b[0m\u001b[1;33m\u001b[0m\u001b[1;33m\u001b[0m\u001b[0m\n\u001b[0m",
      "\u001b[1;31mKeyError\u001b[0m: 0"
     ]
    }
   ],
   "source": [
    "pythons[0] #idex 안됨"
   ]
  },
  {
   "cell_type": "code",
   "execution_count": 7,
   "id": "8277baaf",
   "metadata": {},
   "outputs": [
    {
     "data": {
      "text/plain": [
       "{'Chapman': 'Graham',\n",
       " 'Cleese': 'John',\n",
       " 'Idle': 'Erica',\n",
       " 'Jones': 'Terry',\n",
       " 'Palin': 'Michael'}"
      ]
     },
     "execution_count": 7,
     "metadata": {},
     "output_type": "execute_result"
    }
   ],
   "source": [
    "pythons['Idle'] = 'Erica'\n",
    "pythons"
   ]
  },
  {
   "cell_type": "code",
   "execution_count": 8,
   "id": "97b5f395",
   "metadata": {},
   "outputs": [
    {
     "data": {
      "text/plain": [
       "{'Chapman': 'Graham',\n",
       " 'Cleese': 'John',\n",
       " 'Idle': 'Erica',\n",
       " 'Jones': 'Terry',\n",
       " 'Palin': 'Josh'}"
      ]
     },
     "execution_count": 8,
     "metadata": {},
     "output_type": "execute_result"
    }
   ],
   "source": [
    "pythons['Palin'] = 'Josh'\n",
    "pythons"
   ]
  },
  {
   "cell_type": "code",
   "execution_count": 9,
   "id": "5a4b4347",
   "metadata": {},
   "outputs": [
    {
     "data": {
      "text/plain": [
       "{'Chapman': 'Graham',\n",
       " 'Cleese': 'John',\n",
       " 'Idle': 'Erica',\n",
       " 'Jones': 'Terry',\n",
       " 'Palin': 'Josh',\n",
       " 'Kim': ' Laura'}"
      ]
     },
     "execution_count": 9,
     "metadata": {},
     "output_type": "execute_result"
    }
   ],
   "source": [
    "pythons['Kim'] = ' Laura'\n",
    "pythons "
   ]
  },
  {
   "cell_type": "code",
   "execution_count": null,
   "id": "f1bc00c6",
   "metadata": {},
   "outputs": [],
   "source": [
    "pythons['Lee']"
   ]
  },
  {
   "cell_type": "code",
   "execution_count": 11,
   "id": "e02256b1",
   "metadata": {},
   "outputs": [
    {
     "data": {
      "text/plain": [
       "False"
      ]
     },
     "execution_count": 11,
     "metadata": {},
     "output_type": "execute_result"
    }
   ],
   "source": [
    "'Lee' in pythons"
   ]
  },
  {
   "cell_type": "code",
   "execution_count": 12,
   "id": "4f96fd56",
   "metadata": {},
   "outputs": [],
   "source": [
    "pythons.get('Lee') #none"
   ]
  },
  {
   "cell_type": "code",
   "execution_count": 13,
   "id": "49b529c0",
   "metadata": {},
   "outputs": [
    {
     "data": {
      "text/plain": [
       "' Laura'"
      ]
     },
     "execution_count": 13,
     "metadata": {},
     "output_type": "execute_result"
    }
   ],
   "source": [
    "pythons.get('Kim',0)"
   ]
  },
  {
   "cell_type": "code",
   "execution_count": 14,
   "id": "2a4f1977",
   "metadata": {},
   "outputs": [
    {
     "data": {
      "text/plain": [
       "0"
      ]
     },
     "execution_count": 14,
     "metadata": {},
     "output_type": "execute_result"
    }
   ],
   "source": [
    "pythons.get('Choi',0)"
   ]
  },
  {
   "cell_type": "markdown",
   "id": "67998073",
   "metadata": {},
   "source": [
    "#### key(), values(), items()\n",
    "- key\n",
    "- values\n",
    "- items"
   ]
  },
  {
   "cell_type": "code",
   "execution_count": 16,
   "id": "3802ab28",
   "metadata": {},
   "outputs": [
    {
     "data": {
      "text/plain": [
       "['Chapman', 'Cleese', 'Idle', 'Jones', 'Palin', 'Kim']"
      ]
     },
     "execution_count": 16,
     "metadata": {},
     "output_type": "execute_result"
    }
   ],
   "source": [
    "list(pythons.keys())\n",
    "#pythons.keys().tolist()"
   ]
  },
  {
   "cell_type": "code",
   "execution_count": 17,
   "id": "1f366484",
   "metadata": {},
   "outputs": [
    {
     "data": {
      "text/plain": [
       "dict_values(['Graham', 'John', 'Erica', 'Terry', 'Josh', ' Laura'])"
      ]
     },
     "execution_count": 17,
     "metadata": {},
     "output_type": "execute_result"
    }
   ],
   "source": [
    "pythons.values()"
   ]
  },
  {
   "cell_type": "code",
   "execution_count": 18,
   "id": "9529f149",
   "metadata": {},
   "outputs": [
    {
     "data": {
      "text/plain": [
       "dict_items([('Chapman', 'Graham'), ('Cleese', 'John'), ('Idle', 'Erica'), ('Jones', 'Terry'), ('Palin', 'Josh'), ('Kim', ' Laura')])"
      ]
     },
     "execution_count": 18,
     "metadata": {},
     "output_type": "execute_result"
    }
   ],
   "source": [
    "pythons.items() # 순회 시 사용"
   ]
  },
  {
   "cell_type": "code",
   "execution_count": 19,
   "id": "ca3c3a21",
   "metadata": {},
   "outputs": [
    {
     "data": {
      "text/plain": [
       "['Graham', 'John', 'Erica', 'Terry', 'Josh', ' Laura']"
      ]
     },
     "execution_count": 19,
     "metadata": {},
     "output_type": "execute_result"
    }
   ],
   "source": [
    "[x[1] for x in pythons.items()]"
   ]
  },
  {
   "cell_type": "code",
   "execution_count": 20,
   "id": "1fcf89a7",
   "metadata": {},
   "outputs": [
    {
     "data": {
      "text/plain": [
       "{'cat': 4, 'snake': 0, 'money': 2, 'ant': 4, 'spider': 8}"
      ]
     },
     "execution_count": 20,
     "metadata": {},
     "output_type": "execute_result"
    }
   ],
   "source": [
    "animals = 'cat snake money ant spider'.split()\n",
    "legs = 4, 0, 2, 4, 8\n",
    "\n",
    "#animal:leg\n",
    "animal_dic = {}\n",
    "for k,v in zip(animals, legs):\n",
    "    animal_dic[k] = v\n",
    "animal_dic\n",
    "# for loop이용해서 animal : legs로 이뤄진 딕셔너리 만들기 "
   ]
  },
  {
   "cell_type": "code",
   "execution_count": 21,
   "id": "9dbb5307",
   "metadata": {},
   "outputs": [
    {
     "data": {
      "text/plain": [
       "{'cat': 4, 'snake': 0, 'money': 2, 'ant': 4, 'spider': 8}"
      ]
     },
     "execution_count": 21,
     "metadata": {},
     "output_type": "execute_result"
    }
   ],
   "source": [
    "#animal:leg\n",
    "animal_dic = {}\n",
    "for k, v in zip(animals, legs):\n",
    "    animal_dic[k] = v\n",
    "animal_dic"
   ]
  },
  {
   "cell_type": "markdown",
   "id": "4e5fd330",
   "metadata": {},
   "source": [
    "###### pyhons에서 성:이름-> 리스트컴프리헨션 이용해서 \n",
    "[(성 앞글자, 이름의 글자 수)]"
   ]
  },
  {
   "cell_type": "code",
   "execution_count": 23,
   "id": "bb11fdf6",
   "metadata": {},
   "outputs": [
    {
     "data": {
      "text/plain": [
       "[{6, 'C'}, {4, 'C'}, {5, 'I'}, {5, 'J'}, {4, 'P'}, {6, 'K'}]"
      ]
     },
     "execution_count": 23,
     "metadata": {},
     "output_type": "execute_result"
    }
   ],
   "source": [
    "[{k[0], len(v)} for k, v in pythons.items()]  #key"
   ]
  },
  {
   "cell_type": "markdown",
   "id": "0e6f2932",
   "metadata": {},
   "source": [
    "## 값 수정, 삭제, 복제"
   ]
  },
  {
   "cell_type": "code",
   "execution_count": 25,
   "id": "5df5c7f9",
   "metadata": {},
   "outputs": [
    {
     "data": {
      "text/plain": [
       "{'Chapman': 'Graham',\n",
       " 'Cleese': 'John',\n",
       " 'Idle': 'Erica',\n",
       " 'Jones': 'Terry',\n",
       " 'Palin': 'Josh',\n",
       " 'Kim': ' Laura'}"
      ]
     },
     "execution_count": 25,
     "metadata": {},
     "output_type": "execute_result"
    }
   ],
   "source": [
    "pythons"
   ]
  },
  {
   "cell_type": "code",
   "execution_count": null,
   "id": "ddeef466",
   "metadata": {},
   "outputs": [],
   "source": [
    "others = {\n",
    "    'Marx': 'Groucho'\n",
    "    'Howard': ' Moe'\n",
    "}"
   ]
  },
  {
   "cell_type": "code",
   "execution_count": null,
   "id": "d77f5647",
   "metadata": {},
   "outputs": [],
   "source": [
    "pythons.update(others)"
   ]
  },
  {
   "cell_type": "code",
   "execution_count": 28,
   "id": "2a6fd9e1",
   "metadata": {},
   "outputs": [
    {
     "data": {
      "text/plain": [
       "{'Chapman': 'Graham',\n",
       " 'Cleese': 'John',\n",
       " 'Idle': 'Erica',\n",
       " 'Jones': 'Terry',\n",
       " 'Palin': 'Josh',\n",
       " 'Kim': ' Laura'}"
      ]
     },
     "execution_count": 28,
     "metadata": {},
     "output_type": "execute_result"
    }
   ],
   "source": [
    "pythons"
   ]
  },
  {
   "cell_type": "code",
   "execution_count": null,
   "id": "c0d55fa3",
   "metadata": {},
   "outputs": [],
   "source": [
    "{**others, **pythons} #python3가능"
   ]
  },
  {
   "cell_type": "markdown",
   "id": "217affa3",
   "metadata": {},
   "source": [
    "### 삭제"
   ]
  },
  {
   "cell_type": "code",
   "execution_count": 30,
   "id": "9781ca11",
   "metadata": {},
   "outputs": [],
   "source": [
    "del pythons['Kim']"
   ]
  },
  {
   "cell_type": "code",
   "execution_count": 31,
   "id": "1fe32fe8",
   "metadata": {},
   "outputs": [
    {
     "data": {
      "text/plain": [
       "{'Chapman': 'Graham',\n",
       " 'Cleese': 'John',\n",
       " 'Idle': 'Erica',\n",
       " 'Jones': 'Terry',\n",
       " 'Palin': 'Josh'}"
      ]
     },
     "execution_count": 31,
     "metadata": {},
     "output_type": "execute_result"
    }
   ],
   "source": [
    "pythons"
   ]
  },
  {
   "cell_type": "code",
   "execution_count": null,
   "id": "3bf32abf",
   "metadata": {},
   "outputs": [],
   "source": [
    "pythons.pop('Marx,0') #get과 비슷한 상황"
   ]
  },
  {
   "cell_type": "code",
   "execution_count": 33,
   "id": "7c58098b",
   "metadata": {},
   "outputs": [],
   "source": [
    "pythons.clear()"
   ]
  },
  {
   "cell_type": "code",
   "execution_count": 34,
   "id": "11bc27cb",
   "metadata": {},
   "outputs": [],
   "source": [
    "pythons = {}"
   ]
  },
  {
   "cell_type": "code",
   "execution_count": 35,
   "id": "311d250b",
   "metadata": {},
   "outputs": [
    {
     "data": {
      "text/plain": [
       "{}"
      ]
     },
     "execution_count": 35,
     "metadata": {},
     "output_type": "execute_result"
    }
   ],
   "source": [
    "pythons"
   ]
  },
  {
   "cell_type": "markdown",
   "id": "cea80f76",
   "metadata": {},
   "source": [
    "### 복제\n",
    "- 할당\n",
    "- 얕은 복사\n",
    "- 깊은 복사"
   ]
  },
  {
   "cell_type": "code",
   "execution_count": 36,
   "id": "dbdca203",
   "metadata": {},
   "outputs": [
    {
     "data": {
      "text/plain": [
       "({1: 10, 2: 3, 3: 4}, {1: 10, 2: 3, 3: 4})"
      ]
     },
     "execution_count": 36,
     "metadata": {},
     "output_type": "execute_result"
    }
   ],
   "source": [
    "#할당\n",
    "a = {1:2, 2:3, 3:4}\n",
    "b = a\n",
    "a[1] = 10\n",
    "a,b"
   ]
  },
  {
   "cell_type": "code",
   "execution_count": 40,
   "id": "ab1fe2dd",
   "metadata": {},
   "outputs": [
    {
     "data": {
      "text/plain": [
       "({1: 100, 2: 3, 3: 4}, <function dict.copy>)"
      ]
     },
     "execution_count": 40,
     "metadata": {},
     "output_type": "execute_result"
    }
   ],
   "source": [
    "#얕은 복사\n",
    "b = a.copy\n",
    "a[1] = 100\n",
    "a,b"
   ]
  },
  {
   "cell_type": "code",
   "execution_count": 41,
   "id": "34a7c9fa",
   "metadata": {},
   "outputs": [
    {
     "data": {
      "text/plain": [
       "({1: [100, 2, 2], 2: [1, 1, 1]}, {1: [100, 2, 2], 2: [1, 1, 1]})"
      ]
     },
     "execution_count": 41,
     "metadata": {},
     "output_type": "execute_result"
    }
   ],
   "source": [
    "a = {1:[2,2,2],2:[1,1,1]}\n",
    "b = a.copy()\n",
    "a[1][0] = 100\n",
    "a,b"
   ]
  },
  {
   "cell_type": "code",
   "execution_count": 42,
   "id": "45c34aca",
   "metadata": {},
   "outputs": [
    {
     "data": {
      "text/plain": [
       "({1: [9, 2, 2], 2: [1, 1, 1]}, {1: [100, 2, 2], 2: [1, 1, 1]})"
      ]
     },
     "execution_count": 42,
     "metadata": {},
     "output_type": "execute_result"
    }
   ],
   "source": [
    "#깊은 복사\n",
    "import copy\n",
    "b = copy.deepcopy(a)\n",
    "a[1][0] = 9\n",
    "a,b"
   ]
  },
  {
   "cell_type": "markdown",
   "id": "128c6f34",
   "metadata": {},
   "source": [
    "### 값 비교\n",
    "- 같고 다름만 가능함!"
   ]
  },
  {
   "cell_type": "code",
   "execution_count": 44,
   "id": "07f16ed9",
   "metadata": {},
   "outputs": [
    {
     "data": {
      "text/plain": [
       "True"
      ]
     },
     "execution_count": 44,
     "metadata": {},
     "output_type": "execute_result"
    }
   ],
   "source": [
    "a != b "
   ]
  },
  {
   "cell_type": "markdown",
   "id": "40cc7c6f",
   "metadata": {},
   "source": [
    "### 퀴즈\n",
    "- 두개 리스트를 딕셔너리로 만든다: {한국어:영어}\n",
    "- 명왕성: pluto추가하기\n",
    "- '성'으로 끝나지 않는 단어 삭제하기 \n",
    "    del sdict['태양'] -> 하드코팅 no\n",
    "- sorted 1) kor 2) eng"
   ]
  },
  {
   "cell_type": "code",
   "execution_count": 48,
   "id": "edd2557f",
   "metadata": {},
   "outputs": [],
   "source": [
    "solar_kor = '태양 수성 금성 지구 화성 목성 토성 천왕성 해왕성'.split()\n",
    "solar_eng = ' sun mercury venus earth mars jupiter saturn uranus neptune'.split()\n",
    "\n",
    "dict_solar = {}\n",
    "for i in range(len(solar_kor)):\n",
    "    dict_solar[solar_kor[i]] = solar_eng[i]\n",
    "    \n",
    "dict_solar['명왕성'] = 'pluto'\n",
    "import copy\n",
    "dict_copy = copy.deepcopy(dict_solar)\n",
    "for j in dict_copy:\n",
    "    if not j.endswith('성'):\n",
    "        del dict_solar[j]"
   ]
  },
  {
   "cell_type": "code",
   "execution_count": 49,
   "id": "a1a240cb",
   "metadata": {},
   "outputs": [
    {
     "data": {
      "text/plain": [
       "{'수성': 'mercury',\n",
       " '금성': 'venus',\n",
       " '화성': 'mars',\n",
       " '목성': 'jupiter',\n",
       " '토성': 'saturn',\n",
       " '천왕성': 'uranus',\n",
       " '해왕성': 'neptune',\n",
       " '명왕성': 'pluto'}"
      ]
     },
     "execution_count": 49,
     "metadata": {},
     "output_type": "execute_result"
    }
   ],
   "source": [
    "solar = {}\n",
    "for ko, en in zip(solar_kor, solar_eng):\n",
    "    solar[ko] = en\n",
    "    \n",
    "solar['명왕성'] ='pluto'\n",
    "solar = {k:solar[k] for k in solar if k.endswith('성')}\n",
    "solar"
   ]
  },
  {
   "cell_type": "code",
   "execution_count": 53,
   "id": "ff185bf1",
   "metadata": {},
   "outputs": [],
   "source": [
    "others = {\n",
    "    '명왕성' : 'pluto',    \n",
    "}\n",
    "dict_solar.update(others)"
   ]
  },
  {
   "cell_type": "code",
   "execution_count": 54,
   "id": "274ad5dd",
   "metadata": {},
   "outputs": [
    {
     "data": {
      "text/plain": [
       "[('수성', 'mercury'),\n",
       " ('금성', 'venus'),\n",
       " ('화성', 'mars'),\n",
       " ('목성', 'jupiter'),\n",
       " ('토성', 'saturn'),\n",
       " ('천왕성', 'uranus'),\n",
       " ('해왕성', 'neptune'),\n",
       " ('명왕성', 'pluto')]"
      ]
     },
     "execution_count": 54,
     "metadata": {},
     "output_type": "execute_result"
    }
   ],
   "source": [
    "[(k,v) for k,v in dict_solar.items() if '성' in k]"
   ]
  },
  {
   "cell_type": "code",
   "execution_count": 55,
   "id": "3d72dab4",
   "metadata": {},
   "outputs": [],
   "source": [
    "def function(s):\n",
    "    return s[1]"
   ]
  },
  {
   "cell_type": "code",
   "execution_count": 57,
   "id": "4dccf848",
   "metadata": {},
   "outputs": [
    {
     "data": {
      "text/plain": [
       "[('목성', 'jupiter'),\n",
       " ('화성', 'mars'),\n",
       " ('수성', 'mercury'),\n",
       " ('해왕성', 'neptune'),\n",
       " ('명왕성', 'pluto'),\n",
       " ('토성', 'saturn'),\n",
       " ('천왕성', 'uranus'),\n",
       " ('금성', 'venus')]"
      ]
     },
     "execution_count": 57,
     "metadata": {},
     "output_type": "execute_result"
    }
   ],
   "source": [
    "sorted(dict_solar.items(), key=lambda x: x[1])"
   ]
  },
  {
   "cell_type": "markdown",
   "id": "9280edb9",
   "metadata": {},
   "source": [
    "#### dictionary comprehension(딕셔너리 컴프리헨션)"
   ]
  },
  {
   "cell_type": "code",
   "execution_count": null,
   "id": "cb7ff3b2",
   "metadata": {},
   "outputs": [],
   "source": [
    "accustation = {'room': 'ballroom', 'weapon':'lead pipe', 'person':'Col.Mustard'}\n",
    "for k, v in accusation.items():\n",
    "    print(f'{k} has the contents){v}')"
   ]
  },
  {
   "cell_type": "code",
   "execution_count": null,
   "id": "2b5fe232",
   "metadata": {},
   "outputs": [],
   "source": [
    "letter = 'apple'\n",
    "#(a:1, p:2,...)\n",
    "{ch: letter.count(ch) for ch in se(letter)}"
   ]
  },
  {
   "cell_type": "code",
   "execution_count": null,
   "id": "d280db13",
   "metadata": {},
   "outputs": [],
   "source": [
    "vowels = 'aeiou'\n",
    "word = 'onomatopoeia'\n",
    "\n",
    "#주어진 단어의 모음 세기\n",
    "a:1, e:3,...\n",
    "        #vowels,word 각각 기준 잡아서 dic compre 이용해서 만들기"
   ]
  },
  {
   "cell_type": "code",
   "execution_count": null,
   "id": "e6c2de25",
   "metadata": {},
   "outputs": [],
   "source": [
    "#1. vowels 순회\n",
    "op1 = {v: word.count(v) for v in vowels}\n",
    "print(op1)\n",
    "#2. word 순회\n",
    "{ch for ch in word}"
   ]
  },
  {
   "cell_type": "markdown",
   "id": "0cd910fb",
   "metadata": {},
   "source": [
    "#### set"
   ]
  },
  {
   "cell_type": "code",
   "execution_count": null,
   "id": "27674e69",
   "metadata": {},
   "outputs": [],
   "source": [
    "## set\n",
    "- 딕셔너리의 키만 모아놓음 -> 중복 없음!\n",
    "- 수학의 집합 개념 -> 교집합, 합집합, 차집합,...\n",
    "- 데이터 자루, 순서 없고 인덱싱 있고"
   ]
  },
  {
   "cell_type": "code",
   "execution_count": null,
   "id": "51a9b867",
   "metadata": {},
   "outputs": [],
   "source": [
    "empty = set()\n",
    "empty1 = {} #dict\n",
    "empty, empty1\n"
   ]
  },
  {
   "cell_type": "code",
   "execution_count": null,
   "id": "f0f9b8ee",
   "metadata": {},
   "outputs": [],
   "source": [
    "a = {1,2,3}\n",
    "type(a)"
   ]
  },
  {
   "cell_type": "code",
   "execution_count": null,
   "id": "8b3eff53",
   "metadata": {},
   "outputs": [],
   "source": [
    "b = set([1,2,3,3,3,3,3,3])"
   ]
  },
  {
   "cell_type": "code",
   "execution_count": null,
   "id": "c107dac7",
   "metadata": {},
   "outputs": [],
   "source": [
    "b"
   ]
  },
  {
   "cell_type": "markdown",
   "id": "4181b64b",
   "metadata": {},
   "source": [
    "#### 추가하기"
   ]
  },
  {
   "cell_type": "code",
   "execution_count": null,
   "id": "1561eec1",
   "metadata": {},
   "outputs": [],
   "source": [
    "# 추가하기\n",
    "a,add(4)\n",
    "a"
   ]
  },
  {
   "cell_type": "markdown",
   "id": "21175d61",
   "metadata": {},
   "source": [
    "#### 삭제"
   ]
  },
  {
   "cell_type": "code",
   "execution_count": null,
   "id": "e0972c07",
   "metadata": {},
   "outputs": [],
   "source": [
    "# 삭제\n",
    "a.remove(4)\n",
    "a"
   ]
  },
  {
   "cell_type": "code",
   "execution_count": null,
   "id": "ad491ab6",
   "metadata": {},
   "outputs": [],
   "source": [
    "a.discard(3)\n",
    "a"
   ]
  },
  {
   "cell_type": "code",
   "execution_count": null,
   "id": "0f040e7f",
   "metadata": {},
   "outputs": [],
   "source": [
    "drinks = {\n",
    "    'marini':{'vodka', 'vermouth'},\n",
    "    'black russian':{'vodka','kahlua'},\n",
    "    'white russian':{'cream', 'kahlua', 'vodka'},\n",
    "    'mahattan':{'rye', 'vermouth','bitters'},\n",
    "    'screwdriver': {'orange juice', 'vodka'}\n",
    "}\n",
    "\n",
    "#vodka가 있는 거 골라내기 (출력)\n",
    "for k, v in dronks.items():\n",
    "    if 'vodka' in v:\n",
    "        print(k)\n",
    "        \n",
    "# 보드카는 있는데 크림이나 바우스가 있으면 프린트하지 않기\n",
    "{k for k, v in drinks.items() if 'vodka' in v and 'cream' not in v or 'vermouth' not in v}\n"
   ]
  },
  {
   "cell_type": "code",
   "execution_count": null,
   "id": "76a9fdf8",
   "metadata": {},
   "outputs": [],
   "source": [
    "for k, v in drinks.items():\n",
    "    if 'vodka' in v and not ('cream' in v or 'vermouth' in v):\n",
    "        print(k)"
   ]
  },
  {
   "cell_type": "markdown",
   "id": "69983ba9",
   "metadata": {},
   "source": [
    "### set의 함수"
   ]
  },
  {
   "cell_type": "markdown",
   "id": "63a123d6",
   "metadata": {},
   "source": [
    "a = {1,2,3}\n",
    "b = {2,3,4}\n",
    "#교집합\n",
    "a.intersection(b) # a&b\n",
    "\n",
    "#합집합\n",
    "a.union(b) # a|b\n",
    " \n",
    "#차집합\n",
    "a. difference(b) # a-b\n",
    "b-a"
   ]
  },
  {
   "cell_type": "code",
   "execution_count": null,
   "id": "9998a566",
   "metadata": {},
   "outputs": [],
   "source": [
    "# comprehension\n",
    "{s for s in a}\n"
   ]
  },
  {
   "cell_type": "code",
   "execution_count": null,
   "id": "7cd24e78",
   "metadata": {},
   "outputs": [],
   "source": [
    "# frozenset\n",
    "fs = frozenset([1,2,3])\n",
    "fs"
   ]
  },
  {
   "cell_type": "code",
   "execution_count": null,
   "id": "0264320b",
   "metadata": {},
   "outputs": [],
   "source": [
    "#pyint -> \n",
    "# pydocstyle -> style"
   ]
  },
  {
   "cell_type": "code",
   "execution_count": null,
   "id": "80dfd300",
   "metadata": {},
   "outputs": [],
   "source": [
    "!pip install pyint\n",
    "!pyint example.py # 3/10\n",
    "\n",
    "!pip install pydoctstyle\n",
    "!pydocstyle example.py"
   ]
  }
 ],
 "metadata": {
  "kernelspec": {
   "display_name": "Python 3 (ipykernel)",
   "language": "python",
   "name": "python3"
  },
  "language_info": {
   "codemirror_mode": {
    "name": "ipython",
    "version": 3
   },
   "file_extension": ".py",
   "mimetype": "text/x-python",
   "name": "python",
   "nbconvert_exporter": "python",
   "pygments_lexer": "ipython3",
   "version": "3.9.7"
  }
 },
 "nbformat": 4,
 "nbformat_minor": 5
}
