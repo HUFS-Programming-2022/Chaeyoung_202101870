{
 "cells": [
  {
   "cell_type": "markdown",
   "id": "dfdb8e14",
   "metadata": {},
   "source": [
    "# week.10 복습노트"
   ]
  },
  {
   "cell_type": "markdown",
   "id": "1d3cceee",
   "metadata": {},
   "source": [
    "## defaultdict\n",
    "- 값이 존재하지 않는다면, 0으로 설정할 수 있게 하는 딕셔너리\n",
    "- 작성법: defaultdict(list)"
   ]
  },
  {
   "cell_type": "code",
   "execution_count": 75,
   "id": "4c498982",
   "metadata": {},
   "outputs": [],
   "source": [
    "from collections import defaultdict"
   ]
  },
  {
   "cell_type": "code",
   "execution_count": null,
   "id": "f76f1161",
   "metadata": {},
   "outputs": [],
   "source": [
    "leeter = 'defaultdict'\n",
    "empty=[]\n",
    "for ch in letter:\n",
    "    #if emptyp[ch] = 0\n",
    "    # else : 값을 넣는다\n",
    "    empty.setdefault(ch.0) #ch가 없으면 기본 값으로, 0을 넣음\n",
    "    empty[ch] +=1"
   ]
  },
  {
   "cell_type": "code",
   "execution_count": null,
   "id": "b7d9e7bf",
   "metadata": {},
   "outputs": [],
   "source": [
    "print(empty)"
   ]
  },
  {
   "cell_type": "code",
   "execution_count": null,
   "id": "73f6e848",
   "metadata": {},
   "outputs": [],
   "source": [
    "empty2 = defaultdict(int)\n",
    "for ch in letter:\n",
    "    empty[ch] += 1\n",
    "    empty2"
   ]
  },
  {
   "cell_type": "code",
   "execution_count": null,
   "id": "64445c14",
   "metadata": {},
   "outputs": [],
   "source": [
    "print(empty)"
   ]
  },
  {
   "cell_type": "markdown",
   "id": "ed5b9925",
   "metadata": {},
   "source": [
    "### 객체와 클래스\n",
    "- 객체를 구현하는 것-> 클래스\n",
    "- 객체 = object\n",
    "- 객체지향프로그램\n",
    "    ->속성과 행동을 가지는 개념으로, 실존할 수도 있고 아닐 수도 있는 것.\n",
    "    - ex:자동차, 강아지, 꽃,...thing\n",
    "    1)자동차 속성: 브랜드,속도,색,모델->변수\n",
    "    2)자동차 행동: 가다,서다,회전,주차->메소드\n",
    "    [함수]\n",
    "    1) 강아지 속성: 이름,종,색,무게\n",
    "    2) 강아지 행동: 뛰다,짖다,자다,핥다\n",
    "    -편의점->고객이 편의점에서 과자를 샀다.\n",
    "    -객체: 고객(사람),편의점,과자(물건)->상호작용으로 코드 구성\n",
    "    -고객: 이름,돈/물건 사기,돈내기,팔기,수익내기\n",
    "    -편의점:재고,수익\n",
    "    -물건: 이름,브랜드,가격"
   ]
  },
  {
   "cell_type": "markdown",
   "id": "605c7b42",
   "metadata": {},
   "source": [
    "### 클래스\n",
    "[클래스선언]\n",
    "-첫 글자 대문자로 표기함.\n",
    "-nice car-> Nice_car (x)\n",
    "-카멜표기법-> NicaCar(o)\n",
    "-아무런 설정이 없다면 'pass'\n",
    "-정의부, 선언부\n",
    "    -정의부:붕어빵 틀\n",
    "    -선언부:붕어빵"
   ]
  },
  {
   "cell_type": "code",
   "execution_count": 7,
   "id": "09eb8e47",
   "metadata": {},
   "outputs": [
    {
     "data": {
      "text/plain": [
       "<__main__.Car at 0x1bb4a089c70>"
      ]
     },
     "execution_count": 7,
     "metadata": {},
     "output_type": "execute_result"
    }
   ],
   "source": [
    "#정의부\n",
    "class Car:\n",
    "    pass\n",
    "\n",
    "#선언부(괄호 반드시 있어야 함)\n",
    "car1 = Car()\n",
    "car1"
   ]
  },
  {
   "cell_type": "code",
   "execution_count": 8,
   "id": "7b84d846",
   "metadata": {},
   "outputs": [
    {
     "data": {
      "text/plain": [
       "<__main__.Car at 0x1bb4a08fc40>"
      ]
     },
     "execution_count": 8,
     "metadata": {},
     "output_type": "execute_result"
    }
   ],
   "source": [
    "car2 = Car()\n",
    "car2"
   ]
  },
  {
   "cell_type": "code",
   "execution_count": 9,
   "id": "c76addf6",
   "metadata": {},
   "outputs": [
    {
     "data": {
      "text/plain": [
       "__main__.Car"
      ]
     },
     "execution_count": 9,
     "metadata": {},
     "output_type": "execute_result"
    }
   ],
   "source": [
    "type(car2)"
   ]
  },
  {
   "cell_type": "code",
   "execution_count": 10,
   "id": "211a9c7f",
   "metadata": {},
   "outputs": [],
   "source": [
    "car1.brand = 'mercedes'\n",
    "car2.brand = 'kia'"
   ]
  },
  {
   "cell_type": "code",
   "execution_count": 11,
   "id": "2854fb48",
   "metadata": {},
   "outputs": [
    {
     "name": "stdout",
     "output_type": "stream",
     "text": [
      "mercedes\n",
      "kia\n"
     ]
    }
   ],
   "source": [
    "for car in [car1, car2]:\n",
    "    print(car.brand)"
   ]
  },
  {
   "cell_type": "code",
   "execution_count": 12,
   "id": "925dcf0a",
   "metadata": {},
   "outputs": [],
   "source": [
    "class Car:\n",
    "    #속성을 정해준다\n",
    "    brand = 'mercedes'\n",
    "    \n",
    "car3 = Car()"
   ]
  },
  {
   "cell_type": "code",
   "execution_count": 13,
   "id": "71c2004d",
   "metadata": {},
   "outputs": [
    {
     "data": {
      "text/plain": [
       "'mercedes'"
      ]
     },
     "execution_count": 13,
     "metadata": {},
     "output_type": "execute_result"
    }
   ],
   "source": [
    "car3.brand"
   ]
  },
  {
   "cell_type": "code",
   "execution_count": 73,
   "id": "54f5b12c",
   "metadata": {},
   "outputs": [],
   "source": [
    "#여러 속성을 원할 경우는...?\n",
    "class Car():\n",
    "    def __init__(self, brand): # 속성을 초기화하는 함수 (self == my_car)\n",
    "        self.brand = brand #self == instance"
   ]
  },
  {
   "cell_type": "code",
   "execution_count": 74,
   "id": "e5bd9cad",
   "metadata": {},
   "outputs": [
    {
     "data": {
      "text/plain": [
       "'toyota'"
      ]
     },
     "execution_count": 74,
     "metadata": {},
     "output_type": "execute_result"
    }
   ],
   "source": [
    "my_car = Car(brand='toyota')\n",
    "my_car.brand"
   ]
  },
  {
   "cell_type": "code",
   "execution_count": 41,
   "id": "aec689c7",
   "metadata": {},
   "outputs": [
    {
     "name": "stdout",
     "output_type": "stream",
     "text": [
      "first color: orange\n",
      "second color: blue\n"
     ]
    }
   ],
   "source": [
    "class Car():\n",
    "    def __init__(self, brand, model=None, color='orange'): # 속성을 초기화하는 함수 (self == my_car)\n",
    "        self.brand = brand\n",
    "        self.color = color\n",
    "        self.model = model\n",
    "\n",
    "    # action을 정의한다\n",
    "    def drive(self):\n",
    "        print(f'내차 {self.brand}가 움직인다.')\n",
    "    \n",
    "    def stop(self):\n",
    "        print('차가 멈춘다.')\n",
    "\n",
    "    def change_color(self, new_color):\n",
    "        self.color = new_color\n",
    "\n",
    "    \n",
    "my_bmw = Car('bmw', 'MM')\n",
    "print(f'first color: {my_bmw.color}')\n",
    "my_bmw.color = 'blue'\n",
    "print(f'second color: {my_bmw.color}')"
   ]
  },
  {
   "cell_type": "code",
   "execution_count": 42,
   "id": "5b485dfd",
   "metadata": {},
   "outputs": [
    {
     "data": {
      "text/plain": [
       "'kia'"
      ]
     },
     "execution_count": 42,
     "metadata": {},
     "output_type": "execute_result"
    }
   ],
   "source": [
    "my_morning = Car('kia', 'morning', 'purple') # 가변 매개변수를 사용하지 않는다면, init에 있는 모든 변수를 다 설정해야 함\n",
    "my_morning.brand"
   ]
  },
  {
   "cell_type": "code",
   "execution_count": 43,
   "id": "41ce9dfc",
   "metadata": {},
   "outputs": [],
   "source": [
    "my_toyota = Car('toyota', 'abc')"
   ]
  },
  {
   "cell_type": "code",
   "execution_count": 44,
   "id": "170abd24",
   "metadata": {},
   "outputs": [
    {
     "data": {
      "text/plain": [
       "'orange'"
      ]
     },
     "execution_count": 44,
     "metadata": {},
     "output_type": "execute_result"
    }
   ],
   "source": [
    "my_toyota.color"
   ]
  },
  {
   "cell_type": "code",
   "execution_count": 45,
   "id": "8344142e",
   "metadata": {},
   "outputs": [
    {
     "data": {
      "text/plain": [
       "'white'"
      ]
     },
     "execution_count": 45,
     "metadata": {},
     "output_type": "execute_result"
    }
   ],
   "source": [
    "my_toyota.color = 'white'\n",
    "my_toyota.color"
   ]
  },
  {
   "cell_type": "code",
   "execution_count": 46,
   "id": "cee05668",
   "metadata": {},
   "outputs": [
    {
     "data": {
      "text/plain": [
       "'white'"
      ]
     },
     "execution_count": 46,
     "metadata": {},
     "output_type": "execute_result"
    }
   ],
   "source": [
    "my_sorento = Car('sorento', 'green', 'ddd2')\n",
    "my_toyota.color"
   ]
  },
  {
   "cell_type": "code",
   "execution_count": 47,
   "id": "b99583e4",
   "metadata": {},
   "outputs": [
    {
     "name": "stdout",
     "output_type": "stream",
     "text": [
      "내차 sorento가 움직인다.\n"
     ]
    }
   ],
   "source": [
    "my_sorento.drive()"
   ]
  },
  {
   "cell_type": "code",
   "execution_count": 48,
   "id": "9c1eda3f",
   "metadata": {},
   "outputs": [
    {
     "name": "stdout",
     "output_type": "stream",
     "text": [
      "차가 멈춘다.\n"
     ]
    }
   ],
   "source": [
    "my_sorento.stop()"
   ]
  },
  {
   "cell_type": "markdown",
   "id": "900092b9",
   "metadata": {},
   "source": [
    "## getter&setter\n",
    "- 캡슐화, 정보 은닉의 방법\n",
    "- 클래스 외부에서 변수 접근을 어렵게 만드는 것\n",
    "- 자바: public->private\n",
    "1. 틀에서 변수 바꾸기\n",
    "2. 인스턴스에서 변수 바꾸기"
   ]
  },
  {
   "cell_type": "code",
   "execution_count": 49,
   "id": "e869b1be",
   "metadata": {},
   "outputs": [],
   "source": [
    "class Fruit:\n",
    "    color = 'red'"
   ]
  },
  {
   "cell_type": "code",
   "execution_count": 50,
   "id": "42ea85e7",
   "metadata": {},
   "outputs": [
    {
     "data": {
      "text/plain": [
       "'red'"
      ]
     },
     "execution_count": 50,
     "metadata": {},
     "output_type": "execute_result"
    }
   ],
   "source": [
    "apple = Fruit()\n",
    "apple.color"
   ]
  },
  {
   "cell_type": "code",
   "execution_count": 51,
   "id": "9ec17606",
   "metadata": {},
   "outputs": [],
   "source": [
    "Fruit.color = 'purple'"
   ]
  },
  {
   "cell_type": "code",
   "execution_count": 52,
   "id": "4fd4e25e",
   "metadata": {},
   "outputs": [
    {
     "data": {
      "text/plain": [
       "'purple'"
      ]
     },
     "execution_count": 52,
     "metadata": {},
     "output_type": "execute_result"
    }
   ],
   "source": [
    "tomato = Fruit()\n",
    "tomato.color"
   ]
  },
  {
   "cell_type": "code",
   "execution_count": 53,
   "id": "fc654060",
   "metadata": {},
   "outputs": [
    {
     "data": {
      "text/plain": [
       "'toyota'"
      ]
     },
     "execution_count": 53,
     "metadata": {},
     "output_type": "execute_result"
    }
   ],
   "source": [
    "class Car:\n",
    "    def __init__(self, input_brand):\n",
    "        self.brand = input_brand\n",
    "        \n",
    "    def get_brand(self):\n",
    "        #원래 변수명에 접근하도록\n",
    "        print('from the getter')\n",
    "        return self.brand\n",
    "    \n",
    "    def set_brand(self, input_brand):\n",
    "        # 변수명을 바꾸는 작업\n",
    "        print('from the setter')\n",
    "        self.brand = input_brand\n",
    "\n",
    "ex = Car('toyota')\n",
    "ex.brand"
   ]
  },
  {
   "cell_type": "code",
   "execution_count": 54,
   "id": "16acbfd4",
   "metadata": {},
   "outputs": [
    {
     "name": "stdout",
     "output_type": "stream",
     "text": [
      "from the getter\n"
     ]
    },
    {
     "data": {
      "text/plain": [
       "'toyota'"
      ]
     },
     "execution_count": 54,
     "metadata": {},
     "output_type": "execute_result"
    }
   ],
   "source": [
    "ex.get_brand()"
   ]
  },
  {
   "cell_type": "code",
   "execution_count": 55,
   "id": "e7a3b163",
   "metadata": {},
   "outputs": [
    {
     "name": "stdout",
     "output_type": "stream",
     "text": [
      "from the setter\n"
     ]
    }
   ],
   "source": [
    "ex.set_brand('mazuda')"
   ]
  },
  {
   "cell_type": "code",
   "execution_count": 56,
   "id": "720712eb",
   "metadata": {},
   "outputs": [
    {
     "data": {
      "text/plain": [
       "'mazuda'"
      ]
     },
     "execution_count": 56,
     "metadata": {},
     "output_type": "execute_result"
    }
   ],
   "source": [
    "ex.brand"
   ]
  },
  {
   "cell_type": "markdown",
   "id": "c5889db7",
   "metadata": {},
   "source": [
    "#### property()함수\n",
    "- 함수의 1번째 인자로, getter매서드를 2번째 인자로 setter 매서드를 넘기면 필드명 age를 이용해 다시 age 데이터에 접근이 가능함\n",
    "- 필드명 사용 방식처럼 깔끔하게 getter/setter 매서드 호출이 가능"
   ]
  },
  {
   "cell_type": "code",
   "execution_count": 57,
   "id": "a351d08a",
   "metadata": {},
   "outputs": [],
   "source": [
    "class Car:\n",
    "    def __init__(self, input_brand):\n",
    "        self.hidden_brand = input_brand\n",
    "        \n",
    "    def get_brand(self):\n",
    "        return self.hidden_brand\n",
    "    \n",
    "    def set_brand(self, input_brand):\n",
    "        self.hidden_brand = input_brand"
   ]
  },
  {
   "cell_type": "code",
   "execution_count": null,
   "id": "bd603fe3",
   "metadata": {},
   "outputs": [],
   "source": [
    "c = Car('kia')\n",
    "c.brand"
   ]
  },
  {
   "cell_type": "code",
   "execution_count": 59,
   "id": "be3baf7f",
   "metadata": {},
   "outputs": [
    {
     "data": {
      "text/plain": [
       "'hyundai'"
      ]
     },
     "execution_count": 59,
     "metadata": {},
     "output_type": "execute_result"
    }
   ],
   "source": [
    "c.brand = 'hyundai'\n",
    "c.brand"
   ]
  },
  {
   "cell_type": "code",
   "execution_count": 60,
   "id": "b691c2cb",
   "metadata": {},
   "outputs": [],
   "source": [
    "Car.hidden_brand = 'toyota'\n",
    "Car.brand = 'aa'"
   ]
  },
  {
   "cell_type": "code",
   "execution_count": 61,
   "id": "fa1d7662",
   "metadata": {},
   "outputs": [
    {
     "data": {
      "text/plain": [
       "'aa'"
      ]
     },
     "execution_count": 61,
     "metadata": {},
     "output_type": "execute_result"
    }
   ],
   "source": [
    "c2 = Car('kia')\n",
    "c2.brand"
   ]
  },
  {
   "cell_type": "markdown",
   "id": "d20890f1",
   "metadata": {},
   "source": [
    "### decorator\n",
    "- 내장 데코레이터"
   ]
  },
  {
   "cell_type": "code",
   "execution_count": 62,
   "id": "75968e36",
   "metadata": {},
   "outputs": [],
   "source": [
    "class Car :\n",
    "    def __init__(self, input_brand) :\n",
    "        self.hidden_brand = input_brand\n",
    "        \n",
    "    @property\n",
    "    def brand(self) : \n",
    "        return self.hidden_brand\n",
    "    \n",
    "    @brand.setter\n",
    "    def brand(self, input_brand) :\n",
    "        self.hidden_brand = input_brand"
   ]
  },
  {
   "cell_type": "code",
   "execution_count": 63,
   "id": "6f0b0bde",
   "metadata": {},
   "outputs": [
    {
     "data": {
      "text/plain": [
       "'hyundai'"
      ]
     },
     "execution_count": 63,
     "metadata": {},
     "output_type": "execute_result"
    }
   ],
   "source": [
    "c3 = Car('aa')\n",
    "c.brand"
   ]
  },
  {
   "cell_type": "code",
   "execution_count": 64,
   "id": "7c9a5abb",
   "metadata": {},
   "outputs": [
    {
     "data": {
      "text/plain": [
       "'hyundai'"
      ]
     },
     "execution_count": 64,
     "metadata": {},
     "output_type": "execute_result"
    }
   ],
   "source": [
    "c3.brand = 'bmw'\n",
    "c.brand"
   ]
  },
  {
   "cell_type": "code",
   "execution_count": 65,
   "id": "70764f78",
   "metadata": {},
   "outputs": [
    {
     "data": {
      "text/plain": [
       "'toyota'"
      ]
     },
     "execution_count": 65,
     "metadata": {},
     "output_type": "execute_result"
    }
   ],
   "source": [
    "Car.brand = 'toyota'\n",
    "Car.brand"
   ]
  },
  {
   "cell_type": "markdown",
   "id": "e7a7b546",
   "metadata": {},
   "source": [
    "#### 접근 불가\n",
    "- self__변수명으로 보호가능"
   ]
  },
  {
   "cell_type": "code",
   "execution_count": 66,
   "id": "bf030097",
   "metadata": {},
   "outputs": [],
   "source": [
    "class Car:\n",
    "    def __init__(self, input_brand):\n",
    "        self.__brand = input_brand\n",
    "        \n",
    "    @property    \n",
    "    def brand(self):\n",
    "        return self.__brand\n",
    "    \n",
    "    @brand.setter\n",
    "    def brand(self, input_brand):\n",
    "        self.__brand = input_brand"
   ]
  },
  {
   "cell_type": "code",
   "execution_count": 67,
   "id": "061db0a3",
   "metadata": {},
   "outputs": [],
   "source": [
    "c4 = Car('aa')"
   ]
  },
  {
   "cell_type": "code",
   "execution_count": 68,
   "id": "cc1ad5b6",
   "metadata": {},
   "outputs": [
    {
     "data": {
      "text/plain": [
       "'aa'"
      ]
     },
     "execution_count": 68,
     "metadata": {},
     "output_type": "execute_result"
    }
   ],
   "source": [
    "c4.brand"
   ]
  },
  {
   "cell_type": "code",
   "execution_count": 69,
   "id": "0a70b0fa",
   "metadata": {},
   "outputs": [
    {
     "data": {
      "text/plain": [
       "10"
      ]
     },
     "execution_count": 69,
     "metadata": {},
     "output_type": "execute_result"
    }
   ],
   "source": [
    "class Circle :\n",
    "    def __init__(self, radius) :\n",
    "        self.radius = radius\n",
    "        \n",
    "    @property\n",
    "    def diameter(self) :\n",
    "        return self.radius * 2\n",
    "    \n",
    "c = Circle(5)\n",
    "c.diameter"
   ]
  },
  {
   "cell_type": "markdown",
   "id": "2a3facf5",
   "metadata": {},
   "source": [
    "### 실습\n",
    "- 객체 : 메모장(노트), 메모\n",
    "- 변수 : 제목, 페이지번호, 메모 글귀\n",
    "- 메소드 : 추가, 삭제, 페이지번호 쓰기, 지우기\n",
    "- getter, setter 메모장 제목에 설정하기\n",
    "- '메모' 객체에 글귀를 추가한다.\n",
    "- '메모장' 객체에 메모 추가한다.\n",
    "- 페이지번호가 늘어난다.\n",
    "- 메모를 삭제하면 페이지번호가 줄어들고\n",
    "- 페이지가 300을 넘으면 메모 추가 막기\n",
    "- 페이지번호로 메모 찾기"
   ]
  },
  {
   "cell_type": "code",
   "execution_count": 70,
   "id": "35ad0b8d",
   "metadata": {},
   "outputs": [],
   "source": [
    "class Notebook:\n",
    "  def __init__(self, title, memos = [], page=0):\n",
    "    self.__title = title\n",
    "    self.memos = memos\n",
    "    self.page = page\n",
    "\n",
    "  @property\n",
    "  def title(self):\n",
    "    return self.__title\n",
    "\n",
    "  def add_note(self, note = []):\n",
    "    self.memos.extend(note)\n",
    "    self.page += len(note)\n",
    "\n",
    "  def delete_note(self, note):\n",
    "    self.memos.remove(note)\n",
    "    self.page -= 1\n",
    "\n",
    "  def get_page_num(self):\n",
    "    return self.page\n",
    "\n",
    "  def print_book(self):\n",
    "    print('메모장')\n",
    "    for p, m in enumerate(self.memos, start = 1):\n",
    "      print(m)\n",
    "      print(f'page{p}')\n",
    "    print()\n",
    "\n",
    "class Note:\n",
    "  def __init__(self, memo=[]):\n",
    "    self.memo = memo\n",
    "\n",
    "  def write(self, line):\n",
    "    self.memo.append(line)\n",
    "\n",
    "  def erase(self, line):\n",
    "    self.memo.remove(line)\n",
    "\n",
    "  def print_memo(self):\n",
    "    print('메모')\n",
    "    for p, m in enumerate(self.memo, start = 1):\n",
    "      print(m)\n",
    "      print(f'page{p}')\n",
    "    print()"
   ]
  },
  {
   "cell_type": "code",
   "execution_count": 71,
   "id": "963277a6",
   "metadata": {},
   "outputs": [],
   "source": [
    "line1 = '오늘은 걸었다면 내일은 달려갑시다.'\n",
    "line2 = '꽃이 피는 계절은 정해져 있지 않는다고 하네요.'\n",
    "line3 = '실패와 좌절에 익숙해진다면 당신은 더욱 성장할 것입니다.'"
   ]
  },
  {
   "cell_type": "code",
   "execution_count": 72,
   "id": "eead9d89",
   "metadata": {},
   "outputs": [
    {
     "name": "stdout",
     "output_type": "stream",
     "text": [
      "메모\n",
      "오늘은 걸었다면 내일은 달려갑시다.\n",
      "page1\n",
      "꽃이 피는 계절은 정해져 있지 않는다고 하네요.\n",
      "page2\n",
      "실패와 좌절에 익숙해진다면 당신은 더욱 성장할 것입니다.\n",
      "page3\n",
      "\n",
      "메모\n",
      "꽃이 피는 계절은 정해져 있지 않는다고 하네요.\n",
      "page1\n",
      "실패와 좌절에 익숙해진다면 당신은 더욱 성장할 것입니다.\n",
      "page2\n",
      "\n",
      "메모장\n",
      "꽃이 피는 계절은 정해져 있지 않는다고 하네요.\n",
      "page1\n",
      "실패와 좌절에 익숙해진다면 당신은 더욱 성장할 것입니다.\n",
      "page2\n",
      "\n",
      "메모장\n",
      "실패와 좌절에 익숙해진다면 당신은 더욱 성장할 것입니다.\n",
      "page1\n",
      "\n"
     ]
    },
    {
     "data": {
      "text/plain": [
       "1"
      ]
     },
     "execution_count": 72,
     "metadata": {},
     "output_type": "execute_result"
    }
   ],
   "source": [
    "my_note = Note()\n",
    "#메모 추가\n",
    "my_note.write(line1)\n",
    "my_note.write(line2)\n",
    "my_note.write(line3)\n",
    "my_note.print_memo()\n",
    "\n",
    "#메모 삭제\n",
    "my_note.erase(line1)\n",
    "my_note.print_memo()\n",
    "\n",
    "#메모장에 메모 추가\n",
    "my_book = Notebook('Title')\n",
    "my_book.add_note(my_note.memo)\n",
    "my_book.print_book()\n",
    "\n",
    "#메모장 메모 삭제\n",
    "my_book.delete_note(line2)\n",
    "my_book.print_book()\n",
    "\n",
    "#페이지번호 확인\n",
    "my_book.get_page_num()"
   ]
  }
 ],
 "metadata": {
  "kernelspec": {
   "display_name": "Python 3 (ipykernel)",
   "language": "python",
   "name": "python3"
  },
  "language_info": {
   "codemirror_mode": {
    "name": "ipython",
    "version": 3
   },
   "file_extension": ".py",
   "mimetype": "text/x-python",
   "name": "python",
   "nbconvert_exporter": "python",
   "pygments_lexer": "ipython3",
   "version": "3.9.7"
  }
 },
 "nbformat": 4,
 "nbformat_minor": 5
}
