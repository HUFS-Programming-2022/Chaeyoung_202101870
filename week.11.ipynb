{
 "cells": [
  {
   "cell_type": "markdown",
   "id": "cfe49e47",
   "metadata": {},
   "source": [
    "# week.11"
   ]
  },
  {
   "cell_type": "markdown",
   "id": "860a665c",
   "metadata": {},
   "source": [
    "### 상속 | inheritance\n",
    "- 이전 클래스의 내용을 추가, 변경해야 할 경우\n",
    "- 코드 재사용에 유용함!\n",
    "- 기존 클래스의 복사 없이도, 새로운 클래스에서 기존 클래스의 모든 코드 사용 가능\n",
    "- 기준:vehicle. parent, super, base, 부모클래스\n",
    "- 상속 받는 클래스: child, sub, derived , 자식클래스\n",
    "Vehicle <- Car \n",
    "    - 부모클래스를 자식클래스가 구체화시킨다. \n",
    "    - Car is-a-Vehicle\n",
    "    - has-a: Notebook has-a-Note"
   ]
  },
  {
   "cell_type": "code",
   "execution_count": 1,
   "id": "d31ee2ce",
   "metadata": {},
   "outputs": [],
   "source": [
    "class Vehicle:\n",
    "    def __init__(self,speed):\n",
    "        self.speed = speed\n",
    "        \n",
    "    def go(self):\n",
    "        print(f'{self.speed}의 속력으로 달린다.')\n",
    "        \n",
    "#자식클래스\n",
    "class Car(Vehicle):\n",
    "    pass"
   ]
  },
  {
   "cell_type": "code",
   "execution_count": 2,
   "id": "92c69f89",
   "metadata": {},
   "outputs": [],
   "source": [
    "car = Car('15km/h')"
   ]
  },
  {
   "cell_type": "code",
   "execution_count": 3,
   "id": "0a647fc9",
   "metadata": {},
   "outputs": [
    {
     "name": "stdout",
     "output_type": "stream",
     "text": [
      "15km/h의 속력으로 달린다.\n"
     ]
    }
   ],
   "source": [
    "car.go()"
   ]
  },
  {
   "cell_type": "markdown",
   "id": "0d1c2f59",
   "metadata": {},
   "source": [
    "### 추가, 변경\n",
    "- 속성(변수)"
   ]
  },
  {
   "cell_type": "code",
   "execution_count": 6,
   "id": "90c5e6f6",
   "metadata": {},
   "outputs": [],
   "source": [
    "class Car(Vehicle):\n",
    "    def __init__(self, speed, brand):\n",
    "        #self.speed = speed\n",
    "        super().__init__(speed) #선택적 인수 설정하기 \n",
    "        self.brand = brand #추가한 변수\n",
    "        #self = 나자신, super() = 부모"
   ]
  },
  {
   "cell_type": "code",
   "execution_count": 7,
   "id": "80e368c6",
   "metadata": {},
   "outputs": [],
   "source": [
    "car2 = Car('14km/h','kia')"
   ]
  },
  {
   "cell_type": "code",
   "execution_count": 8,
   "id": "096cb5bc",
   "metadata": {},
   "outputs": [
    {
     "data": {
      "text/plain": [
       "'14km/h'"
      ]
     },
     "execution_count": 8,
     "metadata": {},
     "output_type": "execute_result"
    }
   ],
   "source": [
    "car2.speed"
   ]
  },
  {
   "cell_type": "markdown",
   "id": "a8b97b8a",
   "metadata": {},
   "source": [
    "- 메소드 변경 -> 오버라이드(override), 재정의"
   ]
  },
  {
   "cell_type": "code",
   "execution_count": 9,
   "id": "8d58f593",
   "metadata": {},
   "outputs": [],
   "source": [
    "class Car(Vehicle): #부모클래스와 차별성을 가지게 되는 \n",
    "    def __init__(self, speed, brand):\n",
    "        super().__init__(speed) #선택적 인수 설정하기 \n",
    "        self.brand = brand\n",
    "        \n",
    "    def go(self): #override\n",
    "        print(f'차종은 {self.brand}')\n",
    "        # 부모의 go도 같이 타고 싶다. \n",
    "        super().go()\n",
    "        print(f'차종은 {self.brand}')\n",
    "        \n",
    "    def stop(self): #부모클래스에 없는 메소드\n",
    "        print('차가 멈춘다.')"
   ]
  },
  {
   "cell_type": "code",
   "execution_count": 10,
   "id": "64a3e76b",
   "metadata": {},
   "outputs": [
    {
     "name": "stdout",
     "output_type": "stream",
     "text": [
      "차종은 nissan\n",
      "15km/h의 속력으로 달린다.\n",
      "차종은 nissan\n",
      "차가 멈춘다.\n"
     ]
    }
   ],
   "source": [
    "car3 = Car('15km/h', 'nissan')\n",
    "car3.go()\n",
    "car3.stop()"
   ]
  },
  {
   "cell_type": "markdown",
   "id": "bf0ba3f4",
   "metadata": {},
   "source": [
    "### 실습:"
   ]
  },
  {
   "cell_type": "code",
   "execution_count": null,
   "id": "2d86942c",
   "metadata": {},
   "outputs": [],
   "source": [
    "class Person:\n",
    "    #name\n",
    "    def __init__(self, name):\n",
    "    pass\n",
    "\n",
    "class Doctor:\n",
    "    #'Dr.name'\n",
    "    def __init__(self, name):\n",
    "        super().__init__('Dr.'+name)\n",
    "    pass\n",
    "\n",
    "class Male:\n",
    "    #'Mr.name'\n",
    "    def __init__(self, name):\n",
    "        super().__init__('Mr.'+name)\n",
    "    pass\n",
    "\n",
    "class Female:\n",
    "    #'Mrs.name'\n",
    "    def __init__(self, name):\n",
    "        super().__init__('Mrs.'+name)\n",
    "    pass\n",
    "\n",
    "\"\"\"Person <- Doctor\n",
    "          <- Female\n",
    "          <-Male\n",
    "\"\"\""
   ]
  },
  {
   "cell_type": "markdown",
   "id": "ba98ffb8",
   "metadata": {},
   "source": [
    "### 다중 상속\n",
    "- 하나의 부모가 아닌 여러 부모의 클래스를 상속받는 것"
   ]
  },
  {
   "cell_type": "code",
   "execution_count": null,
   "id": "412d7efa",
   "metadata": {},
   "outputs": [],
   "source": [
    "- method resolution order (MRO)\n",
    "Animal <- Horse\n",
    "       <- Donkey\n",
    "             <- Mule (donkey > horse)\n",
    "             <- Hinny (horse > donkey)\n",
    "            "
   ]
  },
  {
   "cell_type": "code",
   "execution_count": 25,
   "id": "6c5c9571",
   "metadata": {},
   "outputs": [],
   "source": [
    "class Animal:\n",
    "    def says(self):\n",
    "        return '동물이 운다'\n",
    "    \n",
    "class Horse(Animal):\n",
    "    def says(self):\n",
    "        return '히히힝'\n",
    "    \n",
    "class Donkey(Animal):\n",
    "    def says(self):\n",
    "        return '히이호'\n",
    "    \n",
    "#------------------------ grandchild\n",
    "class Mule(Donkey, Horse):\n",
    "    pass\n",
    "\n",
    "class Hinny(Horse, Donkey):\n",
    "    pass\n"
   ]
  },
  {
   "cell_type": "code",
   "execution_count": 26,
   "id": "1700613f",
   "metadata": {},
   "outputs": [
    {
     "data": {
      "text/plain": [
       "'히이호'"
      ]
     },
     "execution_count": 26,
     "metadata": {},
     "output_type": "execute_result"
    }
   ],
   "source": [
    "Mule().says() #히이호"
   ]
  },
  {
   "cell_type": "code",
   "execution_count": 27,
   "id": "43adb7b1",
   "metadata": {},
   "outputs": [
    {
     "data": {
      "text/plain": [
       "'히히힝'"
      ]
     },
     "execution_count": 27,
     "metadata": {},
     "output_type": "execute_result"
    }
   ],
   "source": [
    "Hinny().says()"
   ]
  },
  {
   "cell_type": "code",
   "execution_count": 28,
   "id": "1e98129c",
   "metadata": {},
   "outputs": [
    {
     "data": {
      "text/plain": [
       "[__main__.Mule, __main__.Donkey, __main__.Horse, __main__.Animal, object]"
      ]
     },
     "execution_count": 28,
     "metadata": {},
     "output_type": "execute_result"
    }
   ],
   "source": [
    "Mule.mro()"
   ]
  },
  {
   "cell_type": "markdown",
   "id": "ef87d802",
   "metadata": {},
   "source": [
    "### 다형성, duck typing\n",
    "- 클래스에 상관없이 같은 동작을 다른 객체에도 적용할 수 있다는 것을 의미함"
   ]
  },
  {
   "cell_type": "code",
   "execution_count": 29,
   "id": "1d1b0736",
   "metadata": {},
   "outputs": [
    {
     "name": "stdout",
     "output_type": "stream",
     "text": [
      "동물이 운다\n",
      "히히힝\n",
      "히이호\n"
     ]
    }
   ],
   "source": [
    "for animal in [Animal(),Horse(),Mule()]:\n",
    "    print(animal.says())"
   ]
  },
  {
   "cell_type": "markdown",
   "id": "f4413fae",
   "metadata": {},
   "source": [
    "### 매서드\n",
    "- 인스턴스 매서드:\n",
    "    - 첫 번째 인수가 self인 매서드 \n",
    "    - 우리가 지금까지 배운 매서드(일반적인 매서드)\n",
    "    - 객체 생성 -> 사용 가능\n",
    "- 클래스 메서드:\n",
    "    - 객체마다 달라지지 않음\n",
    "    - 모든 객체가 공유하는 (클래스) 변수, 메소드\n",
    "    - cls(매개변수)->class는 예약어라서 사용이 불가능하기에!\n",
    "    - 데코레이터 @classmethod 사용한다. \n",
    "    - 객체 생성하지 않고 메서드에 접근 가능!!\n",
    "- 정제 메서드\n",
    "    - 1번째 변수가 self 아님\n",
    "    - 클래스나 인스턴트에 접근하지 않는 매서드\n",
    "    - 비슷한 유틸리티라서 클래스 내에 묶어둘 때 사용한다. \n",
    "    - 객체 생성하지 않고 매서드 접근 가능!\n",
    "    -@staticmethod\n",
    "- 추상 메서드\n",
    "    - abstract\n",
    "    - @abstractmethod"
   ]
  },
  {
   "cell_type": "code",
   "execution_count": 30,
   "id": "41e3552d",
   "metadata": {},
   "outputs": [
    {
     "data": {
      "text/plain": [
       "'히히힝'"
      ]
     },
     "execution_count": 30,
     "metadata": {},
     "output_type": "execute_result"
    }
   ],
   "source": [
    "#인스턴스메서드\n",
    "h = Hinny()\n",
    "h.says()"
   ]
  },
  {
   "cell_type": "code",
   "execution_count": 33,
   "id": "0a1e9735",
   "metadata": {},
   "outputs": [],
   "source": [
    "class A:\n",
    "    cnt = 0\n",
    "    \n",
    "    def move(cls): #self, super(), cls\n",
    "        print(cls.cnt)"
   ]
  },
  {
   "cell_type": "code",
   "execution_count": 34,
   "id": "81d182b5",
   "metadata": {},
   "outputs": [
    {
     "name": "stdout",
     "output_type": "stream",
     "text": [
      "0\n"
     ]
    }
   ],
   "source": [
    "A().move()"
   ]
  },
  {
   "cell_type": "code",
   "execution_count": 4,
   "id": "5fb2276d",
   "metadata": {},
   "outputs": [],
   "source": [
    "class B: \n",
    "    cnt = 0\n",
    "    def __init__(cls):\n",
    "        B.cnt += 1\n",
    "        \n",
    "    #class  method\n",
    "    @classmethod\n",
    "    def count(cls):\n",
    "        #객체가 생성될 때마다 횟수 증가해서 프린트하기 \n",
    "        #cls.cnt += 1\n",
    "        print(cls.cnt)"
   ]
  },
  {
   "cell_type": "code",
   "execution_count": 5,
   "id": "90bd1d17",
   "metadata": {},
   "outputs": [
    {
     "name": "stdout",
     "output_type": "stream",
     "text": [
      "4\n"
     ]
    }
   ],
   "source": [
    "B()\n",
    "B()\n",
    "B()\n",
    "B().count() #4"
   ]
  },
  {
   "cell_type": "code",
   "execution_count": 1,
   "id": "edd16ec2",
   "metadata": {},
   "outputs": [],
   "source": [
    "class Person:\n",
    "    def __init__(self, name, age):\n",
    "        self.name = name\n",
    "        self.age = age\n",
    "        \n",
    "    @classmethod\n",
    "    def tuple_object(cls, args):\n",
    "        # 튜플로 인자를 받아서 객체 생성하는 매서드 만들기 \n",
    "        return cls(args[0], args[1])\n",
    "name = 'hong'\n",
    "age = 24\n",
    "\n",
    "p = Person(name,age)\n",
    "\n",
    "info = name, age\n",
    "p = Person.tuple_object(info) "
   ]
  },
  {
   "cell_type": "code",
   "execution_count": 2,
   "id": "007b79f7",
   "metadata": {},
   "outputs": [
    {
     "data": {
      "text/plain": [
       "'hong'"
      ]
     },
     "execution_count": 2,
     "metadata": {},
     "output_type": "execute_result"
    }
   ],
   "source": [
    "p.name"
   ]
  },
  {
   "cell_type": "code",
   "execution_count": 3,
   "id": "29df70fa",
   "metadata": {},
   "outputs": [
    {
     "data": {
      "text/plain": [
       "24"
      ]
     },
     "execution_count": 3,
     "metadata": {},
     "output_type": "execute_result"
    }
   ],
   "source": [
    "p.age"
   ]
  },
  {
   "cell_type": "code",
   "execution_count": 46,
   "id": "a84a5409",
   "metadata": {},
   "outputs": [
    {
     "data": {
      "text/plain": [
       "'hi'"
      ]
     },
     "execution_count": 46,
     "metadata": {},
     "output_type": "execute_result"
    }
   ],
   "source": [
    "#@staticmethod\n",
    "class Coyote:\n",
    "    \n",
    "    @staticmethod\n",
    "    def says(cry): #self없음\n",
    "        return 'hi' + cry\n",
    "Coyote.says()"
   ]
  },
  {
   "cell_type": "code",
   "execution_count": 47,
   "id": "3e97e5ea",
   "metadata": {},
   "outputs": [],
   "source": [
    "from abc import *\n",
    "\n",
    "class Vehicle(metaclass=ABCMeta): #추상클래스\n",
    "    #변수에 뭘 넣을지 정의하기 \n",
    "    speed = '속도'\n",
    "    \n",
    "    #자식 클래스가 오버라이드해야 하는 매서드 정의, 구체화하지 않는다. \n",
    "    @abstractmethod\n",
    "    def drive(self):\n",
    "        print('교통수단에 관하여')\n",
    "        \n",
    "    def stop(self):\n",
    "        pass\n",
    "    \n",
    "    def park(self):\n",
    "        pass\n",
    "    \n",
    "#-------    \n",
    "    \n",
    "    \n",
    "class Car(Vehicle):\n",
    "    def drive(self):\n",
    "        return super().speed"
   ]
  },
  {
   "cell_type": "code",
   "execution_count": null,
   "id": "8c962b5c",
   "metadata": {},
   "outputs": [],
   "source": [
    "Car()"
   ]
  },
  {
   "cell_type": "code",
   "execution_count": null,
   "id": "319c852b",
   "metadata": {},
   "outputs": [],
   "source": [
    "### 매직메소드\n",
    "- _init_ : special method\n",
    "- object 클래스 매서드 재정의하는 것 \n",
    "    - __str__\n",
    "    - __repr__"
   ]
  },
  {
   "cell_type": "code",
   "execution_count": 16,
   "id": "8e542e80",
   "metadata": {},
   "outputs": [],
   "source": [
    "class Person:\n",
    "    def __init__(self, name):\n",
    "        self.name = name\n",
    "        \n",
    "    def __str__(self):\n",
    "        #인스턴스를 스트링으로 출력: 이름, 메모리주소\n",
    "        #print(인스턴스)했으 ㄹ때 출력되는 값\n",
    "        return self.name\n",
    "    \n",
    "    def __repr__(self):\n",
    "        # 사용자 이해할 수 있게 객체를 출력하고 싶을 때 사용한다. \n",
    "        return f'Person({self.name})'"
   ]
  },
  {
   "cell_type": "code",
   "execution_count": 17,
   "id": "cc3a791c",
   "metadata": {},
   "outputs": [],
   "source": [
    "p = Person('Lee')"
   ]
  },
  {
   "cell_type": "code",
   "execution_count": 18,
   "id": "024b6ebe",
   "metadata": {},
   "outputs": [
    {
     "data": {
      "text/plain": [
       "Person(Lee)"
      ]
     },
     "execution_count": 18,
     "metadata": {},
     "output_type": "execute_result"
    }
   ],
   "source": [
    "p"
   ]
  },
  {
   "cell_type": "code",
   "execution_count": 19,
   "id": "f8003bb5",
   "metadata": {},
   "outputs": [
    {
     "name": "stdout",
     "output_type": "stream",
     "text": [
      "Lee\n"
     ]
    }
   ],
   "source": [
    "print(p)"
   ]
  },
  {
   "cell_type": "code",
   "execution_count": 20,
   "id": "9a432d34",
   "metadata": {},
   "outputs": [
    {
     "data": {
      "text/plain": [
       "'Lee'"
      ]
     },
     "execution_count": 20,
     "metadata": {},
     "output_type": "execute_result"
    }
   ],
   "source": [
    "str(p)"
   ]
  },
  {
   "cell_type": "code",
   "execution_count": 21,
   "id": "071f86f1",
   "metadata": {},
   "outputs": [
    {
     "data": {
      "text/plain": [
       "'Person(Lee)'"
      ]
     },
     "execution_count": 21,
     "metadata": {},
     "output_type": "execute_result"
    }
   ],
   "source": [
    "repr(p)"
   ]
  },
  {
   "cell_type": "markdown",
   "id": "494e2dd4",
   "metadata": {},
   "source": [
    "### namedtuple, dataclass\n",
    "- 변수만 있는 클래스 생성할 때 더 효율적으로 사용하는 수단\n",
    "- 딕셔너리 키와 같은 기능\n",
    "- 불변 객체"
   ]
  },
  {
   "cell_type": "code",
   "execution_count": 8,
   "id": "92d373dd",
   "metadata": {},
   "outputs": [],
   "source": [
    "from collections import namedtuple\n",
    "\n",
    "Person = namedtuple('Person','name age')\n",
    "a = Person('kim',33)"
   ]
  },
  {
   "cell_type": "code",
   "execution_count": 9,
   "id": "83e2af93",
   "metadata": {},
   "outputs": [
    {
     "data": {
      "text/plain": [
       "'kim'"
      ]
     },
     "execution_count": 9,
     "metadata": {},
     "output_type": "execute_result"
    }
   ],
   "source": [
    "a.name"
   ]
  },
  {
   "cell_type": "code",
   "execution_count": 10,
   "id": "75494d59",
   "metadata": {},
   "outputs": [
    {
     "data": {
      "text/plain": [
       "33"
      ]
     },
     "execution_count": 10,
     "metadata": {},
     "output_type": "execute_result"
    }
   ],
   "source": [
    "a.age"
   ]
  },
  {
   "cell_type": "code",
   "execution_count": 11,
   "id": "38e73d08",
   "metadata": {},
   "outputs": [
    {
     "data": {
      "text/plain": [
       "Person(name='lee', age=33)"
      ]
     },
     "execution_count": 11,
     "metadata": {},
     "output_type": "execute_result"
    }
   ],
   "source": [
    "a._replace(name = 'lee')"
   ]
  },
  {
   "cell_type": "code",
   "execution_count": 12,
   "id": "c7146ea2",
   "metadata": {},
   "outputs": [],
   "source": [
    "from dataclasses import dataclass\n",
    "\n",
    "@dataclass\n",
    "class Person:\n",
    "    name: str\n",
    "    age: int"
   ]
  },
  {
   "cell_type": "code",
   "execution_count": 13,
   "id": "a308948e",
   "metadata": {},
   "outputs": [],
   "source": [
    "a = Person('kim',33)"
   ]
  },
  {
   "cell_type": "code",
   "execution_count": 14,
   "id": "0119dc37",
   "metadata": {},
   "outputs": [
    {
     "data": {
      "text/plain": [
       "33"
      ]
     },
     "execution_count": 14,
     "metadata": {},
     "output_type": "execute_result"
    }
   ],
   "source": [
    "a.age"
   ]
  }
 ],
 "metadata": {
  "kernelspec": {
   "display_name": "Python 3 (ipykernel)",
   "language": "python",
   "name": "python3"
  },
  "language_info": {
   "codemirror_mode": {
    "name": "ipython",
    "version": 3
   },
   "file_extension": ".py",
   "mimetype": "text/x-python",
   "name": "python",
   "nbconvert_exporter": "python",
   "pygments_lexer": "ipython3",
   "version": "3.9.7"
  }
 },
 "nbformat": 4,
 "nbformat_minor": 5
}
