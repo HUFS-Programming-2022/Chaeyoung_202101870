{
 "cells": [
  {
   "cell_type": "markdown",
   "id": "c5f61f02",
   "metadata": {},
   "source": [
    "## week.12.복습노트 "
   ]
  },
  {
   "cell_type": "markdown",
   "id": "19eefe02",
   "metadata": {},
   "source": [
    "### 함수2"
   ]
  },
  {
   "cell_type": "markdown",
   "id": "0eb5f64b",
   "metadata": {},
   "source": [
    "#### asterisk (stars) *,**"
   ]
  },
  {
   "cell_type": "code",
   "execution_count": 5,
   "id": "af5c5e6d",
   "metadata": {},
   "outputs": [
    {
     "name": "stdout",
     "output_type": "stream",
     "text": [
      "hey hello hi\n"
     ]
    }
   ],
   "source": [
    "def print_arg(*args):\n",
    "    #인자를 튜플로 묶어서 활용하는 역할\n",
    "    print(*args)\n",
    "    \n",
    "print_arg('hey','hello','hi')"
   ]
  },
  {
   "cell_type": "code",
   "execution_count": 14,
   "id": "24bcc898",
   "metadata": {},
   "outputs": [
    {
     "name": "stdout",
     "output_type": "stream",
     "text": [
      "obligatory book\n",
      "1 2 3 4\n",
      "obligatory book\n",
      "(1, 2, 3, 4)\n",
      "obligatory book\n",
      "1 2 3 4\n"
     ]
    }
   ],
   "source": [
    "def print_arg2(name, *args):\n",
    "    print('obligatory',name)\n",
    "    print(*args)\n",
    "    \n",
    "print_arg2('book',1,2,3,4)\n",
    "nums = (1,2,3,4)\n",
    "x = print_arg2('book',nums)\n",
    "y = print_arg2('book',*nums)\n"
   ]
  },
  {
   "cell_type": "markdown",
   "id": "dac80ef5",
   "metadata": {},
   "source": [
    "#### 외부에서 활용하기\n",
    "- 컬렉션 자료형 언패킹 출력 시\n",
    "- zip()\n",
    "- 키워드 전용 인수 선언\n",
    "    - 별 뒤에 오는 매개변수들은 반드시 키워드 인수로 들어오도록 설정하는 역할 \n",
    "    - kargs와 혼선을 빚지 않기 위해"
   ]
  },
  {
   "cell_type": "code",
   "execution_count": 7,
   "id": "50fdd6ec",
   "metadata": {},
   "outputs": [
    {
     "name": "stdout",
     "output_type": "stream",
     "text": [
      "[0, 1, 2, 3, 4]\n"
     ]
    }
   ],
   "source": [
    "nums = list(range(5))\n",
    "print(nums)"
   ]
  },
  {
   "cell_type": "code",
   "execution_count": 13,
   "id": "7f579148",
   "metadata": {},
   "outputs": [
    {
     "name": "stdout",
     "output_type": "stream",
     "text": [
      "(1, 3, 5)\n",
      "(2, 4, 6)\n"
     ]
    }
   ],
   "source": [
    "a = [\n",
    "    [1,2],\n",
    "    [3,4],\n",
    "    [5,6]\n",
    "]\n",
    "#1,3,5 /2,4,6 (열을 출력하고 싶다)\n",
    "for row in zip(*a):\n",
    "    print(row)"
   ]
  },
  {
   "cell_type": "code",
   "execution_count": 21,
   "id": "96e7aea0",
   "metadata": {},
   "outputs": [
    {
     "name": "stdout",
     "output_type": "stream",
     "text": [
      "2\n",
      "3\n"
     ]
    }
   ],
   "source": [
    "def print_data(data, *,start,end): # start, end -> start=0\n",
    "    for value in data[start:end]:\n",
    "        print(value)\n",
    "        \n",
    "print_data(nums, start=1, end=3)"
   ]
  },
  {
   "cell_type": "markdown",
   "id": "df02a7c4",
   "metadata": {},
   "source": [
    "#### **"
   ]
  },
  {
   "cell_type": "code",
   "execution_count": 20,
   "id": "02a28c27",
   "metadata": {},
   "outputs": [
    {
     "name": "stdout",
     "output_type": "stream",
     "text": [
      "{'wine': 'merlot', 'dessert': 'cake'}\n",
      "merlot is semi-sweet\n"
     ]
    }
   ],
   "source": [
    "def print_kargs(**kargs):#딕셔너리로 묶는 기능\n",
    "    print(kargs)\n",
    "    # print(kargs['wine'], 'is semi-sweet') #get/9key, default)\n",
    "    \n",
    "print_kargs(wine='merlot', dessert='cake') "
   ]
  },
  {
   "cell_type": "code",
   "execution_count": 25,
   "id": "8790252b",
   "metadata": {},
   "outputs": [
    {
     "name": "stdout",
     "output_type": "stream",
     "text": [
      "{'wine': 'merlot', 'dessert': 'scone'}\n",
      "merlot is semi-sweet\n",
      "{'wine': 'cabernet', 'dessert': 'scone'}\n",
      "cabernet is semi-sweet\n",
      "{'wine': 'crianza', 'dessert': 'scone'}\n",
      "crianza is semi-sweet\n"
     ]
    }
   ],
   "source": [
    "wine_list = 'merlot cabernet crianza'.split()\n",
    "for wine in wine_list:\n",
    "    print_kargs(wine=wine, dessert='scone')"
   ]
  },
  {
   "cell_type": "code",
   "execution_count": 27,
   "id": "d096a21c",
   "metadata": {},
   "outputs": [
    {
     "name": "stdout",
     "output_type": "stream",
     "text": [
      "15\n",
      "{'first': 1, 'second': 2}\n"
     ]
    }
   ],
   "source": [
    "def print_both(one,two, *args, **kargs):#위치연수-> args -> kargs\n",
    "    print(one + two +sum(args))\n",
    "    print(kargs)\n",
    "    \n",
    "print_both(1,2,3,4,5, first=1, second=2)"
   ]
  },
  {
   "cell_type": "code",
   "execution_count": 28,
   "id": "ef324df0",
   "metadata": {},
   "outputs": [
    {
     "ename": "TypeError",
     "evalue": "print_both() got multiple values for argument 'one'",
     "output_type": "error",
     "traceback": [
      "\u001b[1;31m---------------------------------------------------------------------------\u001b[0m",
      "\u001b[1;31mTypeError\u001b[0m                                 Traceback (most recent call last)",
      "\u001b[1;32m~\\AppData\\Local\\Temp/ipykernel_15712/4070547062.py\u001b[0m in \u001b[0;36m<module>\u001b[1;34m\u001b[0m\n\u001b[0;32m      3\u001b[0m     \u001b[0mprint\u001b[0m\u001b[1;33m(\u001b[0m\u001b[0mkargs\u001b[0m\u001b[1;33m)\u001b[0m\u001b[1;33m\u001b[0m\u001b[1;33m\u001b[0m\u001b[0m\n\u001b[0;32m      4\u001b[0m \u001b[1;33m\u001b[0m\u001b[0m\n\u001b[1;32m----> 5\u001b[1;33m \u001b[0mprint_both\u001b[0m\u001b[1;33m(\u001b[0m\u001b[1;36m1\u001b[0m\u001b[1;33m,\u001b[0m\u001b[1;36m2\u001b[0m\u001b[1;33m,\u001b[0m\u001b[1;36m3\u001b[0m\u001b[1;33m,\u001b[0m\u001b[1;36m4\u001b[0m\u001b[1;33m,\u001b[0m\u001b[1;36m5\u001b[0m\u001b[1;33m,\u001b[0m \u001b[0mone\u001b[0m\u001b[1;33m=\u001b[0m\u001b[1;36m1\u001b[0m\u001b[1;33m,\u001b[0m \u001b[0mtwo\u001b[0m\u001b[1;33m=\u001b[0m\u001b[1;36m2\u001b[0m\u001b[1;33m)\u001b[0m\u001b[1;33m\u001b[0m\u001b[1;33m\u001b[0m\u001b[0m\n\u001b[0m",
      "\u001b[1;31mTypeError\u001b[0m: print_both() got multiple values for argument 'one'"
     ]
    }
   ],
   "source": [
    "#오류나는 경우\n",
    "def print_both(one,two, *args, **kargs):#위치연수-> args -> kargs\n",
    "    print(one + two +sum(args))\n",
    "    print(kargs)\n",
    "    \n",
    "print_both(1,2,3,4,5, one=1, two=2)"
   ]
  },
  {
   "cell_type": "markdown",
   "id": "4d4b9226",
   "metadata": {},
   "source": [
    "#### 딕셔너리 결합할 때 사용할 수 있다 (3.5이상)"
   ]
  },
  {
   "cell_type": "code",
   "execution_count": 30,
   "id": "52748901",
   "metadata": {},
   "outputs": [],
   "source": [
    "x = {1:'a',2:'b'}\n",
    "y = {2:'c',3:'d'}\n",
    "z = {**x,**y}"
   ]
  },
  {
   "cell_type": "code",
   "execution_count": null,
   "id": "6167a2b0",
   "metadata": {},
   "outputs": [],
   "source": [
    "### 일급객체 \n",
    "- first class object / first class citizen\n",
    "- 함수도 객체다.(특이한 개념) \n",
    "- 함수의 인자로 전달 가능\n",
    "- 변환값이 될 수 있다.\n",
    "- 수정, 할당될 수 있다."
   ]
  },
  {
   "cell_type": "code",
   "execution_count": 33,
   "id": "e5fc79f8",
   "metadata": {},
   "outputs": [
    {
     "name": "stdout",
     "output_type": "stream",
     "text": [
      "43\n",
      "43\n"
     ]
    }
   ],
   "source": [
    "def answer():\n",
    "    print(43)\n",
    "    \n",
    "def run_something(func): #파이썬에서만, 함수가 객체이므로\n",
    "    func()\n",
    "    \n",
    "run_something(answer)\n",
    "\n",
    "def run_anything(func):\n",
    "    return func\n",
    "\n",
    "run_anything(answer)() # 괄호 -> 실행"
   ]
  },
  {
   "cell_type": "code",
   "execution_count": 35,
   "id": "7945d17b",
   "metadata": {},
   "outputs": [
    {
     "data": {
      "text/plain": [
       "13"
      ]
     },
     "execution_count": 35,
     "metadata": {},
     "output_type": "execute_result"
    }
   ],
   "source": [
    "def sum_args(*args):\n",
    "    return sum(args)\n",
    "\n",
    "def run_with_positional_args(func, *args):\n",
    "    return func(*args)\n",
    "\n",
    "run_with_positional_args(sum_args, 1,3,4,5)"
   ]
  },
  {
   "cell_type": "code",
   "execution_count": 38,
   "id": "478b2d19",
   "metadata": {},
   "outputs": [],
   "source": [
    "# 가변 인자일 때 -> 초기화하지 않으면 변수 내용이 변할 수 있음\n",
    "def func(num_list):\n",
    "    # 변할 수 있다는 내용을 문서화할 것, 혹은 다른 방법을 찾아볼 것\n",
    "    sum_num = sum(num_list)\n",
    "    num_list.append(sum_num)\n",
    "\n",
    "a = [1, 3, 5]\n",
    "func(a)"
   ]
  },
  {
   "cell_type": "code",
   "execution_count": 39,
   "id": "d914483d",
   "metadata": {},
   "outputs": [
    {
     "data": {
      "text/plain": [
       "[1, 3, 5, 9]"
      ]
     },
     "execution_count": 39,
     "metadata": {},
     "output_type": "execute_result"
    }
   ],
   "source": [
    "a"
   ]
  },
  {
   "cell_type": "code",
   "execution_count": 40,
   "id": "9b669e98",
   "metadata": {},
   "outputs": [],
   "source": [
    "func(a)"
   ]
  },
  {
   "cell_type": "code",
   "execution_count": 43,
   "id": "5b453bce",
   "metadata": {},
   "outputs": [
    {
     "data": {
      "text/plain": [
       "[1, 3, 5, 9, 18]"
      ]
     },
     "execution_count": 43,
     "metadata": {},
     "output_type": "execute_result"
    }
   ],
   "source": [
    "a"
   ]
  },
  {
   "cell_type": "markdown",
   "id": "9bf321a8",
   "metadata": {},
   "source": [
    "#### 내부함수-> 다음주"
   ]
  },
  {
   "cell_type": "markdown",
   "id": "88e1e0fe",
   "metadata": {},
   "source": [
    "#### 익명함수(람다)\n",
    "- lambda\n",
    "- 함수인데 이름이 없음 (def, return)\n",
    "- 왜? 단순한 함수를 사용할 때 \n",
    "- 단, 잦은 사용은 권장하지 않는다. -> 직관적이지 않고 재활용 낮다. \n",
    "- lambda x: <x를 요리할 코드>"
   ]
  },
  {
   "cell_type": "code",
   "execution_count": 48,
   "id": "41f68000",
   "metadata": {},
   "outputs": [
    {
     "data": {
      "text/plain": [
       "'ok'"
      ]
     },
     "execution_count": 48,
     "metadata": {},
     "output_type": "execute_result"
    }
   ],
   "source": [
    "# lambda x: x.lower()\n",
    "\n",
    "def f(x):\n",
    "    return x.lower()\n",
    "\n",
    "f2 = lambda x: x.lower()\n",
    "f2('OK')\n",
    "    "
   ]
  },
  {
   "cell_type": "code",
   "execution_count": 49,
   "id": "16a426c6",
   "metadata": {},
   "outputs": [
    {
     "data": {
      "text/plain": [
       "'ok'"
      ]
     },
     "execution_count": 49,
     "metadata": {},
     "output_type": "execute_result"
    }
   ],
   "source": [
    "(lambda x: x.lower())('OK')"
   ]
  },
  {
   "cell_type": "code",
   "execution_count": 50,
   "id": "91bb8222",
   "metadata": {},
   "outputs": [
    {
     "data": {
      "text/plain": [
       "10"
      ]
     },
     "execution_count": 50,
     "metadata": {},
     "output_type": "execute_result"
    }
   ],
   "source": [
    "f3 = lambda x,y: x + y\n",
    "f3(5,5)"
   ]
  },
  {
   "cell_type": "code",
   "execution_count": null,
   "id": "fbcc2d9c",
   "metadata": {},
   "outputs": [],
   "source": [
    "# abc -> Abc!\n",
    "capitalize(), title() + '!'"
   ]
  },
  {
   "cell_type": "code",
   "execution_count": 2,
   "id": "2fb4b660",
   "metadata": {},
   "outputs": [
    {
     "data": {
      "text/plain": [
       "'ABC!'"
      ]
     },
     "execution_count": 2,
     "metadata": {},
     "output_type": "execute_result"
    }
   ],
   "source": [
    "f4 = lambda x: x.upper()+'!'\n",
    "f4('Abc')"
   ]
  }
 ],
 "metadata": {
  "kernelspec": {
   "display_name": "Python 3 (ipykernel)",
   "language": "python",
   "name": "python3"
  },
  "language_info": {
   "codemirror_mode": {
    "name": "ipython",
    "version": 3
   },
   "file_extension": ".py",
   "mimetype": "text/x-python",
   "name": "python",
   "nbconvert_exporter": "python",
   "pygments_lexer": "ipython3",
   "version": "3.9.7"
  }
 },
 "nbformat": 4,
 "nbformat_minor": 5
}
