{
 "cells": [
  {
   "cell_type": "markdown",
   "id": "6a295f66",
   "metadata": {},
   "source": [
    "# week14 복습노트"
   ]
  },
  {
   "cell_type": "markdown",
   "id": "0701f337",
   "metadata": {},
   "source": [
    "## 함수 II\n",
    "- 중첩함수\n",
    "    - 캡슐화 목적\n",
    "        - 변수 범위를 제한할 수 있다. \n",
    "        - 책임, 관리 명확해짐 \n",
    "- 제너레이터\n",
    "- 재귀 함수"
   ]
  },
  {
   "cell_type": "markdown",
   "id": "567b3361",
   "metadata": {},
   "source": [
    "### 중첩함수\n",
    "- 캡슐화 목적\n",
    "    - 변수 범위를 제한할 수 있다. \n",
    "    - 책임, 관리 명확해짐 "
   ]
  },
  {
   "cell_type": "code",
   "execution_count": 1,
   "id": "c948afa3",
   "metadata": {},
   "outputs": [
    {
     "data": {
      "text/plain": [
       "4"
      ]
     },
     "execution_count": 1,
     "metadata": {},
     "output_type": "execute_result"
    }
   ],
   "source": [
    "def outer(a,b):  # 외부함수\n",
    "    def inner(c,d):  # 내부함수\n",
    "        return c + d\n",
    "    return inner(a,b)\n",
    "\n",
    "outer(2,2)"
   ]
  },
  {
   "cell_type": "code",
   "execution_count": 2,
   "id": "c9048cb1",
   "metadata": {},
   "outputs": [
    {
     "ename": "NameError",
     "evalue": "name 'inner' is not defined",
     "output_type": "error",
     "traceback": [
      "\u001b[1;31m---------------------------------------------------------------------------\u001b[0m",
      "\u001b[1;31mNameError\u001b[0m                                 Traceback (most recent call last)",
      "\u001b[1;32m~\\AppData\\Local\\Temp/ipykernel_15480/1171860168.py\u001b[0m in \u001b[0;36m<module>\u001b[1;34m\u001b[0m\n\u001b[1;32m----> 1\u001b[1;33m \u001b[0minner\u001b[0m\u001b[1;33m(\u001b[0m\u001b[1;36m2\u001b[0m\u001b[1;33m,\u001b[0m\u001b[1;36m2\u001b[0m\u001b[1;33m)\u001b[0m\u001b[1;33m\u001b[0m\u001b[1;33m\u001b[0m\u001b[0m\n\u001b[0m",
      "\u001b[1;31mNameError\u001b[0m: name 'inner' is not defined"
     ]
    }
   ],
   "source": [
    "inner(2,2) # error-> 선언한 적 없다. "
   ]
  },
  {
   "cell_type": "code",
   "execution_count": 6,
   "id": "ddac462c",
   "metadata": {},
   "outputs": [],
   "source": [
    "def knights(saying):\n",
    "    def inner(quote):\n",
    "        return f'we are the knights who say: {quote}'\n",
    "    return inner(saying)\n",
    "\n",
    "case1 = knights('Ni!')"
   ]
  },
  {
   "cell_type": "code",
   "execution_count": 7,
   "id": "032ab91f",
   "metadata": {},
   "outputs": [
    {
     "data": {
      "text/plain": [
       "'we are the knights who say: Ni!'"
      ]
     },
     "execution_count": 7,
     "metadata": {},
     "output_type": "execute_result"
    }
   ],
   "source": [
    "case1"
   ]
  },
  {
   "cell_type": "markdown",
   "id": "d1616375",
   "metadata": {},
   "source": [
    "## 클로저\n",
    "- 자신을 둘러싼 scope (name space)의 상태값을 기억하는 함수\n",
    "- 메모리 효율적 사용 (함수 호출 시 꺼낼 수 있다)\n",
    "- 조건\n",
    "    - 중첩함수여야 함 \n",
    "    - 외부함수의 상태값 참조해야 함\n",
    "    - 외부함수가 내부함수를 변환해야 함"
   ]
  },
  {
   "cell_type": "code",
   "execution_count": 2,
   "id": "65031756",
   "metadata": {},
   "outputs": [
    {
     "data": {
      "text/plain": [
       "<function __main__.multiply(x)>"
      ]
     },
     "execution_count": 2,
     "metadata": {},
     "output_type": "execute_result"
    }
   ],
   "source": [
    "def multiply(x):\n",
    "    def inner(y):\n",
    "        return x * y\n",
    "    return inner # 함수 실행되기 전\n",
    "\n",
    "multiply"
   ]
  },
  {
   "cell_type": "code",
   "execution_count": 3,
   "id": "ba2bda8a",
   "metadata": {},
   "outputs": [],
   "source": [
    "m5 = multiply(5) # x = 5\n",
    "m6 = multiply(6) # x = 6"
   ]
  },
  {
   "cell_type": "code",
   "execution_count": 4,
   "id": "f086930a",
   "metadata": {},
   "outputs": [
    {
     "data": {
      "text/plain": [
       "30"
      ]
     },
     "execution_count": 4,
     "metadata": {},
     "output_type": "execute_result"
    }
   ],
   "source": [
    "m5(6)"
   ]
  },
  {
   "cell_type": "code",
   "execution_count": 5,
   "id": "cdf2ae81",
   "metadata": {},
   "outputs": [],
   "source": [
    "del(multiply)"
   ]
  },
  {
   "cell_type": "code",
   "execution_count": 20,
   "id": "79070a96",
   "metadata": {},
   "outputs": [
    {
     "data": {
      "text/plain": [
       "50"
      ]
     },
     "execution_count": 20,
     "metadata": {},
     "output_type": "execute_result"
    }
   ],
   "source": [
    "m5(10) # inner상태 유지, memory는 사용하지 않음"
   ]
  },
  {
   "cell_type": "markdown",
   "id": "5525307f",
   "metadata": {},
   "source": [
    "### 데코레이터\n",
    "- 메인 함수에 또 다른 함수를 데코레이터로 선언하여 사용할 수 있음\n",
    "- 목적:\n",
    "    - 재사용, 직관적임, 가독성"
   ]
  },
  {
   "cell_type": "code",
   "execution_count": 25,
   "id": "2948cffa",
   "metadata": {},
   "outputs": [],
   "source": [
    "def document_it(func):\n",
    "    def new_func(*args, **kargs):\n",
    "        print('argument: ', *args)\n",
    "        print('key argument: ', kargs)\n",
    "        return func(*args, **kargs)\n",
    "    return new_func\n",
    "\n",
    "@document_it\n",
    "def add(a,b):\n",
    "    return a + b\n",
    "\n",
    "@document_it\n",
    "def substract (a,b):\n",
    "        return a - b\n"
   ]
  },
  {
   "cell_type": "code",
   "execution_count": 26,
   "id": "4923b370",
   "metadata": {},
   "outputs": [
    {
     "name": "stdout",
     "output_type": "stream",
     "text": [
      "argument:  1 3\n",
      "key argument:  {}\n"
     ]
    },
    {
     "data": {
      "text/plain": [
       "4"
      ]
     },
     "execution_count": 26,
     "metadata": {},
     "output_type": "execute_result"
    }
   ],
   "source": [
    "add(1,3)"
   ]
  },
  {
   "cell_type": "markdown",
   "id": "fe72973a",
   "metadata": {},
   "source": [
    "#### add에 활용할 중첩함수 만들기\n",
    "- 결과값의 제곱 값을 변환하는 클로저 함수 만들기"
   ]
  },
  {
   "cell_type": "code",
   "execution_count": 27,
   "id": "7cd50d6d",
   "metadata": {},
   "outputs": [],
   "source": [
    "def square(func):\n",
    "    def inner(): ## x-> x + x\n",
    "        return ##\n",
    "    return inner"
   ]
  },
  {
   "cell_type": "code",
   "execution_count": 28,
   "id": "fa6be788",
   "metadata": {},
   "outputs": [],
   "source": [
    "@square\n",
    "def add(a,b):\n",
    "    return a + b"
   ]
  },
  {
   "cell_type": "code",
   "execution_count": 32,
   "id": "5a207041",
   "metadata": {},
   "outputs": [],
   "source": [
    "def square(func):\n",
    "    def new_func(*args):\n",
    "        result = func(*args)\n",
    "        return result * result\n",
    "    return new_func\n",
    "\n",
    "@square\n",
    "def add(a,b):\n",
    "    return a + b"
   ]
  },
  {
   "cell_type": "code",
   "execution_count": 34,
   "id": "69ef090c",
   "metadata": {},
   "outputs": [
    {
     "data": {
      "text/plain": [
       "49"
      ]
     },
     "execution_count": 34,
     "metadata": {},
     "output_type": "execute_result"
    }
   ],
   "source": [
    "add(3,4)  #7*7"
   ]
  },
  {
   "cell_type": "code",
   "execution_count": null,
   "id": "1b500d69",
   "metadata": {},
   "outputs": [],
   "source": [
    "# 전역 (global)\n",
    "a = 4\n",
    "def square(func):\n",
    "    # 지역 (local)\n",
    "    def new_func(*args):\n",
    "        # 지역 내의 지역?\n",
    "        result = func(*args)\n",
    "        return result * result\n",
    "    return new_func"
   ]
  },
  {
   "cell_type": "code",
   "execution_count": 35,
   "id": "955e839c",
   "metadata": {},
   "outputs": [
    {
     "data": {
      "text/plain": [
       "10"
      ]
     },
     "execution_count": 35,
     "metadata": {},
     "output_type": "execute_result"
    }
   ],
   "source": [
    "z = 3\n",
    "def outer(x):\n",
    "    y = 4\n",
    "    def inner():\n",
    "        x = 1000\n",
    "        return x\n",
    "    return x\n",
    "\n",
    "outer(10) #7"
   ]
  },
  {
   "cell_type": "code",
   "execution_count": 38,
   "id": "61202602",
   "metadata": {},
   "outputs": [
    {
     "data": {
      "text/plain": [
       "1000"
      ]
     },
     "execution_count": 38,
     "metadata": {},
     "output_type": "execute_result"
    }
   ],
   "source": [
    "z = 3\n",
    "def outer(x): # x값 참조 \n",
    "    y = 4\n",
    "    def inner():\n",
    "        # x = 10\n",
    "        nonlocal x\n",
    "        x = 1000\n",
    "        return x #1000\n",
    "    return inner()\n",
    "\n",
    "outer(10) #1000"
   ]
  },
  {
   "cell_type": "code",
   "execution_count": 41,
   "id": "5fda6c14",
   "metadata": {},
   "outputs": [
    {
     "ename": "TypeError",
     "evalue": "my_func() missing 1 required positional argument: 'list'",
     "output_type": "error",
     "traceback": [
      "\u001b[1;31m---------------------------------------------------------------------------\u001b[0m",
      "\u001b[1;31mTypeError\u001b[0m                                 Traceback (most recent call last)",
      "\u001b[1;32m~\\AppData\\Local\\Temp/ipykernel_15480/3001150862.py\u001b[0m in \u001b[0;36m<module>\u001b[1;34m\u001b[0m\n\u001b[0;32m      4\u001b[0m \u001b[1;33m\u001b[0m\u001b[0m\n\u001b[0;32m      5\u001b[0m \u001b[0ma\u001b[0m\u001b[1;33m=\u001b[0m\u001b[1;33m[\u001b[0m\u001b[1;36m1\u001b[0m\u001b[1;33m,\u001b[0m\u001b[1;36m2\u001b[0m\u001b[1;33m,\u001b[0m\u001b[1;36m3\u001b[0m\u001b[1;33m]\u001b[0m\u001b[1;33m\u001b[0m\u001b[1;33m\u001b[0m\u001b[0m\n\u001b[1;32m----> 6\u001b[1;33m \u001b[0mmy_func\u001b[0m\u001b[1;33m(\u001b[0m\u001b[0ma\u001b[0m\u001b[1;33m)\u001b[0m\u001b[1;33m\u001b[0m\u001b[1;33m\u001b[0m\u001b[0m\n\u001b[0m",
      "\u001b[1;31mTypeError\u001b[0m: my_func() missing 1 required positional argument: 'list'"
     ]
    }
   ],
   "source": [
    "def my_func(nums,list):\n",
    "    #문자화-> 사용자가 알 수 있게 \n",
    "    nums.append(sum(nums))\n",
    "\n",
    "a = [1,2,3]\n",
    "my_func(a)"
   ]
  },
  {
   "cell_type": "code",
   "execution_count": null,
   "id": "10d5bcbf",
   "metadata": {},
   "outputs": [],
   "source": [
    "my_func(a)\n",
    "my_func(a)\n",
    "my_func(a)"
   ]
  },
  {
   "cell_type": "code",
   "execution_count": null,
   "id": "ca9e1030",
   "metadata": {},
   "outputs": [],
   "source": [
    "a"
   ]
  },
  {
   "cell_type": "markdown",
   "id": "4ccdfa0d",
   "metadata": {},
   "source": [
    "### 실습 \n",
    "1. 함수: 차 속도, 제한 속도를 비교해서 true/false \n",
    "\n",
    "2. 데코레이터 함수 \n",
    "- 만약 제한 속도를 초과했다면 얼마나 초과했는지 프린트하는 함수\n",
    "- 예: 100, 80 \n",
    "- \"20 km/h 초과\""
   ]
  },
  {
   "cell_type": "code",
   "execution_count": 49,
   "id": "197d2ddc",
   "metadata": {},
   "outputs": [],
   "source": [
    "def calc_speed(func):\n",
    "    def inner(speed, limit):\n",
    "        if func(speed, limit):\n",
    "            return f'초과 속도: {speed - limit} km/h'\n",
    "        else:\n",
    "            return f'정상 속도'\n",
    "    return inner"
   ]
  },
  {
   "cell_type": "code",
   "execution_count": 50,
   "id": "ca19344d",
   "metadata": {},
   "outputs": [
    {
     "data": {
      "text/plain": [
       "'초과 속도: 20 km/h'"
      ]
     },
     "execution_count": 50,
     "metadata": {},
     "output_type": "execute_result"
    }
   ],
   "source": [
    "@calc_speed\n",
    "def is_speeding(speed, limit):\n",
    "    return speed > limit\n",
    "\n",
    "is_speeding(100,80)"
   ]
  },
  {
   "cell_type": "markdown",
   "id": "65f76c99",
   "metadata": {},
   "source": [
    "### 제너레이터\n",
    "- return -> yield \n",
    "- 순회의 리턴값을 하나씩 변환\n",
    "- 시퀀스를 생성하는 객체\n",
    "- 메모리 효율성 총대 "
   ]
  },
  {
   "cell_type": "code",
   "execution_count": null,
   "id": "ce3c1456",
   "metadata": {},
   "outputs": [],
   "source": [
    "def ...():\n",
    "    for i in range(5):\n",
    "        yield i "
   ]
  },
  {
   "cell_type": "code",
   "execution_count": 57,
   "id": "fa6b2f99",
   "metadata": {},
   "outputs": [],
   "source": [
    "names = 'Kevin Michael Juliette Laura'.split()\n",
    "\n",
    "def printing(name_list:list):\n",
    "    for name in name_list:\n",
    "        yield name\n",
    "        \n",
    "name_list = printing(names)"
   ]
  },
  {
   "cell_type": "code",
   "execution_count": 58,
   "id": "99c5ecf6",
   "metadata": {},
   "outputs": [
    {
     "name": "stdout",
     "output_type": "stream",
     "text": [
      "Kevin\n",
      "Michael\n",
      "Juliette\n",
      "Laura\n"
     ]
    }
   ],
   "source": [
    "for i in printing(names):\n",
    "    print(i)"
   ]
  },
  {
   "cell_type": "code",
   "execution_count": 59,
   "id": "7df06751",
   "metadata": {},
   "outputs": [
    {
     "name": "stdout",
     "output_type": "stream",
     "text": [
      "Kevin\n",
      "Michael\n",
      "Juliette\n",
      "Laura\n"
     ]
    }
   ],
   "source": [
    "for i in name_list:\n",
    "    print(i)"
   ]
  },
  {
   "cell_type": "code",
   "execution_count": null,
   "id": "f929b53a",
   "metadata": {},
   "outputs": [],
   "source": [
    "\"\"\"\"\"\"# 실습: range 함수 구분하기\n",
    "- def my_range(start, end, step):\n",
    "    # 작성하기(range()쓰면 안됨)\n",
    "    yield\n",
    "\"\"\"\n",
    "    \n",
    "ranger = my_range(1,10)"
   ]
  },
  {
   "cell_type": "code",
   "execution_count": null,
   "id": "c45065be",
   "metadata": {},
   "outputs": [],
   "source": [
    "def my_range(start)"
   ]
  },
  {
   "cell_type": "code",
   "execution_count": null,
   "id": "013f3e63",
   "metadata": {},
   "outputs": [],
   "source": [
    "[i for i in range(10)]"
   ]
  },
  {
   "cell_type": "code",
   "execution_count": null,
   "id": "d32a22fb",
   "metadata": {},
   "outputs": [],
   "source": [
    "ranger = (i for i in range(10))"
   ]
  },
  {
   "cell_type": "code",
   "execution_count": null,
   "id": "60fafebf",
   "metadata": {},
   "outputs": [],
   "source": [
    "for i in ranger:\n",
    "    print(f'k{i}')"
   ]
  },
  {
   "cell_type": "markdown",
   "id": "48a6358b",
   "metadata": {},
   "source": [
    "### 재귀함수\n",
    "- 자기 자신을 호출하는 함수\n",
    "- 재귀가 너무 깊어지면 예의 발생. 주의해야 함\n",
    "- [[a, ,b], [[[a,b,c],b,c]]]\n",
    "    -> 모든 요소의 차원을 단일화시킬 때 \n",
    "    [a,b,a,b,c,...]"
   ]
  },
  {
   "cell_type": "code",
   "execution_count": 60,
   "id": "d47c5275",
   "metadata": {},
   "outputs": [
    {
     "data": {
      "text/plain": [
       "<generator object flatten at 0x000002A12386F7B0>"
      ]
     },
     "execution_count": 60,
     "metadata": {},
     "output_type": "execute_result"
    }
   ],
   "source": [
    "def flatten(sent):\n",
    "    for word in sent:\n",
    "        if isinstance(word, list):\n",
    "            #리스트가 맞다\n",
    "            for sub_word in flatten(word):\n",
    "                yield sub_word\n",
    "                \n",
    "            else:\n",
    "                yield word\n",
    "a = [1,2,[2,3,4],[[[1,2]]]]\n",
    "flatten(a)"
   ]
  },
  {
   "cell_type": "code",
   "execution_count": 61,
   "id": "6724de53",
   "metadata": {},
   "outputs": [
    {
     "name": "stdout",
     "output_type": "stream",
     "text": [
      "[2, 3, 4]\n",
      "[1, 2]\n",
      "[[1, 2]]\n",
      "[[[1, 2]]]\n"
     ]
    }
   ],
   "source": [
    "for i in flatten(a):\n",
    "    print(i)"
   ]
  },
  {
   "cell_type": "code",
   "execution_count": 63,
   "id": "d9289ab2",
   "metadata": {},
   "outputs": [
    {
     "data": {
      "text/plain": [
       "False"
      ]
     },
     "execution_count": 63,
     "metadata": {},
     "output_type": "execute_result"
    }
   ],
   "source": [
    "isinstance('word', int)"
   ]
  },
  {
   "cell_type": "markdown",
   "id": "b1cc233a",
   "metadata": {},
   "source": [
    "### 예외처리 | exception handling\n",
    "- 프로그램 동작 중 예외가 발생했을 때 대처하기 위함\n",
    "- 사용자에게 예외를 알리고, 원하는 조치를 설정한다. \n",
    "- 프로그램이 정상적으로 종료가 할 수 있다."
   ]
  },
  {
   "cell_type": "code",
   "execution_count": 64,
   "id": "7df8a370",
   "metadata": {},
   "outputs": [
    {
     "ename": "ZeroDivisionError",
     "evalue": "division by zero",
     "output_type": "error",
     "traceback": [
      "\u001b[1;31m---------------------------------------------------------------------------\u001b[0m",
      "\u001b[1;31mZeroDivisionError\u001b[0m                         Traceback (most recent call last)",
      "\u001b[1;32m~\\AppData\\Local\\Temp/ipykernel_15480/2219314525.py\u001b[0m in \u001b[0;36m<module>\u001b[1;34m\u001b[0m\n\u001b[1;32m----> 1\u001b[1;33m \u001b[1;36m5\u001b[0m \u001b[1;33m/\u001b[0m \u001b[1;36m0\u001b[0m\u001b[1;33m\u001b[0m\u001b[1;33m\u001b[0m\u001b[0m\n\u001b[0m",
      "\u001b[1;31mZeroDivisionError\u001b[0m: division by zero"
     ]
    }
   ],
   "source": [
    "5 / 0"
   ]
  },
  {
   "cell_type": "code",
   "execution_count": 65,
   "id": "86d5fb63",
   "metadata": {},
   "outputs": [
    {
     "ename": "IndexError",
     "evalue": "list index out of range",
     "output_type": "error",
     "traceback": [
      "\u001b[1;31m---------------------------------------------------------------------------\u001b[0m",
      "\u001b[1;31mIndexError\u001b[0m                                Traceback (most recent call last)",
      "\u001b[1;32m~\\AppData\\Local\\Temp/ipykernel_15480/3049130754.py\u001b[0m in \u001b[0;36m<module>\u001b[1;34m\u001b[0m\n\u001b[0;32m      1\u001b[0m \u001b[0ma\u001b[0m \u001b[1;33m=\u001b[0m \u001b[1;33m[\u001b[0m\u001b[1;36m1\u001b[0m\u001b[1;33m,\u001b[0m\u001b[1;36m2\u001b[0m\u001b[1;33m,\u001b[0m\u001b[1;36m3\u001b[0m\u001b[1;33m]\u001b[0m\u001b[1;33m\u001b[0m\u001b[1;33m\u001b[0m\u001b[0m\n\u001b[1;32m----> 2\u001b[1;33m \u001b[0ma\u001b[0m\u001b[1;33m[\u001b[0m\u001b[1;36m5\u001b[0m\u001b[1;33m]\u001b[0m\u001b[1;33m\u001b[0m\u001b[1;33m\u001b[0m\u001b[0m\n\u001b[0m",
      "\u001b[1;31mIndexError\u001b[0m: list index out of range"
     ]
    }
   ],
   "source": [
    "a = [1,2,3]\n",
    "a[5]"
   ]
  },
  {
   "cell_type": "code",
   "execution_count": 66,
   "id": "1e0adb44",
   "metadata": {},
   "outputs": [
    {
     "ename": "ValueError",
     "evalue": "invalid literal for int() with base 10: 'hello'",
     "output_type": "error",
     "traceback": [
      "\u001b[1;31m---------------------------------------------------------------------------\u001b[0m",
      "\u001b[1;31mValueError\u001b[0m                                Traceback (most recent call last)",
      "\u001b[1;32m~\\AppData\\Local\\Temp/ipykernel_15480/1136785238.py\u001b[0m in \u001b[0;36m<module>\u001b[1;34m\u001b[0m\n\u001b[1;32m----> 1\u001b[1;33m \u001b[0mint\u001b[0m\u001b[1;33m(\u001b[0m\u001b[1;34m'hello'\u001b[0m\u001b[1;33m)\u001b[0m\u001b[1;33m\u001b[0m\u001b[1;33m\u001b[0m\u001b[0m\n\u001b[0m",
      "\u001b[1;31mValueError\u001b[0m: invalid literal for int() with base 10: 'hello'"
     ]
    }
   ],
   "source": [
    "int('hello')"
   ]
  },
  {
   "cell_type": "code",
   "execution_count": 67,
   "id": "6e6e9b02",
   "metadata": {},
   "outputs": [
    {
     "ename": "NameError",
     "evalue": "name 'k' is not defined",
     "output_type": "error",
     "traceback": [
      "\u001b[1;31m---------------------------------------------------------------------------\u001b[0m",
      "\u001b[1;31mNameError\u001b[0m                                 Traceback (most recent call last)",
      "\u001b[1;32m~\\AppData\\Local\\Temp/ipykernel_15480/2542369611.py\u001b[0m in \u001b[0;36m<module>\u001b[1;34m\u001b[0m\n\u001b[1;32m----> 1\u001b[1;33m \u001b[0mk\u001b[0m \u001b[1;33m+=\u001b[0m \u001b[1;36m1\u001b[0m\u001b[1;33m\u001b[0m\u001b[1;33m\u001b[0m\u001b[0m\n\u001b[0m",
      "\u001b[1;31mNameError\u001b[0m: name 'k' is not defined"
     ]
    }
   ],
   "source": [
    "k += 1"
   ]
  },
  {
   "cell_type": "code",
   "execution_count": 68,
   "id": "927470d9",
   "metadata": {},
   "outputs": [
    {
     "name": "stdout",
     "output_type": "stream",
     "text": [
      "0으로 나눌 수 없음\n"
     ]
    }
   ],
   "source": [
    "try:\n",
    "    5/0\n",
    "except ZeroDivisionError:\n",
    "    # 예외 시 행할 행동\n",
    "    print('0으로 나눌 수 없음')"
   ]
  },
  {
   "cell_type": "code",
   "execution_count": 70,
   "id": "00d1279e",
   "metadata": {},
   "outputs": [
    {
     "name": "stdout",
     "output_type": "stream",
     "text": [
      "0으로 나눌 수 없음\n",
      "10.0\n",
      "5.0\n",
      "3.3333333333333335\n",
      "2.5\n",
      "2.0\n",
      "1.6666666666666667\n",
      "1.4285714285714286\n",
      "1.25\n",
      "1.1111111111111112\n"
     ]
    }
   ],
   "source": [
    "for i in range(10):\n",
    "    try:\n",
    "        print(10 / i)\n",
    "    except ZeroDivisionError:\n",
    "        # 예외 시 행할 행동\n",
    "        print('0으로 나눌 수 없음')"
   ]
  },
  {
   "cell_type": "code",
   "execution_count": null,
   "id": "53a7d939",
   "metadata": {},
   "outputs": [],
   "source": [
    "word = 'hello'\n",
    "\n",
    "while True:\n",
    "    index = input('인덱스를 입력하세요>> ')\n",
    "    if index == 'q':\n",
    "        break\n",
    "    try:\n",
    "        index = int(word) #ValueError, IndexError\n",
    "        print(index)\n",
    "    except ValueError as e1: #에러 핸들러\n",
    "        print(e1) #에러 메시지\n",
    "    except IndexError as e2:\n",
    "        print(e2)"
   ]
  },
  {
   "cell_type": "markdown",
   "id": "26e6b839",
   "metadata": {},
   "source": [
    "### 예외 일으키기\n",
    "- 프로그램을 강제 종료시키기 위해 사용함\n",
    "- raise, assert\n",
    "- AssertionError"
   ]
  },
  {
   "cell_type": "code",
   "execution_count": null,
   "id": "85959e87",
   "metadata": {},
   "outputs": [],
   "source": [
    "raise 예외타입"
   ]
  },
  {
   "cell_type": "code",
   "execution_count": null,
   "id": "d50e8421",
   "metadata": {},
   "outputs": [],
   "source": [
    "while True:\n",
    "    num = input('숫자>>')\n",
    "    if not num.isdigit():\n",
    "        raise ValueError('숫자가 아닙니다.')\n",
    "    else:\n",
    "        print(int(num)+5)"
   ]
  },
  {
   "cell_type": "code",
   "execution_count": null,
   "id": "f9ecd252",
   "metadata": {},
   "outputs": [],
   "source": [
    "assert <참인 조건>, <False일 경우 내보낼 메시지>"
   ]
  },
  {
   "cell_type": "code",
   "execution_count": null,
   "id": "1c7c73ca",
   "metadata": {},
   "outputs": [],
   "source": [
    "def get_binary(num):\n",
    "    assert isinstance(num, int), '정수 아님'\n",
    "    return bin(num)\n",
    "get_binary('10')"
   ]
  },
  {
   "cell_type": "markdown",
   "id": "e405cea6",
   "metadata": {},
   "source": [
    "### 사용자 정의 예외 타입\n",
    "- class 선언, Exception 클래스를 상속 받는다. "
   ]
  },
  {
   "cell_type": "code",
   "execution_count": null,
   "id": "4ba1e2cb",
   "metadata": {},
   "outputs": [],
   "source": [
    "class MyException(Exception):\n",
    "    pas"
   ]
  },
  {
   "cell_type": "code",
   "execution_count": null,
   "id": "2e99d409",
   "metadata": {},
   "outputs": [],
   "source": [
    "cities = 'dublin newyork seoul TOKYO'.split()\n",
    "\n",
    "for city in cities:\n",
    "    if city.isupper():\n",
    "        raise MyException('대문자 안됨')\n",
    "    else: \n",
    "        print(city)"
   ]
  },
  {
   "cell_type": "code",
   "execution_count": 8,
   "id": "c007689e",
   "metadata": {},
   "outputs": [],
   "source": [
    "class UppercaseException(Exception):\n",
    "    def __init__(self):\n",
    "        super().__init__('대문자 안됨')"
   ]
  }
 ],
 "metadata": {
  "kernelspec": {
   "display_name": "Python 3 (ipykernel)",
   "language": "python",
   "name": "python3"
  },
  "language_info": {
   "codemirror_mode": {
    "name": "ipython",
    "version": 3
   },
   "file_extension": ".py",
   "mimetype": "text/x-python",
   "name": "python",
   "nbconvert_exporter": "python",
   "pygments_lexer": "ipython3",
   "version": "3.9.7"
  }
 },
 "nbformat": 4,
 "nbformat_minor": 5
}
