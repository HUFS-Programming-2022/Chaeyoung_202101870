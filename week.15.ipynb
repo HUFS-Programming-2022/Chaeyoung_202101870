{
 "cells": [
  {
   "cell_type": "markdown",
   "id": "cb41bb3b",
   "metadata": {},
   "source": [
    "# week 15 복습노트"
   ]
  },
  {
   "cell_type": "markdown",
   "id": "04600911",
   "metadata": {},
   "source": [
    "### 파일과 디렉터리\n",
    "- 파일: 컴퓨터를 실행할 때 가장 기본이 되는 단위\n",
    "- 디렉터리: 폴더, 파일을 논리적으로 묶어놓은 다위\n",
    "    - 지빠구리: a,b,c, ...\n",
    "- 파일 = 파일명 + 확장자(.txt, .csv, ...)\n",
    "- 바이너리, 텍스트\n",
    "    - 바이너리: 엑셀, 워드, ... \n",
    "    - 텍스트: 바이너리 -> 문자로 변환\n",
    "        - 메모장, python, html, ...\n",
    "        - 기준: 아스키코드, 유니코드 제정 (\"인코딩\")\n",
    "        - utf-8\n",
    "        - cp494\n",
    "f = open(파일명, 모드)\n",
    "    - r:read (default)\n",
    "    - w:write (없으면 새로 만들고 있으면 덮어쓴다)\n",
    "    - a:add (기존 파일에 마지막에 추가)\n",
    "    - x:write (없을 때만 쓸 수 있게)\n",
    "<알고만 있기>    \n",
    "    - b: 바이너리\n",
    "    - t:(default) 텍스트\n",
    "    - rb, rt, .."
   ]
  },
  {
   "cell_type": "code",
   "execution_count": 23,
   "id": "cab762d2",
   "metadata": {},
   "outputs": [
    {
     "data": {
      "text/plain": [
       "'hello'"
      ]
     },
     "execution_count": 23,
     "metadata": {},
     "output_type": "execute_result"
    }
   ],
   "source": [
    "f = open('test.txt','r')\n",
    "f.read(5)"
   ]
  },
  {
   "cell_type": "code",
   "execution_count": 24,
   "id": "e8dc94cf",
   "metadata": {},
   "outputs": [
    {
     "data": {
      "text/plain": [
       "' worl'"
      ]
     },
     "execution_count": 24,
     "metadata": {},
     "output_type": "execute_result"
    }
   ],
   "source": [
    "f.read(5)"
   ]
  },
  {
   "cell_type": "code",
   "execution_count": 25,
   "id": "67d805d0",
   "metadata": {},
   "outputs": [],
   "source": [
    "f = open('test.txt','r')\n",
    "data = f.read(5)"
   ]
  },
  {
   "cell_type": "code",
   "execution_count": 26,
   "id": "c8087c48",
   "metadata": {},
   "outputs": [
    {
     "data": {
      "text/plain": [
       "'hello'"
      ]
     },
     "execution_count": 26,
     "metadata": {},
     "output_type": "execute_result"
    }
   ],
   "source": [
    "data"
   ]
  },
  {
   "cell_type": "code",
   "execution_count": 27,
   "id": "73e5da1c",
   "metadata": {},
   "outputs": [],
   "source": [
    "f.close() # 자원 해제 ->> 다른 프로그램에서 동시에 호출하면 에러남"
   ]
  },
  {
   "cell_type": "code",
   "execution_count": null,
   "id": "cc8f89ba",
   "metadata": {},
   "outputs": [],
   "source": [
    "with open(파일, 모드) as f:\n",
    "        ....... open 함수 기능이 유지되는 블록\n",
    "자원 해제됨 (자동)"
   ]
  },
  {
   "cell_type": "code",
   "execution_count": 29,
   "id": "9b237301",
   "metadata": {},
   "outputs": [
    {
     "data": {
      "text/plain": [
       "'hello world'"
      ]
     },
     "execution_count": 29,
     "metadata": {},
     "output_type": "execute_result"
    }
   ],
   "source": [
    "with open('test.txt','r') as f:\n",
    "    data = f.read()\n",
    "    \n",
    "data"
   ]
  },
  {
   "cell_type": "code",
   "execution_count": 30,
   "id": "3411a32c",
   "metadata": {},
   "outputs": [
    {
     "data": {
      "text/plain": [
       "'hello world'"
      ]
     },
     "execution_count": 30,
     "metadata": {},
     "output_type": "execute_result"
    }
   ],
   "source": [
    "with open('test.txt','r') as f:\n",
    "    data = f.readline()\n",
    "    \n",
    "data"
   ]
  },
  {
   "cell_type": "code",
   "execution_count": 31,
   "id": "dbde4f90",
   "metadata": {},
   "outputs": [],
   "source": [
    "# read() :str\n",
    "# readline() : 한줄씩\n",
    "# readlines() : 전체를 한줄씩 str 담아서 리스트로"
   ]
  },
  {
   "cell_type": "code",
   "execution_count": 32,
   "id": "0f40c313",
   "metadata": {},
   "outputs": [
    {
     "data": {
      "text/plain": [
       "['hello world']"
      ]
     },
     "execution_count": 32,
     "metadata": {},
     "output_type": "execute_result"
    }
   ],
   "source": [
    "with open('test.txt','r') as f:\n",
    "    data = f.readlines()\n",
    "    # 텍스트 정제\n",
    "    data = [line.strip() for line in data]\n",
    "    \n",
    "data"
   ]
  },
  {
   "cell_type": "code",
   "execution_count": null,
   "id": "4c882775",
   "metadata": {},
   "outputs": [],
   "source": [
    "file = '../text2.txt'\n",
    "\n",
    "with open(file) as f:\n",
    "    f.read()"
   ]
  },
  {
   "cell_type": "code",
   "execution_count": 34,
   "id": "8f0411c9",
   "metadata": {},
   "outputs": [
    {
     "name": "stderr",
     "output_type": "stream",
     "text": [
      "'pwd'은(는) 내부 또는 외부 명령, 실행할 수 있는 프로그램, 또는\n",
      "배치 파일이 아닙니다.\n"
     ]
    }
   ],
   "source": [
    "!pwd"
   ]
  },
  {
   "cell_type": "code",
   "execution_count": null,
   "id": "19770a46",
   "metadata": {},
   "outputs": [],
   "source": [
    "# . : 현재 위치\n",
    "# .. : 상위 디렉터리 "
   ]
  },
  {
   "cell_type": "markdown",
   "id": "96f0b8ca",
   "metadata": {},
   "source": [
    "### 쓰기"
   ]
  },
  {
   "cell_type": "code",
   "execution_count": 36,
   "id": "b86bdd9b",
   "metadata": {},
   "outputs": [],
   "source": [
    "file = 'test3.txt'\n",
    "f = open(file, 'w', encoding='utf-8')"
   ]
  },
  {
   "cell_type": "code",
   "execution_count": 37,
   "id": "bffb96e1",
   "metadata": {},
   "outputs": [],
   "source": [
    "for i in range(10):\n",
    "    data = f'{i}번째 줄입니다.\\n'\n",
    "    f.write(data)"
   ]
  },
  {
   "cell_type": "code",
   "execution_count": 38,
   "id": "4c8c23b1",
   "metadata": {},
   "outputs": [],
   "source": [
    "f.close()"
   ]
  },
  {
   "cell_type": "code",
   "execution_count": 39,
   "id": "2222f09d",
   "metadata": {},
   "outputs": [],
   "source": [
    "f = open(file, 'a')\n",
    "print('새로운 줄 추가', file=f)# 프린트에서도 간단하게 추가 가능"
   ]
  },
  {
   "cell_type": "code",
   "execution_count": 40,
   "id": "054ac9eb",
   "metadata": {},
   "outputs": [],
   "source": [
    "f.close()"
   ]
  },
  {
   "cell_type": "markdown",
   "id": "7de24635",
   "metadata": {},
   "source": [
    "### 다른 디렉토리에 파일 쓰기\n",
    "- os"
   ]
  },
  {
   "cell_type": "code",
   "execution_count": 41,
   "id": "0fc83144",
   "metadata": {},
   "outputs": [],
   "source": [
    "import os"
   ]
  },
  {
   "cell_type": "code",
   "execution_count": 45,
   "id": "cef1c54a",
   "metadata": {},
   "outputs": [],
   "source": [
    "file= './folder1/test3.txt'\n",
    "f = open(file, 'w', encoding='utf-8')\n",
    "f.close()"
   ]
  },
  {
   "cell_type": "code",
   "execution_count": 44,
   "id": "2a4255e0",
   "metadata": {},
   "outputs": [],
   "source": [
    "# folder 만들고\n",
    "os.mkdir('folder1')\n",
    "# 파일 쓰기"
   ]
  },
  {
   "cell_type": "code",
   "execution_count": null,
   "id": "7c4b8043",
   "metadata": {},
   "outputs": [],
   "source": [
    "# 없을 때 만들어라 \n",
    "if not os.paht.isdir('folder1'):\n",
    "    os.mkdir('folder1')"
   ]
  },
  {
   "cell_type": "code",
   "execution_count": 47,
   "id": "ac9cf969",
   "metadata": {},
   "outputs": [
    {
     "data": {
      "text/plain": [
       "True"
      ]
     },
     "execution_count": 47,
     "metadata": {},
     "output_type": "execute_result"
    }
   ],
   "source": [
    "os.path.exists(file) #assert"
   ]
  },
  {
   "cell_type": "code",
   "execution_count": null,
   "id": "9faa7c23",
   "metadata": {},
   "outputs": [],
   "source": [
    "#참고 파일, 디렉터리 지우고 싶을 때\n",
    "os.remove(file)\n",
    "os.rmdir(dir_name)"
   ]
  },
  {
   "cell_type": "code",
   "execution_count": null,
   "id": "d8cfd95e",
   "metadata": {},
   "outputs": [],
   "source": [
    "# folder: 하위 폴더 새로 만들고\n",
    "# 파일 쓰기: 내용 아무거나\n",
    "# 열기"
   ]
  },
  {
   "cell_type": "code",
   "execution_count": 49,
   "id": "ab55e045",
   "metadata": {},
   "outputs": [],
   "source": [
    "os.mkdir('folder2')"
   ]
  },
  {
   "cell_type": "code",
   "execution_count": 62,
   "id": "58321651",
   "metadata": {},
   "outputs": [],
   "source": [
    "file = './folder2/test4.txt'\n",
    "f = open(file, 'w', encoding='utf-8')\n",
    "f.close()"
   ]
  },
  {
   "cell_type": "code",
   "execution_count": 65,
   "id": "e70c9a86",
   "metadata": {},
   "outputs": [
    {
     "data": {
      "text/plain": [
       "'hello hufs.'"
      ]
     },
     "execution_count": 65,
     "metadata": {},
     "output_type": "execute_result"
    }
   ],
   "source": [
    "with open('./folder2/test4.txt','r') as f:\n",
    "    data = f.readline()\n",
    "    \n",
    "data"
   ]
  },
  {
   "cell_type": "code",
   "execution_count": null,
   "id": "738ac165",
   "metadata": {},
   "outputs": [],
   "source": [
    "os.rmdir('folder1')"
   ]
  },
  {
   "cell_type": "code",
   "execution_count": 67,
   "id": "a299e425",
   "metadata": {},
   "outputs": [],
   "source": [
    "import shutil\n",
    "shutil.rmtree('folder1')"
   ]
  },
  {
   "cell_type": "code",
   "execution_count": 68,
   "id": "a120fd95",
   "metadata": {},
   "outputs": [
    {
     "data": {
      "text/plain": [
       "'C:\\\\Users\\\\Owner'"
      ]
     },
     "execution_count": 68,
     "metadata": {},
     "output_type": "execute_result"
    }
   ],
   "source": [
    "# 상위폴더에 쓰고 싶다. \n",
    "os.getcwd()"
   ]
  },
  {
   "cell_type": "code",
   "execution_count": 69,
   "id": "7bf93c1a",
   "metadata": {},
   "outputs": [],
   "source": [
    "os.chdir('..')"
   ]
  },
  {
   "cell_type": "markdown",
   "id": "1463affc",
   "metadata": {},
   "source": [
    "### pickle\n",
    "- 객체를 저장, 불러들일 수 있다. \n",
    "- 저장: pickle.dump(변수, 파일명)\n",
    "- 열때: 변수명 = pickle.load(파일)"
   ]
  },
  {
   "cell_type": "code",
   "execution_count": 72,
   "id": "f53becc4",
   "metadata": {},
   "outputs": [],
   "source": [
    "import pickle"
   ]
  },
  {
   "cell_type": "code",
   "execution_count": null,
   "id": "b68693e1",
   "metadata": {},
   "outputs": [],
   "source": [
    "f = open('test.pickle', 'wb')\n",
    "pickle.dump(num, f)\n",
    "f.close()"
   ]
  },
  {
   "cell_type": "code",
   "execution_count": 74,
   "id": "06c25eea",
   "metadata": {},
   "outputs": [
    {
     "data": {
      "text/plain": [
       "[0, 1, 2, 3, 4, 5, 6, 7, 8, 9]"
      ]
     },
     "execution_count": 74,
     "metadata": {},
     "output_type": "execute_result"
    }
   ],
   "source": [
    "num = list(range(10))\n",
    "num"
   ]
  },
  {
   "cell_type": "code",
   "execution_count": null,
   "id": "3c504682",
   "metadata": {},
   "outputs": [],
   "source": [
    "with open('test.pickle','rb')as f:\n",
    "    number = pickle.load(f)"
   ]
  },
  {
   "cell_type": "code",
   "execution_count": null,
   "id": "b4fe2efa",
   "metadata": {},
   "outputs": [],
   "source": [
    "number"
   ]
  }
 ],
 "metadata": {
  "kernelspec": {
   "display_name": "Python 3 (ipykernel)",
   "language": "python",
   "name": "python3"
  },
  "language_info": {
   "codemirror_mode": {
    "name": "ipython",
    "version": 3
   },
   "file_extension": ".py",
   "mimetype": "text/x-python",
   "name": "python",
   "nbconvert_exporter": "python",
   "pygments_lexer": "ipython3",
   "version": "3.9.7"
  }
 },
 "nbformat": 4,
 "nbformat_minor": 5
}
